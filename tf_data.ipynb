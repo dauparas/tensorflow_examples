{
  "nbformat": 4,
  "nbformat_minor": 0,
  "metadata": {
    "colab": {
      "name": "tf_data.ipynb",
      "version": "0.3.2",
      "provenance": [],
      "collapsed_sections": [],
      "include_colab_link": true
    },
    "kernelspec": {
      "name": "python3",
      "display_name": "Python 3"
    }
  },
  "cells": [
    {
      "cell_type": "markdown",
      "metadata": {
        "id": "view-in-github",
        "colab_type": "text"
      },
      "source": [
        "<a href=\"https://colab.research.google.com/github/dauparas/tensorflow_examples/blob/master/tf_data.ipynb\" target=\"_parent\"><img src=\"https://colab.research.google.com/assets/colab-badge.svg\" alt=\"Open In Colab\"/></a>"
      ]
    },
    {
      "metadata": {
        "id": "4U6X13-z-AIx",
        "colab_type": "text"
      },
      "cell_type": "markdown",
      "source": [
        "# Linear regression with Tensorflow"
      ]
    },
    {
      "metadata": {
        "id": "KEy15fsY91R_",
        "colab_type": "text"
      },
      "cell_type": "markdown",
      "source": [
        "A simple linear regression example using tf.Data for feeding data."
      ]
    },
    {
      "metadata": {
        "id": "H-zFSs0FbbSL",
        "colab_type": "code",
        "colab": {}
      },
      "cell_type": "code",
      "source": [
        "#Import libraries\n",
        "import numpy as np\n",
        "import tensorflow as tf\n",
        "import matplotlib.pyplot as plt\n",
        "%matplotlib inline\n",
        "plt.style.use('ggplot')"
      ],
      "execution_count": 0,
      "outputs": []
    },
    {
      "metadata": {
        "id": "IvTijQ2Td9rn",
        "colab_type": "code",
        "colab": {}
      },
      "cell_type": "code",
      "source": [
        "#Create some data\n",
        "np.random.seed(0)\n",
        "x = np.random.uniform(0,1,100) \n",
        "y = 1.2*x + 0.1*np.random.randn(x.shape[0])"
      ],
      "execution_count": 0,
      "outputs": []
    },
    {
      "metadata": {
        "id": "NMiIYqrveU_1",
        "colab_type": "code",
        "outputId": "fc68ca99-ea8b-4f10-cb95-7d1d67e2142e",
        "colab": {
          "base_uri": "https://localhost:8080/",
          "height": 265
        }
      },
      "cell_type": "code",
      "source": [
        "#Plot the data\n",
        "plt.scatter(x, y);"
      ],
      "execution_count": 28,
      "outputs": [
        {
          "output_type": "display_data",
          "data": {
            "image/png": "[encoded data removed]",
            "text/plain": [
              "<Figure size 432x288 with 1 Axes>"
            ]
          },
          "metadata": {
            "tags": []
          }
        }
      ]
    },
    {
      "metadata": {
        "id": "1wVUk8XreZpk",
        "colab_type": "code",
        "colab": {}
      },
      "cell_type": "code",
      "source": [
        "#Reset the graph \n",
        "tf.reset_default_graph()\n",
        "\n",
        "#Parameters\n",
        "learning_rate = 0.01\n",
        "batch_size = 10\n",
        "repeat_data = 1\n",
        "n_epochs = 100\n",
        "\n",
        "#Create placeholders\n",
        "LEARNING_RATE = tf.placeholder(tf.float32, shape=[], name='LEARNING_RATE')\n",
        "BATCH_SIZE = tf.placeholder(tf.int64, name='BATCH_SIZE')\n",
        "REPEAT_DATA = tf.placeholder(tf.int64, name='REPEAT_DATA')\n",
        "\n",
        "train_data = (x.astype(np.float32), y.astype(np.float32))\n",
        "train_data = tf.data.Dataset.from_tensor_slices(train_data)\n",
        "train_data = train_data.shuffle(buffer_size=10000)\n",
        "train_data = train_data.repeat(REPEAT_DATA)\n",
        "train_data = train_data.batch(BATCH_SIZE)\n",
        "\n",
        "iterator = tf.data.Iterator.from_structure(train_data.output_types, train_data.output_shapes)\n",
        "X, Y = iterator.get_next()\n",
        "train_init = iterator.make_initializer(train_data)\t# initializer for train_data\n",
        "\n",
        "#Create variables\n",
        "A = tf.get_variable('A', shape=[1], dtype=tf.float32, initializer=tf.random_normal_initializer())\n",
        "B = tf.get_variable('B', shape=[1], dtype=tf.float32, initializer=tf.zeros_initializer())\n",
        "\n",
        "#Create a linear model\n",
        "y_pred = A*X + B\n",
        "\n",
        "#Define a loss function\n",
        "loss = tf.reduce_sum(tf.square(y_pred-Y), axis=0)\n",
        "\n",
        "#Define an optimizer\n",
        "optimizer = tf.train.AdamOptimizer(LEARNING_RATE).minimize(loss)"
      ],
      "execution_count": 0,
      "outputs": []
    },
    {
      "metadata": {
        "id": "9zxjy9n6A577",
        "colab_type": "code",
        "outputId": "3dd4e8a7-a7a7-44d8-c8c8-7b5d13c8d56c",
        "colab": {
          "base_uri": "https://localhost:8080/",
          "height": 221
        }
      },
      "cell_type": "code",
      "source": [
        "#Create a TF session:\n",
        "saver = tf.train.Saver()\n",
        "with tf.Session() as sess:\n",
        "  sess.run(tf.global_variables_initializer())\n",
        "  for i in range(n_epochs):\n",
        "    learning_rate = 0.1 - 0.05*((i+1)/n_epochs) #variable learning rate\n",
        "    batch_size = np.int(2+20*((i+1)/n_epochs)) #variable batch size\n",
        "    sess.run(train_init, feed_dict={BATCH_SIZE: batch_size, REPEAT_DATA: repeat_data})\n",
        "    total_loss = 0\n",
        "    n_batches = 0\n",
        "    try:\n",
        "      while True:\n",
        "        _, batch_loss = sess.run([optimizer, loss], feed_dict={LEARNING_RATE: learning_rate})\n",
        "        total_loss += batch_loss\n",
        "        n_batches += 1\n",
        "    except tf.errors.OutOfRangeError:\n",
        "      pass\n",
        "    if (i+1)% 10 == 0 or i == 0:\n",
        "      print('Epoch: {0}, Loss: {1}'.format((i+1), total_loss))\n",
        "    a, b = sess.run([A, B])\n",
        "  save_path = saver.save(sess, \"./tmp/linear.ckpt\")\n",
        "  print(\"Model saved in path: %s\" % save_path)"
      ],
      "execution_count": 30,
      "outputs": [
        {
          "output_type": "stream",
          "text": [
            "Epoch: 1, Loss: 29.182401387020946\n",
            "Epoch: 10, Loss: 1.0496610403060913\n",
            "Epoch: 20, Loss: 1.09869724791497\n",
            "Epoch: 30, Loss: 1.0064367316663265\n",
            "Epoch: 40, Loss: 1.032932123169303\n",
            "Epoch: 50, Loss: 1.092374186962843\n",
            "Epoch: 60, Loss: 1.3093737363815308\n",
            "Epoch: 70, Loss: 1.440146267414093\n",
            "Epoch: 80, Loss: 1.0578739196062088\n",
            "Epoch: 90, Loss: 1.0237897485494614\n",
            "Epoch: 100, Loss: 1.0276433676481247\n",
            "Model saved in path: ./tmp/linear.ckpt\n"
          ],
          "name": "stdout"
        }
      ]
    },
    {
      "metadata": {
        "id": "AoJHhvm_F9-w",
        "colab_type": "code",
        "outputId": "d5af9572-d404-449f-8c92-66dfe71541c9",
        "colab": {
          "base_uri": "https://localhost:8080/",
          "height": 282
        }
      },
      "cell_type": "code",
      "source": [
        "plt.scatter(x, y);\n",
        "plt.scatter(x, a*x+b);\n",
        "print(a, b)"
      ],
      "execution_count": 31,
      "outputs": [
        {
          "output_type": "stream",
          "text": [
            "[1.2055532] [0.02351702]\n"
          ],
          "name": "stdout"
        },
        {
          "output_type": "display_data",
          "data": {
            "image/png": "[encoded data removed]",
            "text/plain": [
              "<Figure size 432x288 with 1 Axes>"
            ]
          },
          "metadata": {
            "tags": []
          }
        }
      ]
    },
    {
      "metadata": {
        "id": "JTvuUwCpHSJU",
        "colab_type": "code",
        "outputId": "d0f12390-ee11-4b07-f3f1-79dff4d61e74",
        "colab": {
          "base_uri": "https://localhost:8080/",
          "height": 85
        }
      },
      "cell_type": "code",
      "source": [
        "tf.reset_default_graph()\n",
        "\n",
        "# Create some variables.\n",
        "A = tf.get_variable('A', shape=[1], dtype=tf.float32)\n",
        "B = tf.get_variable('B', shape=[1], dtype=tf.float32)\n",
        "\n",
        "# Add ops to save and restore all the variables.\n",
        "saver = tf.train.Saver()\n",
        "\n",
        "# Later, launch the model, use the saver to restore variables from disk, and\n",
        "# do some work with the model.\n",
        "with tf.Session() as sess:\n",
        "  # Restore variables from disk.\n",
        "  saver.restore(sess, \"./tmp/linear.ckpt\")\n",
        "  print(\"Model restored.\")\n",
        "  # Check the values of the variables\n",
        "  print(\"A : %s\" % A.eval())\n",
        "  print(\"B : %s\" % B.eval())"
      ],
      "execution_count": 32,
      "outputs": [
        {
          "output_type": "stream",
          "text": [
            "INFO:tensorflow:Restoring parameters from ./tmp/linear.ckpt\n",
            "Model restored.\n",
            "A : [1.2055532]\n",
            "B : [0.02351702]\n"
          ],
          "name": "stdout"
        }
      ]
    },
    {
      "metadata": {
        "id": "oC_pi0bwLETM",
        "colab_type": "code",
        "colab": {}
      },
      "cell_type": "code",
      "source": [
        ""
      ],
      "execution_count": 0,
      "outputs": []
    }
  ]
}