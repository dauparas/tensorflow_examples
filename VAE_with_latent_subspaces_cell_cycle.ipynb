{
  "nbformat": 4,
  "nbformat_minor": 0,
  "metadata": {
    "colab": {
      "name": "VAE_with_latent_subspaces_cell_cycle.ipynb",
      "version": "0.3.2",
      "provenance": [],
      "collapsed_sections": [],
      "toc_visible": true,
      "include_colab_link": true
    },
    "kernelspec": {
      "name": "python3",
      "display_name": "Python 3"
    },
    "accelerator": "GPU"
  },
  "cells": [
    {
      "cell_type": "markdown",
      "metadata": {
        "id": "view-in-github",
        "colab_type": "text"
      },
      "source": [
        "<a href=\"https://colab.research.google.com/github/dauparas/tensorflow_examples/blob/master/VAE_with_latent_subspaces_cell_cycle.ipynb\" target=\"_parent\"><img src=\"https://colab.research.google.com/assets/colab-badge.svg\" alt=\"Open In Colab\"/></a>"
      ]
    },
    {
      "cell_type": "markdown",
      "metadata": {
        "id": "cF-I3eoGGh1E",
        "colab_type": "text"
      },
      "source": [
        "https://github.com/PMBio/scLVM/blob/master/tutorials/tcell_demo.ipynb"
      ]
    },
    {
      "cell_type": "markdown",
      "metadata": {
        "id": "pXQG7VtQVk6Z",
        "colab_type": "text"
      },
      "source": [
        "Variational Autoencoder Model (VAE) with latent subspaces based on:\n",
        "https://arxiv.org/pdf/1812.06190.pdf"
      ]
    },
    {
      "cell_type": "code",
      "metadata": {
        "id": "bL6BBloIUobY",
        "colab_type": "code",
        "colab": {}
      },
      "source": [
        "#Step 1: import dependencies\n",
        "from tensorflow.keras import layers\n",
        "import numpy as np\n",
        "import matplotlib.pyplot as plt\n",
        "import seaborn as sns\n",
        "import tensorflow as tf\n",
        "from keras import regularizers\n",
        "import time\n",
        "from __future__ import division\n",
        "\n",
        "import tensorflow as tf\n",
        "import tensorflow_probability as tfp\n",
        "tfd = tfp.distributions\n",
        "\n",
        "%matplotlib inline\n",
        "plt.style.use('dark_background')\n",
        "\n",
        "import pandas as pd"
      ],
      "execution_count": 0,
      "outputs": []
    },
    {
      "cell_type": "code",
      "metadata": {
        "id": "vabGonnvuhAq",
        "colab_type": "code",
        "colab": {}
      },
      "source": [
        "# import os\n",
        "# from matplotlib import cm\n",
        "# import h5py\n",
        "# import scipy as SP\n",
        "# import pylab as PL"
      ],
      "execution_count": 0,
      "outputs": []
    },
    {
      "cell_type": "markdown",
      "metadata": {
        "id": "jyzIEuwQNyDf",
        "colab_type": "text"
      },
      "source": [
        "--------\n",
        "--------"
      ]
    },
    {
      "cell_type": "markdown",
      "metadata": {
        "id": "KpDfM_CqN9Qb",
        "colab_type": "text"
      },
      "source": [
        "https://www.ncbi.nlm.nih.gov/geo/query/acc.cgi?acc=GSE69405\n"
      ]
    },
    {
      "cell_type": "code",
      "metadata": {
        "id": "WL0X1IQsN_A2",
        "colab_type": "code",
        "colab": {}
      },
      "source": [
        "df1 = pd.read_csv(\"GSE69405_PROCESSED_GENE_TPM_ALL.txt\",delimiter=\"\\t\")"
      ],
      "execution_count": 0,
      "outputs": []
    },
    {
      "cell_type": "code",
      "metadata": {
        "id": "sVmmRACB03sF",
        "colab_type": "code",
        "colab": {}
      },
      "source": [
        "df2 = pd.read_csv('geneset.txt', delimiter='\\t')"
      ],
      "execution_count": 0,
      "outputs": []
    },
    {
      "cell_type": "code",
      "metadata": {
        "colab_type": "code",
        "id": "lF8e_sDcTHND",
        "colab": {}
      },
      "source": [
        "geneset_ids = df2['KEGG_CELL_CYCLE'].values  #http://software.broadinstitute.org/gsea/msigdb/cards/KEGG_CELL_CYCLE\n",
        "gene_ids = df1['gene_name'].values"
      ],
      "execution_count": 0,
      "outputs": []
    },
    {
      "cell_type": "code",
      "metadata": {
        "id": "I3QZ56a1To8T",
        "colab_type": "code",
        "colab": {}
      },
      "source": [
        "list_a = []\n",
        "for i in geneset_ids:\n",
        "  a = np.asarray(np.argwhere(gene_ids == i))\n",
        "  list_a.append(a)"
      ],
      "execution_count": 0,
      "outputs": []
    },
    {
      "cell_type": "code",
      "metadata": {
        "id": "uU6GS1xj47qm",
        "colab_type": "code",
        "colab": {}
      },
      "source": [
        "flat_list = []\n",
        "for sublist in list_a:\n",
        "    for item in sublist:\n",
        "        flat_list.append(item)\n",
        "        \n",
        "flat_list = np.squeeze(np.array(flat_list))\n",
        "\n",
        "cell_cycle_ids = flat_list"
      ],
      "execution_count": 0,
      "outputs": []
    },
    {
      "cell_type": "code",
      "metadata": {
        "id": "TfG-R9aB_HLa",
        "colab_type": "code",
        "colab": {}
      },
      "source": [
        "X_H358 = df1.loc[:, df1.columns.str.startswith('H358_SC')].values\n",
        "X_LC_MBT = df1.loc[:, df1.columns.str.startswith('LC-MBT-15_SC')].values\n",
        "X_LC_PT = df1.loc[:, df1.columns.str.startswith('LC-PT-45_SC')].values\n",
        "X_LC_PT_Re = df1.loc[:, df1.columns.str.startswith('LC-PT-45-Re_SC')].values"
      ],
      "execution_count": 0,
      "outputs": []
    },
    {
      "cell_type": "code",
      "metadata": {
        "id": "2EoHmEpq_aKF",
        "colab_type": "code",
        "outputId": "78db97c2-0d68-433e-835f-72395d3541a5",
        "colab": {
          "base_uri": "https://localhost:8080/",
          "height": 34
        }
      },
      "source": [
        "print(X_H358.shape, X_LC_MBT.shape, X_LC_PT.shape, X_LC_PT_Re.shape)"
      ],
      "execution_count": 100,
      "outputs": [
        {
          "output_type": "stream",
          "text": [
            "(57820, 50) (57820, 49) (57820, 34) (57820, 43)\n"
          ],
          "name": "stdout"
        }
      ]
    },
    {
      "cell_type": "code",
      "metadata": {
        "id": "ZHmw9pJZCXl4",
        "colab_type": "code",
        "colab": {}
      },
      "source": [
        "Y_0 = 0*np.ones(X_H358.shape[1])\n",
        "Y_1= 1*np.ones(X_LC_MBT.shape[1])\n",
        "Y_2 = 2*np.ones(X_LC_PT.shape[1])\n",
        "Y_3 = 3*np.ones(X_LC_PT_Re.shape[1])"
      ],
      "execution_count": 0,
      "outputs": []
    },
    {
      "cell_type": "code",
      "metadata": {
        "id": "YyH4V2lTD-tm",
        "colab_type": "code",
        "colab": {}
      },
      "source": [
        "Y = np.concatenate([Y_0, Y_1, Y_2, Y_3], axis=0)"
      ],
      "execution_count": 0,
      "outputs": []
    },
    {
      "cell_type": "markdown",
      "metadata": {
        "id": "1DPdIblx72yw",
        "colab_type": "text"
      },
      "source": [
        "Remove cell cycle genes"
      ]
    },
    {
      "cell_type": "code",
      "metadata": {
        "id": "PlUi3Elk76wS",
        "colab_type": "code",
        "colab": {
          "base_uri": "https://localhost:8080/",
          "height": 68
        },
        "outputId": "6afc52f3-b8e2-4622-db7f-3305646ad7c8"
      },
      "source": [
        "X = np.concatenate([X_H358, X_LC_MBT, X_LC_PT, X_LC_PT_Re], axis=-1)\n",
        "X = X.T\n",
        "U = X[:, cell_cycle_ids]\n",
        "X = np.delete(X, cell_cycle_ids, axis=-1)\n",
        "print(X.shape)\n",
        "print(U.shape)\n",
        "print(Y.shape)"
      ],
      "execution_count": 122,
      "outputs": [
        {
          "output_type": "stream",
          "text": [
            "(176, 57695)\n",
            "(176, 125)\n",
            "(176,)\n"
          ],
          "name": "stdout"
        }
      ]
    },
    {
      "cell_type": "markdown",
      "metadata": {
        "id": "YaUIQDqqN1Fs",
        "colab_type": "text"
      },
      "source": [
        "-----\n",
        "-----"
      ]
    },
    {
      "cell_type": "code",
      "metadata": {
        "id": "c67eDerA50oQ",
        "colab_type": "code",
        "outputId": "a6684919-1cec-4042-f74f-a10f77545a56",
        "colab": {
          "base_uri": "https://localhost:8080/",
          "height": 34
        }
      },
      "source": [
        "fano = variance/mean\n",
        "\n",
        "print(fano.shape)"
      ],
      "execution_count": 0,
      "outputs": [
        {
          "output_type": "stream",
          "text": [
            "(30233,)\n"
          ],
          "name": "stdout"
        }
      ]
    },
    {
      "cell_type": "code",
      "metadata": {
        "id": "cWicK7mu6OqQ",
        "colab_type": "code",
        "colab": {}
      },
      "source": [
        "indx_small_fano = np.argwhere(fano < 1.0)"
      ],
      "execution_count": 0,
      "outputs": []
    },
    {
      "cell_type": "code",
      "metadata": {
        "id": "gqCp8-x-6isu",
        "colab_type": "code",
        "colab": {}
      },
      "source": [
        "X = np.delete(X, indx_small_fano, axis=1)\n",
        "\n",
        "mean = np.mean(X, axis=0)\n",
        "variance = np.var(X, axis=0)\n",
        "\n",
        "fano = variance/mean"
      ],
      "execution_count": 0,
      "outputs": []
    },
    {
      "cell_type": "code",
      "metadata": {
        "id": "R8sO_eVINycy",
        "colab_type": "code",
        "outputId": "cf377939-9de5-4330-b6ca-4b43fd5c1fdd",
        "colab": {
          "base_uri": "https://localhost:8080/",
          "height": 34
        }
      },
      "source": [
        "print(fano.shape)"
      ],
      "execution_count": 0,
      "outputs": [
        {
          "output_type": "stream",
          "text": [
            "(8892,)\n"
          ],
          "name": "stdout"
        }
      ]
    },
    {
      "cell_type": "code",
      "metadata": {
        "id": "4E1cgAP9UtB_",
        "colab_type": "code",
        "colab": {}
      },
      "source": [
        "#Reconstruction loss\n",
        "def x_given_w_z(w, z, output_size):\n",
        "  with tf.variable_scope('M/x_given_w_z'):\n",
        "    act = tf.nn.leaky_relu\n",
        "    \n",
        "    h = tf.concat((w,z), axis=-1)\n",
        "    h = tf.layers.dense(h, 8, act)\n",
        "    h = tf.layers.dense(h, 16, act)\n",
        "    h = tf.layers.dense(h, 32, act)\n",
        "    h = tf.layers.dense(h, 64, act)\n",
        "    h = tf.layers.dense(h, 128, act)\n",
        "    h = tf.layers.dense(h, 256, act)\n",
        "    loc = tf.layers.dense(h, output_size)\n",
        "    #log_variance = tf.layers.dense(x, latent_size)\n",
        "    #scale = tf.nn.softplus(log_variance)\n",
        "    scale = 0.01*tf.ones(tf.shape(loc))\n",
        "    return tfd.MultivariateNormalDiag(loc, scale)\n",
        "\n",
        "\n",
        "#KL term for w\n",
        "def w_given_x_y(x, y, latent_size): #+\n",
        "  with tf.variable_scope('M/w_given_x_y'):\n",
        "    act = tf.nn.leaky_relu\n",
        "    h = tf.concat((x,y), axis=-1)\n",
        "    \n",
        "    h = tf.layers.dense(h, 256, act)\n",
        "    h = tf.layers.dense(h, 128, act)\n",
        "    h = tf.layers.dense(h, 64, act)\n",
        "    h = tf.layers.dense(h, 32, act)\n",
        "    h = tf.layers.dense(h, 16, act)\n",
        "    h = tf.layers.dense(h, 8, act)\n",
        "    \n",
        "    loc = tf.layers.dense(h,latent_size)\n",
        "    log_variance = tf.layers.dense(h, latent_size)\n",
        "    scale = tf.nn.softplus(log_variance)\n",
        "    #scale = 0.01*tf.ones(tf.shape(loc))\n",
        "    return tfd.MultivariateNormalDiag(loc, scale)\n",
        "\n",
        "def w_given_y(y, y_size):\n",
        "  with tf.variable_scope('M/w_given_y'):\n",
        "    act = tf.nn.leaky_relu\n",
        "    h = y\n",
        "    \n",
        "    h = tf.layers.dense(h, 256, act)\n",
        "    h = tf.layers.dense(h, 128, act)\n",
        "    h = tf.layers.dense(h, 64, act)\n",
        "    h = tf.layers.dense(h, 32, act)\n",
        "    h = tf.layers.dense(h, 16, act)\n",
        "    h = tf.layers.dense(h, 8, act)\n",
        "    \n",
        "    loc = tf.layers.dense(h, y_size)\n",
        "    log_variance = tf.layers.dense(h, y_size)\n",
        "    scale = tf.nn.softplus(log_variance)\n",
        "    return tfd.MultivariateNormalDiag(loc, scale)\n",
        "\n",
        "\n",
        "#KL term for z\n",
        "def z_given_x(x, latent_size): #+\n",
        "  with tf.variable_scope('M/z_given_x'):\n",
        "    act = tf.nn.leaky_relu\n",
        "    h = x\n",
        "    \n",
        "    h = tf.layers.dense(h, 256, act)\n",
        "    h = tf.layers.dense(h, 128, act)\n",
        "    h = tf.layers.dense(h, 64, act)\n",
        "    h = tf.layers.dense(h, 32, act)\n",
        "    h = tf.layers.dense(h, 16, act)\n",
        "    h = tf.layers.dense(h, 8, act)\n",
        "    \n",
        "    loc = tf.layers.dense(h,latent_size)\n",
        "    log_variance = tf.layers.dense(h, latent_size)\n",
        "    scale = tf.nn.softplus(log_variance)\n",
        "#     scale = 0.01*tf.ones(tf.shape(loc))\n",
        "    return tfd.MultivariateNormalDiag(loc, scale)\n",
        "\n",
        "def z_given(latent_size):\n",
        "  with tf.variable_scope('M/z_given'):\n",
        "    loc = tf.zeros(latent_size)\n",
        "    scale = 0.01*tf.ones(tf.shape(loc))\n",
        "    return tfd.MultivariateNormalDiag(loc, scale)\n",
        "\n",
        "\n",
        "#For the Mutual information term\n",
        "def y_given_z(z, y_size, reuse=None):\n",
        "  with tf.variable_scope('N', reuse=reuse):\n",
        "    act = tf.nn.leaky_relu\n",
        "    h = z\n",
        "    \n",
        "    h = tf.layers.dense(h, 15, act)\n",
        "    h = tf.layers.dense(h, 30, act)\n",
        "    h = tf.layers.dense(h, 60, act)\n",
        "    h = tf.layers.dense(h, 70, act)\n",
        "    h = tf.layers.dense(h, 80, act)\n",
        "    \n",
        "    loc = tf.layers.dense(h, y_size)\n",
        "    log_variance = tf.layers.dense(h, y_size)\n",
        "    scale = tf.nn.softplus(log_variance)\n",
        "    #scale = 0.01*tf.ones(tf.shape(loc))\n",
        "    return tfd.MultivariateNormalDiag(loc, scale)"
      ],
      "execution_count": 0,
      "outputs": []
    },
    {
      "cell_type": "code",
      "metadata": {
        "id": "6cz7pGYjU6Mo",
        "colab_type": "code",
        "colab": {}
      },
      "source": [
        "#Connect encoder and decoder and define the loss function\n",
        "tf.reset_default_graph()\n",
        "\n",
        "x_in = tf.placeholder(tf.float32, shape=[None, X.shape[1]], name='x_in')\n",
        "x_out = tf.placeholder(tf.float32, shape=[None, X.shape[1]], name='x_out')\n",
        "u_in = tf.placeholder(tf.float32, shape=[None, 887], name='u_in')\n",
        "\n",
        "\n",
        "beta = np.array([1.0, 0.0001, 0.00001, 0.0001, 0.0001])\n",
        "#beta= np.array([2000.0, 1.0, 0.2, 10.0, 1.0])\n",
        "\n",
        "z_latent_size = 3\n",
        "w_latent_size = 2\n",
        "\n",
        "M_learning_rate = 7e-4\n",
        "N_learning_rate = 7e-4\n",
        "\n",
        "#KL_w\n",
        "wIy = w_given_y(u_in, w_latent_size)\n",
        "wIxy = w_given_x_y(x_in, u_in, w_latent_size)\n",
        "wIxy_sample = wIxy.sample()\n",
        "wIxy_mean = wIxy.mean()\n",
        "kl_w = tf.reduce_mean(wIxy.log_prob(wIxy_sample)- wIy.log_prob(wIxy_sample))\n",
        "#kl_w = tf.reduce_mean(tfd.kl_divergence(wIxy, wIy)) #analytical\n",
        "\n",
        "#KL_z\n",
        "zI = z_given(z_latent_size)\n",
        "zIx = z_given_x(x_in, z_latent_size)\n",
        "zIx_sample = zIx.sample()\n",
        "zIx_mean = zIx.mean()\n",
        "kl_z = tf.reduce_mean(zIx.log_prob(zIx_sample)- zI.log_prob(zIx_sample))\n",
        "#kl_z = tf.reduce_mean(tfd.kl_divergence(zIx, zI)) #analytical\n",
        "\n",
        "\n",
        "#Reconstruction\n",
        "xIwz = x_given_w_z(wIxy_sample, zIx_sample, X.shape[1])\n",
        "rec_out = xIwz.mean()\n",
        "rec_loss = tf.losses.mean_squared_error(x_out, rec_out)\n",
        "\n",
        "M1 = beta[0]*rec_loss + beta[1]*kl_w + beta[2]*kl_z\n",
        "\n",
        "yIz = y_given_z(zIx_sample, U.shape[1], reuse=False)\n",
        "ent2 = -tf.reduce_mean(-yIz.entropy())\n",
        "M2 = beta[3]*ent2\n",
        "\n",
        "M_cost = M1 + M2\n",
        "\n",
        "M_optimizer = tf.train.AdamOptimizer(M_learning_rate)\n",
        "\n",
        "M_train_vars = tf.get_collection(tf.GraphKeys.GLOBAL_VARIABLES, scope='M/')\n",
        "M_update_ops = tf.get_collection(tf.GraphKeys.UPDATE_OPS, scope='M/')\n",
        "\n",
        "with tf.control_dependencies(M_update_ops):\n",
        "  M_train = M_optimizer.minimize(M_cost, var_list=M_train_vars,\n",
        "                                       name='train_M')\n",
        "\n",
        "  \n",
        "yIz_N = y_given_z(zIx_sample, U.shape[1], reuse=True)\n",
        "logN = tf.reduce_mean(-yIz_N.log_prob(u_in))\n",
        "N = beta[4]*logN\n",
        "\n",
        "N_cost = N\n",
        "\n",
        "N_optimizer = tf.train.AdamOptimizer(N_learning_rate)\n",
        "\n",
        "N_train_vars = tf.get_collection(tf.GraphKeys.GLOBAL_VARIABLES, scope='N')\n",
        "N_update_ops = tf.get_collection(tf.GraphKeys.UPDATE_OPS, scope='N')\n",
        "\n",
        "with tf.control_dependencies(N_update_ops):\n",
        "  N_train = N_optimizer.minimize(N_cost, var_list=N_train_vars,\n",
        "                                       name='train_N')\n",
        "\n",
        "# Saver to save session for reuse\n",
        "saver = tf.train.Saver()"
      ],
      "execution_count": 0,
      "outputs": []
    },
    {
      "cell_type": "code",
      "metadata": {
        "id": "oVaO0RxsY7Ht",
        "colab_type": "code",
        "colab": {}
      },
      "source": [
        "#Helper function\n",
        "def batch_generator(features, x, u, batch_size):\n",
        "  \"\"\"Function to create python generator to shuffle and split features into batches along the first dimension.\"\"\"\n",
        "  idx = np.arange(features.shape[0])\n",
        "  np.random.shuffle(idx)\n",
        "  for start_idx in range(0, features.shape[0], batch_size):\n",
        "    end_idx = min(start_idx + batch_size, features.shape[0])\n",
        "    part = idx[start_idx:end_idx]\n",
        "    yield features[part,:], x[part,:] , u[part, :]"
      ],
      "execution_count": 0,
      "outputs": []
    },
    {
      "cell_type": "code",
      "metadata": {
        "id": "Gm1vfi3hYzuK",
        "colab_type": "code",
        "outputId": "f6873c26-59a0-4a29-c004-cfc2ee234124",
        "colab": {
          "base_uri": "https://localhost:8080/",
          "height": 1000
        }
      },
      "source": [
        "n_epochs = 5000\n",
        "batch_size = X.shape[0]//2\n",
        "start = time.time()\n",
        "with tf.Session() as sess:\n",
        "  sess.run(tf.global_variables_initializer())\n",
        "  \n",
        "  \n",
        "  for i in range(n_epochs):\n",
        "    gen = batch_generator(X, X, U, batch_size) #create batch generator\n",
        "    M_loss = 0\n",
        "    N_loss = 0\n",
        "    rec_loss_ = 0\n",
        "    kl_w_ = 0\n",
        "    kl_z_ = 0\n",
        "    M1_ = 0\n",
        "    M2_ = 0\n",
        "    ent2_ = 0\n",
        "    logN_ = 0\n",
        "    \n",
        "    for j in range(np.int(X.shape[0]/batch_size)):\n",
        "      x_in_batch, x_out_batch, u_batch = gen.__next__()\n",
        "      \n",
        "      \n",
        "      _, M_loss_, rec_loss__, kl_w__, kl_z__, M1__, ent2__, M2__= sess.run([M_train, M_cost, rec_loss, kl_w, kl_z, M1, ent2, M2], feed_dict={x_in: x_in_batch, x_out: x_out_batch, u_in: u_batch})\n",
        "      M_loss += M_loss_\n",
        "      rec_loss_ += rec_loss__\n",
        "      kl_w_ += kl_w__\n",
        "      kl_z_ += kl_z__\n",
        "      M1_ += M1__\n",
        "      M2_ += M2__\n",
        "      \n",
        "      _, N_loss_, logN__= sess.run([N_train, N_cost, logN], feed_dict={x_in: x_in_batch, x_out: x_out_batch, u_in: u_batch})\n",
        "      N_loss += N_loss_\n",
        "      logN_ += logN__\n",
        "      \n",
        "      \n",
        "    if (i+1)% 50 == 0 or i == 0:\n",
        "      wIxy_mean_, zIx_mean_, rec_out_= sess.run([wIxy_mean, zIx_mean, rec_out], feed_dict ={x_in:X, x_out:X, u_in:U})\n",
        "      end = time.time()\n",
        "      print('epoch: {0}, M_loss: {1:.1f}, M1_loss: {2:.1f}, M2_loss: {3:.1f}, N_loss: {4:.2f}'.format((i+1), M_loss/(1+np.int(X.shape[0]/batch_size)), M1_/(1+np.int(X.shape[0]/batch_size)), M2_/(1+np.int(X.shape[0]/batch_size)), N_loss_/(1+np.int(X.shape[0]/batch_size))))\n",
        "      print('epoch: {0}, rec_loss: {1:.3f}, kl_w: {2:.2f}, kl_z: {3:.2f}'.format((i+1), rec_loss_/(1+np.int(X.shape[0]/batch_size)), kl_w_/(1+np.int(X.shape[0]/batch_size)), kl_z_/(1+np.int(X.shape[0]/batch_size))))\n",
        "      start = time.time()"
      ],
      "execution_count": 0,
      "outputs": [
        {
          "output_type": "stream",
          "text": [
            "epoch: 1, M_loss: 0.9, M1_loss: 0.8, M2_loss: 0.1, N_loss: 0.13\n",
            "epoch: 1, rec_loss: 0.655, kl_w: 16.11, kl_z: 13706.45\n",
            "epoch: 50, M_loss: 0.4, M1_loss: 0.3, M2_loss: 0.1, N_loss: 0.04\n",
            "epoch: 50, rec_loss: 0.335, kl_w: 5.23, kl_z: 255.37\n",
            "epoch: 100, M_loss: 0.4, M1_loss: 0.3, M2_loss: 0.1, N_loss: 0.04\n",
            "epoch: 100, rec_loss: 0.317, kl_w: 4.22, kl_z: 72.73\n",
            "epoch: 150, M_loss: 0.4, M1_loss: 0.3, M2_loss: 0.1, N_loss: 0.04\n",
            "epoch: 150, rec_loss: 0.298, kl_w: 5.25, kl_z: 46.17\n",
            "epoch: 200, M_loss: 0.4, M1_loss: 0.3, M2_loss: 0.1, N_loss: 0.04\n",
            "epoch: 200, rec_loss: 0.280, kl_w: 6.71, kl_z: 20.82\n",
            "epoch: 250, M_loss: 0.3, M1_loss: 0.3, M2_loss: 0.1, N_loss: 0.04\n",
            "epoch: 250, rec_loss: 0.272, kl_w: 5.21, kl_z: 20.80\n",
            "epoch: 300, M_loss: 0.3, M1_loss: 0.3, M2_loss: 0.1, N_loss: 0.04\n",
            "epoch: 300, rec_loss: 0.258, kl_w: 6.43, kl_z: 27.80\n",
            "epoch: 350, M_loss: 0.3, M1_loss: 0.3, M2_loss: 0.1, N_loss: 0.04\n",
            "epoch: 350, rec_loss: 0.250, kl_w: 7.64, kl_z: 52.21\n",
            "epoch: 400, M_loss: 0.3, M1_loss: 0.3, M2_loss: 0.1, N_loss: 0.04\n",
            "epoch: 400, rec_loss: 0.250, kl_w: 7.86, kl_z: 114.18\n",
            "epoch: 450, M_loss: 0.3, M1_loss: 0.2, M2_loss: 0.1, N_loss: 0.04\n",
            "epoch: 450, rec_loss: 0.238, kl_w: 7.47, kl_z: 18.22\n",
            "epoch: 500, M_loss: 0.3, M1_loss: 0.2, M2_loss: 0.1, N_loss: 0.04\n",
            "epoch: 500, rec_loss: 0.230, kl_w: 16.22, kl_z: 13.55\n",
            "epoch: 550, M_loss: 0.3, M1_loss: 0.2, M2_loss: 0.1, N_loss: 0.03\n",
            "epoch: 550, rec_loss: 0.212, kl_w: 13.11, kl_z: 15.33\n",
            "epoch: 600, M_loss: 0.3, M1_loss: 0.2, M2_loss: 0.1, N_loss: 0.04\n",
            "epoch: 600, rec_loss: 0.194, kl_w: 12.09, kl_z: 11.29\n",
            "epoch: 650, M_loss: 0.3, M1_loss: 0.2, M2_loss: 0.1, N_loss: 0.04\n",
            "epoch: 650, rec_loss: 0.195, kl_w: 9.97, kl_z: 19.57\n",
            "epoch: 700, M_loss: 0.2, M1_loss: 0.2, M2_loss: 0.1, N_loss: 0.04\n",
            "epoch: 700, rec_loss: 0.173, kl_w: 9.38, kl_z: 15.53\n",
            "epoch: 750, M_loss: 0.2, M1_loss: 0.2, M2_loss: 0.1, N_loss: 0.04\n",
            "epoch: 750, rec_loss: 0.166, kl_w: 10.21, kl_z: 16.65\n",
            "epoch: 800, M_loss: 0.2, M1_loss: 0.2, M2_loss: 0.1, N_loss: 0.03\n",
            "epoch: 800, rec_loss: 0.168, kl_w: 9.52, kl_z: 21.25\n",
            "epoch: 850, M_loss: 0.2, M1_loss: 0.2, M2_loss: 0.1, N_loss: 0.04\n",
            "epoch: 850, rec_loss: 0.150, kl_w: 8.22, kl_z: 15.68\n",
            "epoch: 900, M_loss: 0.2, M1_loss: 0.1, M2_loss: 0.1, N_loss: 0.04\n",
            "epoch: 900, rec_loss: 0.148, kl_w: 8.51, kl_z: 17.03\n",
            "epoch: 950, M_loss: 0.2, M1_loss: 0.1, M2_loss: 0.1, N_loss: 0.04\n",
            "epoch: 950, rec_loss: 0.141, kl_w: 8.22, kl_z: 13.46\n",
            "epoch: 1000, M_loss: 0.2, M1_loss: 0.1, M2_loss: 0.1, N_loss: 0.03\n",
            "epoch: 1000, rec_loss: 0.126, kl_w: 11.58, kl_z: 16.30\n",
            "epoch: 1050, M_loss: 0.2, M1_loss: 0.1, M2_loss: 0.1, N_loss: 0.03\n",
            "epoch: 1050, rec_loss: 0.137, kl_w: 9.78, kl_z: 23.17\n",
            "epoch: 1100, M_loss: 0.2, M1_loss: 0.1, M2_loss: 0.1, N_loss: 0.03\n",
            "epoch: 1100, rec_loss: 0.115, kl_w: 8.27, kl_z: 19.73\n",
            "epoch: 1150, M_loss: 0.2, M1_loss: 0.1, M2_loss: 0.1, N_loss: 0.03\n",
            "epoch: 1150, rec_loss: 0.109, kl_w: 15.77, kl_z: 18.09\n",
            "epoch: 1200, M_loss: 0.2, M1_loss: 0.1, M2_loss: 0.1, N_loss: 0.04\n",
            "epoch: 1200, rec_loss: 0.105, kl_w: 8.95, kl_z: 23.59\n",
            "epoch: 1250, M_loss: 0.2, M1_loss: 0.1, M2_loss: 0.1, N_loss: 0.04\n",
            "epoch: 1250, rec_loss: 0.105, kl_w: 10.23, kl_z: 16.08\n",
            "epoch: 1300, M_loss: 0.2, M1_loss: 0.1, M2_loss: 0.1, N_loss: 0.03\n",
            "epoch: 1300, rec_loss: 0.089, kl_w: 7.69, kl_z: 17.16\n",
            "epoch: 1350, M_loss: 0.2, M1_loss: 0.1, M2_loss: 0.1, N_loss: 0.03\n",
            "epoch: 1350, rec_loss: 0.084, kl_w: 8.69, kl_z: 14.83\n",
            "epoch: 1400, M_loss: 0.2, M1_loss: 0.1, M2_loss: 0.1, N_loss: 0.04\n",
            "epoch: 1400, rec_loss: 0.085, kl_w: 8.80, kl_z: 17.74\n",
            "epoch: 1450, M_loss: 0.1, M1_loss: 0.1, M2_loss: 0.1, N_loss: 0.04\n",
            "epoch: 1450, rec_loss: 0.079, kl_w: 7.77, kl_z: 19.46\n",
            "epoch: 1500, M_loss: 0.1, M1_loss: 0.1, M2_loss: 0.1, N_loss: 0.03\n",
            "epoch: 1500, rec_loss: 0.071, kl_w: 7.71, kl_z: 23.56\n",
            "epoch: 1550, M_loss: 0.1, M1_loss: 0.1, M2_loss: 0.1, N_loss: 0.03\n",
            "epoch: 1550, rec_loss: 0.073, kl_w: 9.04, kl_z: 24.72\n",
            "epoch: 1600, M_loss: 0.1, M1_loss: 0.1, M2_loss: 0.1, N_loss: 0.03\n",
            "epoch: 1600, rec_loss: 0.064, kl_w: 8.59, kl_z: 24.38\n",
            "epoch: 1650, M_loss: 0.1, M1_loss: 0.1, M2_loss: 0.1, N_loss: 0.03\n",
            "epoch: 1650, rec_loss: 0.059, kl_w: 7.50, kl_z: 23.03\n",
            "epoch: 1700, M_loss: 0.1, M1_loss: 0.1, M2_loss: 0.1, N_loss: 0.03\n",
            "epoch: 1700, rec_loss: 0.069, kl_w: 8.32, kl_z: 26.73\n",
            "epoch: 1750, M_loss: 0.1, M1_loss: 0.1, M2_loss: 0.1, N_loss: 0.03\n",
            "epoch: 1750, rec_loss: 0.063, kl_w: 7.15, kl_z: 35.48\n",
            "epoch: 1800, M_loss: 0.1, M1_loss: 0.1, M2_loss: 0.1, N_loss: 0.04\n",
            "epoch: 1800, rec_loss: 0.052, kl_w: 6.16, kl_z: 33.75\n",
            "epoch: 1850, M_loss: 0.1, M1_loss: 0.0, M2_loss: 0.1, N_loss: 0.04\n",
            "epoch: 1850, rec_loss: 0.045, kl_w: 8.80, kl_z: 28.93\n",
            "epoch: 1900, M_loss: 0.1, M1_loss: 0.1, M2_loss: 0.1, N_loss: 0.03\n",
            "epoch: 1900, rec_loss: 0.055, kl_w: 8.59, kl_z: 25.38\n",
            "epoch: 1950, M_loss: 0.1, M1_loss: 0.1, M2_loss: 0.1, N_loss: 0.03\n",
            "epoch: 1950, rec_loss: 0.061, kl_w: 8.12, kl_z: 53.94\n",
            "epoch: 2000, M_loss: 0.1, M1_loss: 0.0, M2_loss: 0.1, N_loss: 0.04\n",
            "epoch: 2000, rec_loss: 0.037, kl_w: 7.12, kl_z: 39.80\n",
            "epoch: 2050, M_loss: 0.1, M1_loss: 0.1, M2_loss: 0.1, N_loss: 0.03\n",
            "epoch: 2050, rec_loss: 0.068, kl_w: 6.72, kl_z: 32.09\n",
            "epoch: 2100, M_loss: 0.1, M1_loss: 0.0, M2_loss: 0.1, N_loss: 0.03\n",
            "epoch: 2100, rec_loss: 0.033, kl_w: 7.97, kl_z: 58.22\n",
            "epoch: 2150, M_loss: 0.1, M1_loss: 0.1, M2_loss: 0.1, N_loss: 0.03\n",
            "epoch: 2150, rec_loss: 0.052, kl_w: 8.82, kl_z: 56.73\n",
            "epoch: 2200, M_loss: 0.1, M1_loss: 0.0, M2_loss: 0.1, N_loss: 0.04\n",
            "epoch: 2200, rec_loss: 0.032, kl_w: 7.46, kl_z: 50.42\n",
            "epoch: 2250, M_loss: 0.1, M1_loss: 0.0, M2_loss: 0.1, N_loss: 0.04\n",
            "epoch: 2250, rec_loss: 0.040, kl_w: 8.08, kl_z: 80.54\n",
            "epoch: 2300, M_loss: 0.1, M1_loss: 0.0, M2_loss: 0.1, N_loss: 0.04\n",
            "epoch: 2300, rec_loss: 0.027, kl_w: 7.10, kl_z: 77.12\n",
            "epoch: 2350, M_loss: 0.1, M1_loss: 0.1, M2_loss: 0.1, N_loss: 0.04\n",
            "epoch: 2350, rec_loss: 0.058, kl_w: 11.26, kl_z: 128.74\n",
            "epoch: 2400, M_loss: 0.1, M1_loss: 0.0, M2_loss: 0.1, N_loss: 0.04\n",
            "epoch: 2400, rec_loss: 0.028, kl_w: 7.02, kl_z: 98.80\n",
            "epoch: 2450, M_loss: 0.1, M1_loss: 0.0, M2_loss: 0.1, N_loss: 0.03\n",
            "epoch: 2450, rec_loss: 0.020, kl_w: 9.50, kl_z: 127.18\n",
            "epoch: 2500, M_loss: 0.1, M1_loss: 0.0, M2_loss: 0.1, N_loss: 0.04\n",
            "epoch: 2500, rec_loss: 0.032, kl_w: 8.88, kl_z: 108.59\n",
            "epoch: 2550, M_loss: 0.1, M1_loss: 0.0, M2_loss: 0.1, N_loss: 0.03\n",
            "epoch: 2550, rec_loss: 0.019, kl_w: 10.24, kl_z: 136.63\n",
            "epoch: 2600, M_loss: 0.1, M1_loss: 0.0, M2_loss: 0.1, N_loss: 0.03\n",
            "epoch: 2600, rec_loss: 0.015, kl_w: 8.19, kl_z: 169.99\n",
            "epoch: 2650, M_loss: 0.1, M1_loss: 0.0, M2_loss: 0.1, N_loss: 0.03\n",
            "epoch: 2650, rec_loss: 0.029, kl_w: 8.29, kl_z: 131.57\n"
          ],
          "name": "stdout"
        },
        {
          "output_type": "error",
          "ename": "KeyboardInterrupt",
          "evalue": "ignored",
          "traceback": [
            "\u001b[0;31m---------------------------------------------------------------------------\u001b[0m",
            "\u001b[0;31mKeyboardInterrupt\u001b[0m                         Traceback (most recent call last)",
            "\u001b[0;32m<ipython-input-368-5ba7667d725e>\u001b[0m in \u001b[0;36m<module>\u001b[0;34m()\u001b[0m\n\u001b[1;32m     22\u001b[0m \u001b[0;34m\u001b[0m\u001b[0m\n\u001b[1;32m     23\u001b[0m \u001b[0;34m\u001b[0m\u001b[0m\n\u001b[0;32m---> 24\u001b[0;31m       \u001b[0m_\u001b[0m\u001b[0;34m,\u001b[0m \u001b[0mM_loss_\u001b[0m\u001b[0;34m,\u001b[0m \u001b[0mrec_loss__\u001b[0m\u001b[0;34m,\u001b[0m \u001b[0mkl_w__\u001b[0m\u001b[0;34m,\u001b[0m \u001b[0mkl_z__\u001b[0m\u001b[0;34m,\u001b[0m \u001b[0mM1__\u001b[0m\u001b[0;34m,\u001b[0m \u001b[0ment2__\u001b[0m\u001b[0;34m,\u001b[0m \u001b[0mM2__\u001b[0m\u001b[0;34m=\u001b[0m \u001b[0msess\u001b[0m\u001b[0;34m.\u001b[0m\u001b[0mrun\u001b[0m\u001b[0;34m(\u001b[0m\u001b[0;34m[\u001b[0m\u001b[0mM_train\u001b[0m\u001b[0;34m,\u001b[0m \u001b[0mM_cost\u001b[0m\u001b[0;34m,\u001b[0m \u001b[0mrec_loss\u001b[0m\u001b[0;34m,\u001b[0m \u001b[0mkl_w\u001b[0m\u001b[0;34m,\u001b[0m \u001b[0mkl_z\u001b[0m\u001b[0;34m,\u001b[0m \u001b[0mM1\u001b[0m\u001b[0;34m,\u001b[0m \u001b[0ment2\u001b[0m\u001b[0;34m,\u001b[0m \u001b[0mM2\u001b[0m\u001b[0;34m]\u001b[0m\u001b[0;34m,\u001b[0m \u001b[0mfeed_dict\u001b[0m\u001b[0;34m=\u001b[0m\u001b[0;34m{\u001b[0m\u001b[0mx_in\u001b[0m\u001b[0;34m:\u001b[0m \u001b[0mx_in_batch\u001b[0m\u001b[0;34m,\u001b[0m \u001b[0mx_out\u001b[0m\u001b[0;34m:\u001b[0m \u001b[0mx_out_batch\u001b[0m\u001b[0;34m,\u001b[0m \u001b[0mu_in\u001b[0m\u001b[0;34m:\u001b[0m \u001b[0mu_batch\u001b[0m\u001b[0;34m}\u001b[0m\u001b[0;34m)\u001b[0m\u001b[0;34m\u001b[0m\u001b[0;34m\u001b[0m\u001b[0m\n\u001b[0m\u001b[1;32m     25\u001b[0m       \u001b[0mM_loss\u001b[0m \u001b[0;34m+=\u001b[0m \u001b[0mM_loss_\u001b[0m\u001b[0;34m\u001b[0m\u001b[0;34m\u001b[0m\u001b[0m\n\u001b[1;32m     26\u001b[0m       \u001b[0mrec_loss_\u001b[0m \u001b[0;34m+=\u001b[0m \u001b[0mrec_loss__\u001b[0m\u001b[0;34m\u001b[0m\u001b[0;34m\u001b[0m\u001b[0m\n",
            "\u001b[0;32m/usr/local/lib/python3.6/dist-packages/tensorflow/python/client/session.py\u001b[0m in \u001b[0;36mrun\u001b[0;34m(self, fetches, feed_dict, options, run_metadata)\u001b[0m\n\u001b[1;32m    948\u001b[0m     \u001b[0;32mtry\u001b[0m\u001b[0;34m:\u001b[0m\u001b[0;34m\u001b[0m\u001b[0;34m\u001b[0m\u001b[0m\n\u001b[1;32m    949\u001b[0m       result = self._run(None, fetches, feed_dict, options_ptr,\n\u001b[0;32m--> 950\u001b[0;31m                          run_metadata_ptr)\n\u001b[0m\u001b[1;32m    951\u001b[0m       \u001b[0;32mif\u001b[0m \u001b[0mrun_metadata\u001b[0m\u001b[0;34m:\u001b[0m\u001b[0;34m\u001b[0m\u001b[0;34m\u001b[0m\u001b[0m\n\u001b[1;32m    952\u001b[0m         \u001b[0mproto_data\u001b[0m \u001b[0;34m=\u001b[0m \u001b[0mtf_session\u001b[0m\u001b[0;34m.\u001b[0m\u001b[0mTF_GetBuffer\u001b[0m\u001b[0;34m(\u001b[0m\u001b[0mrun_metadata_ptr\u001b[0m\u001b[0;34m)\u001b[0m\u001b[0;34m\u001b[0m\u001b[0;34m\u001b[0m\u001b[0m\n",
            "\u001b[0;32m/usr/local/lib/python3.6/dist-packages/tensorflow/python/client/session.py\u001b[0m in \u001b[0;36m_run\u001b[0;34m(self, handle, fetches, feed_dict, options, run_metadata)\u001b[0m\n\u001b[1;32m   1171\u001b[0m     \u001b[0;32mif\u001b[0m \u001b[0mfinal_fetches\u001b[0m \u001b[0;32mor\u001b[0m \u001b[0mfinal_targets\u001b[0m \u001b[0;32mor\u001b[0m \u001b[0;34m(\u001b[0m\u001b[0mhandle\u001b[0m \u001b[0;32mand\u001b[0m \u001b[0mfeed_dict_tensor\u001b[0m\u001b[0;34m)\u001b[0m\u001b[0;34m:\u001b[0m\u001b[0;34m\u001b[0m\u001b[0;34m\u001b[0m\u001b[0m\n\u001b[1;32m   1172\u001b[0m       results = self._do_run(handle, final_targets, final_fetches,\n\u001b[0;32m-> 1173\u001b[0;31m                              feed_dict_tensor, options, run_metadata)\n\u001b[0m\u001b[1;32m   1174\u001b[0m     \u001b[0;32melse\u001b[0m\u001b[0;34m:\u001b[0m\u001b[0;34m\u001b[0m\u001b[0;34m\u001b[0m\u001b[0m\n\u001b[1;32m   1175\u001b[0m       \u001b[0mresults\u001b[0m \u001b[0;34m=\u001b[0m \u001b[0;34m[\u001b[0m\u001b[0;34m]\u001b[0m\u001b[0;34m\u001b[0m\u001b[0;34m\u001b[0m\u001b[0m\n",
            "\u001b[0;32m/usr/local/lib/python3.6/dist-packages/tensorflow/python/client/session.py\u001b[0m in \u001b[0;36m_do_run\u001b[0;34m(self, handle, target_list, fetch_list, feed_dict, options, run_metadata)\u001b[0m\n\u001b[1;32m   1348\u001b[0m     \u001b[0;32mif\u001b[0m \u001b[0mhandle\u001b[0m \u001b[0;32mis\u001b[0m \u001b[0;32mNone\u001b[0m\u001b[0;34m:\u001b[0m\u001b[0;34m\u001b[0m\u001b[0;34m\u001b[0m\u001b[0m\n\u001b[1;32m   1349\u001b[0m       return self._do_call(_run_fn, feeds, fetches, targets, options,\n\u001b[0;32m-> 1350\u001b[0;31m                            run_metadata)\n\u001b[0m\u001b[1;32m   1351\u001b[0m     \u001b[0;32melse\u001b[0m\u001b[0;34m:\u001b[0m\u001b[0;34m\u001b[0m\u001b[0;34m\u001b[0m\u001b[0m\n\u001b[1;32m   1352\u001b[0m       \u001b[0;32mreturn\u001b[0m \u001b[0mself\u001b[0m\u001b[0;34m.\u001b[0m\u001b[0m_do_call\u001b[0m\u001b[0;34m(\u001b[0m\u001b[0m_prun_fn\u001b[0m\u001b[0;34m,\u001b[0m \u001b[0mhandle\u001b[0m\u001b[0;34m,\u001b[0m \u001b[0mfeeds\u001b[0m\u001b[0;34m,\u001b[0m \u001b[0mfetches\u001b[0m\u001b[0;34m)\u001b[0m\u001b[0;34m\u001b[0m\u001b[0;34m\u001b[0m\u001b[0m\n",
            "\u001b[0;32m/usr/local/lib/python3.6/dist-packages/tensorflow/python/client/session.py\u001b[0m in \u001b[0;36m_do_call\u001b[0;34m(self, fn, *args)\u001b[0m\n\u001b[1;32m   1354\u001b[0m   \u001b[0;32mdef\u001b[0m \u001b[0m_do_call\u001b[0m\u001b[0;34m(\u001b[0m\u001b[0mself\u001b[0m\u001b[0;34m,\u001b[0m \u001b[0mfn\u001b[0m\u001b[0;34m,\u001b[0m \u001b[0;34m*\u001b[0m\u001b[0margs\u001b[0m\u001b[0;34m)\u001b[0m\u001b[0;34m:\u001b[0m\u001b[0;34m\u001b[0m\u001b[0;34m\u001b[0m\u001b[0m\n\u001b[1;32m   1355\u001b[0m     \u001b[0;32mtry\u001b[0m\u001b[0;34m:\u001b[0m\u001b[0;34m\u001b[0m\u001b[0;34m\u001b[0m\u001b[0m\n\u001b[0;32m-> 1356\u001b[0;31m       \u001b[0;32mreturn\u001b[0m \u001b[0mfn\u001b[0m\u001b[0;34m(\u001b[0m\u001b[0;34m*\u001b[0m\u001b[0margs\u001b[0m\u001b[0;34m)\u001b[0m\u001b[0;34m\u001b[0m\u001b[0;34m\u001b[0m\u001b[0m\n\u001b[0m\u001b[1;32m   1357\u001b[0m     \u001b[0;32mexcept\u001b[0m \u001b[0merrors\u001b[0m\u001b[0;34m.\u001b[0m\u001b[0mOpError\u001b[0m \u001b[0;32mas\u001b[0m \u001b[0me\u001b[0m\u001b[0;34m:\u001b[0m\u001b[0;34m\u001b[0m\u001b[0;34m\u001b[0m\u001b[0m\n\u001b[1;32m   1358\u001b[0m       \u001b[0mmessage\u001b[0m \u001b[0;34m=\u001b[0m \u001b[0mcompat\u001b[0m\u001b[0;34m.\u001b[0m\u001b[0mas_text\u001b[0m\u001b[0;34m(\u001b[0m\u001b[0me\u001b[0m\u001b[0;34m.\u001b[0m\u001b[0mmessage\u001b[0m\u001b[0;34m)\u001b[0m\u001b[0;34m\u001b[0m\u001b[0;34m\u001b[0m\u001b[0m\n",
            "\u001b[0;32m/usr/local/lib/python3.6/dist-packages/tensorflow/python/client/session.py\u001b[0m in \u001b[0;36m_run_fn\u001b[0;34m(feed_dict, fetch_list, target_list, options, run_metadata)\u001b[0m\n\u001b[1;32m   1339\u001b[0m       \u001b[0mself\u001b[0m\u001b[0;34m.\u001b[0m\u001b[0m_extend_graph\u001b[0m\u001b[0;34m(\u001b[0m\u001b[0;34m)\u001b[0m\u001b[0;34m\u001b[0m\u001b[0;34m\u001b[0m\u001b[0m\n\u001b[1;32m   1340\u001b[0m       return self._call_tf_sessionrun(\n\u001b[0;32m-> 1341\u001b[0;31m           options, feed_dict, fetch_list, target_list, run_metadata)\n\u001b[0m\u001b[1;32m   1342\u001b[0m \u001b[0;34m\u001b[0m\u001b[0m\n\u001b[1;32m   1343\u001b[0m     \u001b[0;32mdef\u001b[0m \u001b[0m_prun_fn\u001b[0m\u001b[0;34m(\u001b[0m\u001b[0mhandle\u001b[0m\u001b[0;34m,\u001b[0m \u001b[0mfeed_dict\u001b[0m\u001b[0;34m,\u001b[0m \u001b[0mfetch_list\u001b[0m\u001b[0;34m)\u001b[0m\u001b[0;34m:\u001b[0m\u001b[0;34m\u001b[0m\u001b[0;34m\u001b[0m\u001b[0m\n",
            "\u001b[0;32m/usr/local/lib/python3.6/dist-packages/tensorflow/python/client/session.py\u001b[0m in \u001b[0;36m_call_tf_sessionrun\u001b[0;34m(self, options, feed_dict, fetch_list, target_list, run_metadata)\u001b[0m\n\u001b[1;32m   1427\u001b[0m     return tf_session.TF_SessionRun_wrapper(\n\u001b[1;32m   1428\u001b[0m         \u001b[0mself\u001b[0m\u001b[0;34m.\u001b[0m\u001b[0m_session\u001b[0m\u001b[0;34m,\u001b[0m \u001b[0moptions\u001b[0m\u001b[0;34m,\u001b[0m \u001b[0mfeed_dict\u001b[0m\u001b[0;34m,\u001b[0m \u001b[0mfetch_list\u001b[0m\u001b[0;34m,\u001b[0m \u001b[0mtarget_list\u001b[0m\u001b[0;34m,\u001b[0m\u001b[0;34m\u001b[0m\u001b[0;34m\u001b[0m\u001b[0m\n\u001b[0;32m-> 1429\u001b[0;31m         run_metadata)\n\u001b[0m\u001b[1;32m   1430\u001b[0m \u001b[0;34m\u001b[0m\u001b[0m\n\u001b[1;32m   1431\u001b[0m   \u001b[0;32mdef\u001b[0m \u001b[0m_call_tf_sessionprun\u001b[0m\u001b[0;34m(\u001b[0m\u001b[0mself\u001b[0m\u001b[0;34m,\u001b[0m \u001b[0mhandle\u001b[0m\u001b[0;34m,\u001b[0m \u001b[0mfeed_dict\u001b[0m\u001b[0;34m,\u001b[0m \u001b[0mfetch_list\u001b[0m\u001b[0;34m)\u001b[0m\u001b[0;34m:\u001b[0m\u001b[0;34m\u001b[0m\u001b[0;34m\u001b[0m\u001b[0m\n",
            "\u001b[0;31mKeyboardInterrupt\u001b[0m: "
          ]
        }
      ]
    },
    {
      "cell_type": "code",
      "metadata": {
        "id": "5d60cwLs8Zlj",
        "colab_type": "code",
        "outputId": "fd3a1cde-bda8-4e69-ec46-8eadcb5c5a8a",
        "colab": {
          "base_uri": "https://localhost:8080/",
          "height": 68
        }
      },
      "source": [
        "from sklearn.decomposition import TruncatedSVD\n",
        "svd = TruncatedSVD(n_components=2, n_iter=7, random_state=42)\n",
        "svd.fit(U.T)  \n",
        "\n",
        "\n",
        "print(svd.explained_variance_ratio_)  \n",
        "\n",
        "print(svd.explained_variance_ratio_.sum())  \n",
        "\n",
        "print(svd.singular_values_)  \n",
        "\n",
        "U_ = svd.components_\n",
        "\n",
        "U_ = U_.T"
      ],
      "execution_count": 0,
      "outputs": [
        {
          "output_type": "stream",
          "text": [
            "[0.55983905 0.04389005]\n",
            "0.6037290921647739\n",
            "[482.32958745  71.86901165]\n"
          ],
          "name": "stdout"
        }
      ]
    },
    {
      "cell_type": "code",
      "metadata": {
        "id": "a7PErTumPWnO",
        "colab_type": "code",
        "outputId": "796fa945-fd33-41fd-f8d9-835d0d4ff6ac",
        "colab": {
          "base_uri": "https://localhost:8080/",
          "height": 370
        }
      },
      "source": [
        "fig, axs = plt.subplots(1, 2, figsize=(14,5))\n",
        "axs[0].scatter(wIxy_mean_[:,0],wIxy_mean_[:,1], c=U_[:,0], cmap='viridis', s=5.0);\n",
        "axs[0].set_xlabel('w1')\n",
        "axs[0].set_ylabel('w2')\n",
        "\n",
        "axs[1].scatter(zIx_mean_[:,0],zIx_mean_[:,3], c=U_[:,0], cmap='viridis', s=5.0);\n",
        "axs[1].set_xlabel('z1')\n",
        "axs[1].set_ylabel('z2')\n",
        "\n",
        "fig.suptitle('Cell cycle')\n",
        "plt.show()"
      ],
      "execution_count": 0,
      "outputs": [
        {
          "output_type": "display_data",
          "data": {
            "image/png": "[encoded data removed]",
            "text/plain": [
              "<Figure size 1008x360 with 2 Axes>"
            ]
          },
          "metadata": {
            "tags": []
          }
        }
      ]
    },
    {
      "cell_type": "code",
      "metadata": {
        "id": "uE_W2YMTS2dZ",
        "colab_type": "code",
        "outputId": "cdb3f3b0-7192-452c-a7f1-7477556dcb1f",
        "colab": {
          "base_uri": "https://localhost:8080/",
          "height": 370
        }
      },
      "source": [
        "fig, axs = plt.subplots(1, 2, figsize=(14,5))\n",
        "axs[0].scatter(wIxy_mean_[:,0],wIxy_mean_[:,1], c=U_[:,1], cmap='viridis', s=5.0);\n",
        "axs[0].set_xlabel('w1')\n",
        "axs[0].set_ylabel('w2')\n",
        "\n",
        "axs[1].scatter(zIx_mean_[:,0],zIx_mean_[:,1], c=U_[:,1], cmap='viridis', s=5.0);\n",
        "axs[1].set_xlabel('z1')\n",
        "axs[1].set_ylabel('z2')\n",
        "\n",
        "fig.suptitle('X1')\n",
        "plt.show()"
      ],
      "execution_count": 0,
      "outputs": [
        {
          "output_type": "display_data",
          "data": {
            "image/png": "[encoded data removed]",
            "text/plain": [
              "<Figure size 1008x360 with 2 Axes>"
            ]
          },
          "metadata": {
            "tags": []
          }
        }
      ]
    },
    {
      "cell_type": "code",
      "metadata": {
        "id": "oJjSdjS4z5LN",
        "colab_type": "code",
        "colab": {}
      },
      "source": [
        "error = np.abs(X-rec_out_)"
      ],
      "execution_count": 0,
      "outputs": []
    },
    {
      "cell_type": "code",
      "metadata": {
        "id": "g8oa-7RqjUA9",
        "colab_type": "code",
        "outputId": "ff8d0d6d-e579-4fdb-f74a-0e5169b367f1",
        "colab": {
          "base_uri": "https://localhost:8080/",
          "height": 269
        }
      },
      "source": [
        "plt.plot(np.reshape(error, -1), '*', markersize=0.1);"
      ],
      "execution_count": 0,
      "outputs": [
        {
          "output_type": "display_data",
          "data": {
            "image/png": "[encoded data removed]",
            "text/plain": [
              "<Figure size 432x288 with 1 Axes>"
            ]
          },
          "metadata": {
            "tags": []
          }
        }
      ]
    },
    {
      "cell_type": "code",
      "metadata": {
        "id": "EkwHGY6SjtdC",
        "colab_type": "code",
        "outputId": "e644b829-0dc8-4b6a-e553-d569bcdea17f",
        "colab": {
          "base_uri": "https://localhost:8080/",
          "height": 269
        }
      },
      "source": [
        "plt.hist(np.reshape(error, -1), bins=50);"
      ],
      "execution_count": 0,
      "outputs": [
        {
          "output_type": "display_data",
          "data": {
            "image/png": "[encoded data removed]",
            "text/plain": [
              "<Figure size 432x288 with 1 Axes>"
            ]
          },
          "metadata": {
            "tags": []
          }
        }
      ]
    }
  ]
}