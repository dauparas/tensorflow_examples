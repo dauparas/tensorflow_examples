{
  "nbformat": 4,
  "nbformat_minor": 0,
  "metadata": {
    "colab": {
      "name": "beta_vae.ipynb",
      "version": "0.3.2",
      "provenance": [],
      "private_outputs": true,
      "collapsed_sections": [],
      "toc_visible": true,
      "include_colab_link": true
    },
    "kernelspec": {
      "name": "python3",
      "display_name": "Python 3"
    },
    "accelerator": "GPU"
  },
  "cells": [
    {
      "cell_type": "markdown",
      "metadata": {
        "id": "view-in-github",
        "colab_type": "text"
      },
      "source": [
        "<a href=\"https://colab.research.google.com/github/dauparas/tensorflow_examples/blob/master/beta_vae.ipynb\" target=\"_parent\"><img src=\"https://colab.research.google.com/assets/colab-badge.svg\" alt=\"Open In Colab\"/></a>"
      ]
    },
    {
      "metadata": {
        "id": "Kcg2IoHJWJ8M",
        "colab_type": "code",
        "colab": {}
      },
      "cell_type": "code",
      "source": [
        "from tensorflow.keras import layers\n",
        "import numpy as np\n",
        "import matplotlib.pyplot as plt\n",
        "import tensorflow as tf\n",
        "from keras import regularizers\n",
        "\n",
        "%matplotlib inline\n",
        "plt.style.use('ggplot')"
      ],
      "execution_count": 0,
      "outputs": []
    },
    {
      "metadata": {
        "id": "SFMeLuVmD03N",
        "colab_type": "code",
        "colab": {}
      },
      "cell_type": "code",
      "source": [
        "N_points = 501\n",
        "# N_points=n_points**3\n",
        "np.random.seed(1)\n",
        "\n",
        "#Number of examples\n",
        "noise_level = 0.005\n",
        "#Line\n",
        "t = np.random.uniform(1, 2, N_points)\n",
        "s = np.random.uniform(1, 2, N_points)\n",
        "q = np.random.uniform(1, 2, N_points)\n",
        "\n",
        "\n",
        "# t =np.linspace(0,1, n_points)\n",
        "# s =np.linspace(0,1, n_points)\n",
        "# q = np.linspace(0,1, n_points)\n",
        "\n",
        "# ts = np.asarray(np.meshgrid(t,s,q))\n",
        "# t = np.reshape(ts[0,:,:,:],[-1])\n",
        "# s = np.reshape(ts[1,:,:,:],[-1])\n",
        "# q = np.reshape(ts[2,:,:,:],[-1])\n",
        "\n",
        "\n",
        "# t=np.sort(t)\n",
        "# s=np.sort(s)\n",
        "\n",
        "x_t1 = 1.1+5*0.1*t+noise_level*np.random.randn(N_points) #########t\n",
        "x_t2 = 1.1+5*0.2*t*t+noise_level*np.random.randn(N_points) #########t\n",
        "x_t3 = 1.1+0.15*s+noise_level*np.random.randn(N_points) #######\n",
        "x_t4 = 1.1+0.25*s*s+noise_level*np.random.randn(N_points) #########\n",
        "x_t5 = 1.1+1.27*q*q+noise_level*np.random.randn(N_points) #######\n",
        "x_t6 = 1.1+1.67*q+noise_level*np.random.randn(N_points) #######\n",
        "\n",
        "# x_t1 = np.array(range(N))\n",
        "# x_t2 = np.array(range(N))\n",
        "# x_t3 = np.array(range(N))\n",
        "# x_t4 = np.array(range(N))\n",
        "# x_t5 = np.array(range(N))\n",
        "# x_t6 = np.array(range(N))\n",
        "# x_t7 = np.array(range(N))\n",
        "# x_t8 = np.array(range(N))\n",
        "\n",
        "x_t1 = x_t1.reshape(-1,1)\n",
        "x_t2 = x_t2.reshape(-1,1)\n",
        "x_t3 = x_t3.reshape(-1,1)\n",
        "x_t4 = x_t4.reshape(-1,1)\n",
        "x_t5 = x_t5.reshape(-1,1)\n",
        "x_t6 = x_t6.reshape(-1,1)\n",
        "my_data = np.concatenate([x_t1, x_t2, x_t3, x_t4, x_t5, x_t6], axis=1)\n",
        "\n",
        "#Create training and testing sets\n",
        "train_data = my_data\n",
        "\n",
        "#Rescale training data\n",
        "mean = train_data.mean(axis=0)\n",
        "std = train_data.std(axis=0)\n",
        "\n",
        "train_data = (train_data - mean) /std\n",
        "\n",
        "train = train_data"
      ],
      "execution_count": 0,
      "outputs": []
    },
    {
      "metadata": {
        "id": "6v-CjMxVr0uf",
        "colab_type": "code",
        "colab": {}
      },
      "cell_type": "code",
      "source": [
        "plt.scatter(t,s);\n",
        "plt.axis('equal');"
      ],
      "execution_count": 0,
      "outputs": []
    },
    {
      "metadata": {
        "id": "GnPGACifr7Pe",
        "colab_type": "code",
        "colab": {}
      },
      "cell_type": "code",
      "source": [
        "plt.scatter(t,q);\n",
        "plt.axis('equal');"
      ],
      "execution_count": 0,
      "outputs": []
    },
    {
      "metadata": {
        "id": "LuJUY810hap7",
        "colab_type": "code",
        "colab": {}
      },
      "cell_type": "code",
      "source": [
        "plt.scatter(train[:,0], train[:,1])"
      ],
      "execution_count": 0,
      "outputs": []
    },
    {
      "metadata": {
        "id": "0bmM63Yo05E9",
        "colab_type": "code",
        "colab": {}
      },
      "cell_type": "code",
      "source": [
        "plt.scatter(train[:,2], train[:,3])"
      ],
      "execution_count": 0,
      "outputs": []
    },
    {
      "metadata": {
        "id": "9w8vp99u7F0x",
        "colab_type": "code",
        "colab": {}
      },
      "cell_type": "code",
      "source": [
        "plt.scatter(train[:,4], train[:,5])"
      ],
      "execution_count": 0,
      "outputs": []
    },
    {
      "metadata": {
        "id": "si6lOTvJMz7y",
        "colab_type": "code",
        "colab": {}
      },
      "cell_type": "code",
      "source": [
        "angle = np.pi/4\n",
        "sin = np.sin(angle)\n",
        "cos = np.cos(angle)"
      ],
      "execution_count": 0,
      "outputs": []
    },
    {
      "metadata": {
        "id": "tXdqEEEvDaRB",
        "colab_type": "code",
        "colab": {}
      },
      "cell_type": "code",
      "source": [
        "C = np.matmul(train.T, train)\n",
        "D = np.matmul(train, train.T)"
      ],
      "execution_count": 0,
      "outputs": []
    },
    {
      "metadata": {
        "id": "LZh684ikEbtI",
        "colab_type": "code",
        "colab": {}
      },
      "cell_type": "code",
      "source": [
        "plt.matshow(np.abs(C));\n",
        "plt.grid(False)\n",
        "plt.colorbar()"
      ],
      "execution_count": 0,
      "outputs": []
    },
    {
      "metadata": {
        "id": "ywvbAG3etqHD",
        "colab_type": "code",
        "colab": {}
      },
      "cell_type": "code",
      "source": [
        "train.shape"
      ],
      "execution_count": 0,
      "outputs": []
    },
    {
      "metadata": {
        "id": "22GHCAkVeolK",
        "colab_type": "code",
        "colab": {}
      },
      "cell_type": "code",
      "source": [
        "# def encoder(x_in):\n",
        "#     with tf.variable_scope(\"encoder\", reuse=None):\n",
        "#         e2 = tf.layers.dense(x_in, units=12, activation=tf.nn.leaky_relu)\n",
        "#         b2 = tf.layers.batch_normalization(e2)\n",
        "#         e3 = tf.layers.dense(b2, units=12, activation=tf.nn.leaky_relu)\n",
        "#         b3 = tf.layers.batch_normalization(e3)\n",
        "#         e4 = tf.layers.dense(b3, units=6, activation=tf.nn.leaky_relu)\n",
        "#         b4 = tf.layers.batch_normalization(e4)\n",
        "#         enc_m = tf.layers.dense(b4, units=3)\n",
        "#         enc_l = tf.layers.dense(b4, units=3)\n",
        "#         rotation = tf.constant([[1.0, 0, 0],[0, 1, 0], [0,0,1]])\n",
        "#         enc_mean = tf.einsum('ij, kj->ki', rotation, enc_m)\n",
        "#         enc_log_sd = tf.einsum('ij, kj->ki', rotation, enc_l)\n",
        "        \n",
        "        \n",
        "#         epsilon = tf.random_normal(tf.shape(enc_mean)) \n",
        "#         z  = enc_mean + tf.multiply(epsilon, tf.exp(enc_log_sd))\n",
        "#         return z, enc_mean, enc_log_sd, enc_m, enc_l\n",
        "\n",
        "def fully_connected(inputs, out_dim, scope_name='fc', reg_param=10.0, non_linearity=True):\n",
        "    '''\n",
        "    A fully connected linear layer\n",
        "    '''\n",
        "    with tf.variable_scope(scope_name, reuse=tf.AUTO_REUSE) as scope:\n",
        "        in_dim = inputs.shape[-1]\n",
        "        w = tf.get_variable('weights', [in_dim, out_dim],\n",
        "                            initializer=tf.glorot_uniform_initializer(), regularizer=tf.contrib.layers.l2_regularizer(reg_param, scope=scope_name+'_reg'))\n",
        "        b = tf.get_variable('biases', [out_dim],\n",
        "                            initializer=tf.constant_initializer(0.0))\n",
        "        out = tf.matmul(inputs, w) + b\n",
        "        if non_linearity:\n",
        "          return tf.nn.leaky_relu(out)\n",
        "        else:\n",
        "          return out\n",
        "      \n",
        "      \n",
        "def encoder(x_in):\n",
        "    with tf.variable_scope(\"encoder\", reuse=None):\n",
        "#         e2 = tf.layers.dense(x_in, units=12, activation=tf.nn.leaky_relu)\n",
        "#         b2 = tf.layers.batch_normalization(e2)\n",
        "#         e3 = tf.layers.dense(b2, units=12, activation=tf.nn.leaky_relu)\n",
        "#         b3 = tf.layers.batch_normalization(e3)\n",
        "#         e4 = tf.layers.dense(b3, units=6, activation=tf.nn.leaky_relu)\n",
        "#         b4 = tf.layers.batch_normalization(e4)\n",
        "        w1 = tf.get_variable('w1', [6, 3], initializer=tf.glorot_uniform_initializer())\n",
        "        b1 = tf.get_variable('b1', [3], initializer=tf.constant_initializer(0.0))\n",
        "        enc_mean = tf.matmul(x_in, w1)+b1\n",
        "      \n",
        "      \n",
        "        w2 = tf.get_variable('w2', [6, 3], initializer=tf.glorot_uniform_initializer())\n",
        "        b2 = tf.get_variable('b2', [3], initializer=tf.constant_initializer(0.0))\n",
        "        enc_log_sd = tf.matmul(x_in, w2)+b2\n",
        "\n",
        "#         rotation = tf.constant([[1.0, 0, 0],[0, 1, 0], [0,0,1]])\n",
        "#         enc_mean = tf.einsum('ij, kj->ki', rotation, enc_m)\n",
        "#         enc_log_sd = tf.einsum('ij, kj->ki', rotation, enc_l)\n",
        "        \n",
        "        \n",
        "        epsilon = tf.random_normal(tf.shape(enc_mean)) \n",
        "        z  = enc_mean + tf.multiply(epsilon, tf.exp(enc_log_sd))\n",
        "        return z, enc_mean, enc_log_sd, w1, w2\n",
        "# def decoder(z_in):\n",
        "#     with tf.variable_scope(\"decoder\", reuse=tf.AUTO_REUSE):\n",
        "#         d0 = tf.layers.dense(z_in, units=3)\n",
        "#         b0 = tf.layers.batch_normalization(d0)\n",
        "#         d1 = tf.layers.dense(b0, units=6)\n",
        "#         b1 = tf.layers.batch_normalization(d1)\n",
        "#         d2 = tf.layers.dense(b1, units=12)\n",
        "#         b2 = tf.layers.batch_normalization(d2)\n",
        "#         dec_mean = tf.layers.dense(b2, units=12)\n",
        "#         dec_log_sd = tf.layers.dense(b2, units=12)\n",
        "#         return dec_mean, dec_log_sd\n",
        "      \n",
        "def decoder(z_in):\n",
        "    with tf.variable_scope(\"decoder\", reuse=tf.AUTO_REUSE):\n",
        "#         d0 = tf.layers.dense(z_in, units=12)\n",
        "\n",
        "        w3 = tf.get_variable('w3', [3, 6], initializer=tf.glorot_uniform_initializer())\n",
        "        b3 = tf.get_variable('b3', [6], initializer=tf.constant_initializer(0.0))\n",
        "        dec_mean = tf.matmul(z_in, w3)+b3\n",
        "    \n",
        "      \n",
        "        return dec_mean, w3"
      ],
      "execution_count": 0,
      "outputs": []
    },
    {
      "metadata": {
        "id": "5teAboyfeP_I",
        "colab_type": "code",
        "colab": {}
      },
      "cell_type": "code",
      "source": [
        "import time\n",
        "tf.reset_default_graph() #reset the graph \n",
        "batch_size = tf.placeholder(tf.int64, name='batch')\n",
        "repeat_n = tf.placeholder(tf.int64, name='repeat')\n",
        "n_epochs =1000\n",
        "BATCH_SIZE = 101\n",
        "# Wrapping all together -> Switch between train and test set using Initializable iterator\n",
        "# using two numpy arrays\n",
        "train = train.astype(np.float32)\n",
        "\n",
        "Z1 = np.linspace(-0.5,0.5,31)\n",
        "Z2 = np.linspace(-0.5,0.5,31) \n",
        "Z3 = np.linspace(-0.5, 0.5, 31)\n",
        "Z_test = np.meshgrid(Z1, Z2, Z3)\n",
        "Z_test = np.asarray(Z_test, dtype=np.float32)\n",
        "print(Z_test.shape)\n",
        "Z_test = np.reshape(Z_test, [3, -1])\n",
        "print(Z_test.shape)\n",
        "Z_test = Z_test.T\n",
        "\n",
        "\n",
        "z_test = tf.placeholder(tf.float32, shape=Z_test.shape, name='z_test')\n",
        "\n",
        "train_data = (train, train)\n",
        "train_data = tf.data.Dataset.from_tensor_slices(train_data)\n",
        "train_data = train_data.shuffle(buffer_size=10000)\n",
        "train_data = train_data.repeat(repeat_n)\n",
        "train_data = train_data.batch(batch_size)\n",
        "\n",
        "iterator = tf.data.Iterator.from_structure(train_data.output_types, train_data.output_shapes)\n",
        "features, labels = iterator.get_next()\n",
        "train_init = iterator.make_initializer(train_data)\t# initializer for train_data\n",
        "\n",
        "n_latent = 3\n",
        "z_sampled, enc_mean, enc_log_sd, w1_e, w2_e = encoder(features)\n",
        "dec_mean, w1_d = decoder(z_sampled)\n",
        "\n",
        "dec_mean_o, _ = decoder(z_test)\n",
        "\n",
        "from __future__ import division\n",
        "\n",
        "\n",
        "dec_loss = tf.reduce_mean(tf.reduce_sum(tf.square(features-dec_mean),1))\n",
        "\n",
        "my_c = tf.placeholder(tf.float32, name='my_c')\n",
        "gamma = 0.0000005\n",
        "w_loss = 0.1*(tf.nn.l2_loss(w1_e)+tf.nn.l2_loss(w2_e)+tf.nn.l2_loss(w1_d))\n",
        "\n",
        "latent_loss = 0.1*tf.reduce_mean(tf.abs(enc_mean[:,0])+tf.abs(enc_mean[:,1])+tf.abs(enc_mean[:,2]))\n",
        "kl_loss = tf.reduce_mean(-0.5 * tf.reduce_sum(1.0+ 2.0*enc_log_sd - tf.square(enc_mean) - tf.exp(2.0 * enc_log_sd), 1))\n",
        "loss = dec_loss+gamma*tf.abs(kl_loss-my_c)+w_loss+latent_loss\n",
        "\n",
        "optimizer = tf.train.AdamOptimizer(0.01).minimize(loss)"
      ],
      "execution_count": 0,
      "outputs": []
    },
    {
      "metadata": {
        "id": "aYQl8NM-dCzY",
        "colab_type": "code",
        "colab": {}
      },
      "cell_type": "code",
      "source": [
        "saver = tf.train.Saver()\n",
        "with tf.Session() as sess:\n",
        "   \n",
        "    start_time = time.time()\n",
        "    sess.run(tf.global_variables_initializer())\n",
        "\n",
        "    # train the model n_epochs times\n",
        "    for i in range(n_epochs):\n",
        "        if i < 1000:\n",
        "          if i % 10 ==0:\n",
        "            C_in = 5.0*(1.0*i)/1000\n",
        "        sess.run(train_init, feed_dict={batch_size: BATCH_SIZE, repeat_n: 1, my_c: C_in})\n",
        "        total_loss = 0\n",
        "        total_loss_dec = 0\n",
        "        total_loss_kl = 0\n",
        "        total_loss_w = 0\n",
        "        n_batches = 0\n",
        "        try:\n",
        "            while True:\n",
        "                _, l, l_dec, l_kl, l_w= sess.run([optimizer, loss, dec_loss, kl_loss, w_loss], feed_dict={my_c: C_in})\n",
        "                total_loss += l\n",
        "                total_loss_w += l_w\n",
        "                total_loss_dec += l_dec\n",
        "                total_loss_kl += l_kl\n",
        "                n_batches += 1\n",
        "        except tf.errors.OutOfRangeError:\n",
        "            pass\n",
        "        if i % 50 == 0:\n",
        "          print('Loss {0}: {1}, Dec_loss: {2}, KL_loss: {3}, W loss: {4}'.format(i, total_loss/n_batches, total_loss_dec/n_batches, total_loss_kl/n_batches, total_loss_w/n_batches ))\n",
        "    print('Total time: {0} seconds'.format(time.time() - start_time))\n",
        "    \n",
        "    \n",
        "    sess.run(train_init, feed_dict={batch_size: train.shape[0], repeat_n: 1})\n",
        "    try:\n",
        "      while True:\n",
        "        dec_mean_out = sess.run([dec_mean])\n",
        "    except tf.errors.OutOfRangeError:\n",
        "      pass\n",
        "    \n",
        "    \n",
        "    sess.run(train_init, feed_dict={batch_size: train.shape[0], repeat_n: 1})\n",
        "    try:\n",
        "      while True:\n",
        "        enc_mean_out, enc_log_sd_out = sess.run([enc_mean, enc_log_sd])\n",
        "    except tf.errors.OutOfRangeError:\n",
        "      pass\n",
        "\n",
        "    \n",
        "#     sess.run(train_init, feed_dict={batch_size: train.shape[0], repeat_n: 1})\n",
        "#     try:\n",
        "#       while True:\n",
        "#         enc_m_out, enc_l_out = sess.run([enc_m, enc_l])\n",
        "#     except tf.errors.OutOfRangeError:\n",
        "#       pass\n",
        "    \n",
        "    dec_mean_out_i1 = sess.run([dec_mean_o], feed_dict={z_test: Z_test})\n",
        "    w1_eo, w2_eo, w1_do = sess.run([w1_e, w2_e, w1_d])\n",
        "#     dec_mean_out_i2, _ = sess.run([dec_mean_o, dec_log_sd_o], feed_dict={z_test: Z2o})\n",
        "    \n",
        "    save_path = saver.save(sess, \"./ae.ckpt\")\n",
        "    print(\"Model saved in path: %s\" % save_path)\n",
        "#     # test the model\n",
        "#     sess.run(test_init, feed_dict={batch_size: test.shape[0]})\t\t\t# drawing samples from test_data\n",
        "#     try:\n",
        "#         while True:\n",
        "#           z2, p2  = sess.run([z, out])\n",
        "#     except tf.errors.OutOfRangeError:\n",
        "#         pass"
      ],
      "execution_count": 0,
      "outputs": []
    },
    {
      "metadata": {
        "id": "1uhCLZoP90db",
        "colab_type": "code",
        "colab": {}
      },
      "cell_type": "code",
      "source": [
        "tf.reset_default_graph()\n",
        "\n",
        "# Create some variables.\n",
        "w1_e = tf.get_variable('encoder/w1', shape=[6,3], dtype=tf.float32)\n",
        "b1_e = tf.get_variable('encoder/b1', shape=[3], dtype=tf.float32)\n",
        "w1_d = tf.get_variable('decoder/w3', shape=[3,6], dtype=tf.float32)\n",
        "b1_d = tf.get_variable('decoder/b3', shape=[6], dtype=tf.float32)\n",
        "# Add ops to save and restore all the variables.\n",
        "saver = tf.train.Saver()\n",
        "\n",
        "# Later, launch the model, use the saver to restore variables from disk, and\n",
        "# do some work with the model.\n",
        "with tf.Session() as sess:\n",
        "  # Restore variables from disk.\n",
        "  saver.restore(sess, \"./ae.ckpt\")\n",
        "  print(\"Model restored.\")\n",
        "  # Check the values of the variables\n",
        "  w1_eo = w1_e.eval()\n",
        "  b1_eo = b1_e.eval()\n",
        "  w1_do = w1_d.eval()\n",
        "  b1_do = b1_d.eval()"
      ],
      "execution_count": 0,
      "outputs": []
    },
    {
      "metadata": {
        "id": "yptHzl_hdy_s",
        "colab_type": "code",
        "colab": {}
      },
      "cell_type": "code",
      "source": [
        "b1_do"
      ],
      "execution_count": 0,
      "outputs": []
    },
    {
      "metadata": {
        "id": "dERuYfHF66Bz",
        "colab_type": "code",
        "colab": {}
      },
      "cell_type": "code",
      "source": [
        "plt.matshow(w1_eo.T);\n",
        "plt.grid(False)\n",
        "plt.colorbar()"
      ],
      "execution_count": 0,
      "outputs": []
    },
    {
      "metadata": {
        "id": "Jx2zguZJ7FJp",
        "colab_type": "code",
        "colab": {}
      },
      "cell_type": "code",
      "source": [
        "plt.matshow(w1_do);\n",
        "plt.grid(False)\n",
        "plt.colorbar()"
      ],
      "execution_count": 0,
      "outputs": []
    },
    {
      "metadata": {
        "id": "7PBD94mQ7JKC",
        "colab_type": "code",
        "colab": {}
      },
      "cell_type": "code",
      "source": [
        "plt.matshow(np.matmul(w1_eo, w1_do));\n",
        "plt.grid(False)\n",
        "plt.colorbar()"
      ],
      "execution_count": 0,
      "outputs": []
    },
    {
      "metadata": {
        "id": "3X_RqXun9D1p",
        "colab_type": "code",
        "colab": {}
      },
      "cell_type": "code",
      "source": [
        "plt.matshow(w1_eo.T-w1_do);\n",
        "plt.grid(False)\n",
        "plt.colorbar()"
      ],
      "execution_count": 0,
      "outputs": []
    },
    {
      "metadata": {
        "id": "6aJ9Zu-nJp-6",
        "colab_type": "code",
        "colab": {}
      },
      "cell_type": "code",
      "source": [
        "dec_mean_out = np.squeeze(np.array(dec_mean_out))\n",
        "dec_mean_out_i1 = np.squeeze(np.array(dec_mean_out_i1))\n",
        "enc_mean_out = np.squeeze(np.array(enc_mean_out))\n",
        "dec_mean_out.shape"
      ],
      "execution_count": 0,
      "outputs": []
    },
    {
      "metadata": {
        "id": "AAoIiJjHQDrG",
        "colab_type": "code",
        "colab": {}
      },
      "cell_type": "code",
      "source": [
        "plt.scatter(enc_mean_out[:,0], enc_mean_out[:,1]);\n",
        "plt.axis('equal');"
      ],
      "execution_count": 0,
      "outputs": []
    },
    {
      "metadata": {
        "id": "ql2i-EKsGETy",
        "colab_type": "code",
        "colab": {}
      },
      "cell_type": "code",
      "source": [
        "plt.scatter(enc_mean_out[:,0], enc_mean_out[:,2])\n",
        "plt.axis('equal');"
      ],
      "execution_count": 0,
      "outputs": []
    },
    {
      "metadata": {
        "id": "h6nNrKJl0Ff_",
        "colab_type": "code",
        "colab": {}
      },
      "cell_type": "code",
      "source": [
        "enc_mean_out.shape"
      ],
      "execution_count": 0,
      "outputs": []
    },
    {
      "metadata": {
        "id": "YPgA5QS-0Ke2",
        "colab_type": "code",
        "colab": {}
      },
      "cell_type": "code",
      "source": [
        "plt.matshow(np.matmul(enc_mean_out.T,enc_mean_out));\n",
        "plt.grid(False)\n",
        "plt.colorbar()"
      ],
      "execution_count": 0,
      "outputs": []
    },
    {
      "metadata": {
        "id": "I7Qnzq2H0U9l",
        "colab_type": "code",
        "colab": {}
      },
      "cell_type": "code",
      "source": [
        "enc_shift = np.matmul(enc_mean_out.T,enc_mean_out)"
      ],
      "execution_count": 0,
      "outputs": []
    },
    {
      "metadata": {
        "id": "LpMUVc2U1fuv",
        "colab_type": "code",
        "colab": {}
      },
      "cell_type": "code",
      "source": [
        "from numpy import linalg as LA"
      ],
      "execution_count": 0,
      "outputs": []
    },
    {
      "metadata": {
        "id": "nu59JC0E1W-c",
        "colab_type": "code",
        "colab": {}
      },
      "cell_type": "code",
      "source": [
        "w, v = LA.eigh(enc_shift)"
      ],
      "execution_count": 0,
      "outputs": []
    },
    {
      "metadata": {
        "id": "MpGMHzKO1h2Q",
        "colab_type": "code",
        "colab": {}
      },
      "cell_type": "code",
      "source": [
        "w"
      ],
      "execution_count": 0,
      "outputs": []
    },
    {
      "metadata": {
        "id": "DJ0SrRCZ1iuM",
        "colab_type": "code",
        "colab": {}
      },
      "cell_type": "code",
      "source": [
        "v"
      ],
      "execution_count": 0,
      "outputs": []
    },
    {
      "metadata": {
        "id": "0qBr187y1kgj",
        "colab_type": "code",
        "colab": {}
      },
      "cell_type": "code",
      "source": [
        "np.max(enc_shift - np.einsum(\"ij, jk, km->im\", v,np.diag(w), v.T))"
      ],
      "execution_count": 0,
      "outputs": []
    },
    {
      "metadata": {
        "id": "fDjWDBvl1552",
        "colab_type": "code",
        "colab": {}
      },
      "cell_type": "code",
      "source": [
        "enc_mean_out.shape"
      ],
      "execution_count": 0,
      "outputs": []
    },
    {
      "metadata": {
        "id": "13rkcPT14n2V",
        "colab_type": "code",
        "colab": {}
      },
      "cell_type": "code",
      "source": [
        "q.shape"
      ],
      "execution_count": 0,
      "outputs": []
    },
    {
      "metadata": {
        "id": "DGJQZlMl4o1V",
        "colab_type": "code",
        "colab": {}
      },
      "cell_type": "code",
      "source": [
        "r.shape"
      ],
      "execution_count": 0,
      "outputs": []
    },
    {
      "metadata": {
        "id": "5e8kAUX-47vz",
        "colab_type": "code",
        "colab": {}
      },
      "cell_type": "code",
      "source": [
        "plt.matshow(np.matmul(q.T, q));\n",
        "plt.grid(False)\n",
        "plt.colorbar()"
      ],
      "execution_count": 0,
      "outputs": []
    },
    {
      "metadata": {
        "id": "j1g-j_Y94_BX",
        "colab_type": "code",
        "colab": {}
      },
      "cell_type": "code",
      "source": [
        "np.matmul(q.T, q)"
      ],
      "execution_count": 0,
      "outputs": []
    },
    {
      "metadata": {
        "id": "b6f1FG-m5Epn",
        "colab_type": "code",
        "colab": {}
      },
      "cell_type": "code",
      "source": [
        "r"
      ],
      "execution_count": 0,
      "outputs": []
    },
    {
      "metadata": {
        "id": "-bajFcmo5vF9",
        "colab_type": "code",
        "colab": {}
      },
      "cell_type": "code",
      "source": [
        "np.linalg.inv(r)"
      ],
      "execution_count": 0,
      "outputs": []
    },
    {
      "metadata": {
        "id": "LneicGTm4q5A",
        "colab_type": "code",
        "colab": {}
      },
      "cell_type": "code",
      "source": [
        "plt.scatter(r[0,:], r[2,:]);\n",
        "plt.axis('equal');"
      ],
      "execution_count": 0,
      "outputs": []
    },
    {
      "metadata": {
        "id": "b7gh9pR94wic",
        "colab_type": "code",
        "colab": {}
      },
      "cell_type": "code",
      "source": [
        "plt.scatter(r[0,:], r[1,:]);\n",
        "plt.axis('equal');"
      ],
      "execution_count": 0,
      "outputs": []
    },
    {
      "metadata": {
        "id": "kUMCKpt542Sd",
        "colab_type": "code",
        "colab": {}
      },
      "cell_type": "code",
      "source": [
        "q"
      ],
      "execution_count": 0,
      "outputs": []
    },
    {
      "metadata": {
        "id": "7QbM-B2v4hZb",
        "colab_type": "code",
        "colab": {}
      },
      "cell_type": "code",
      "source": [
        "q, r = np.linalg.qr(enc_mean_out.T)"
      ],
      "execution_count": 0,
      "outputs": []
    },
    {
      "metadata": {
        "id": "I8ePjs2k1_cc",
        "colab_type": "code",
        "colab": {}
      },
      "cell_type": "code",
      "source": [
        "rotated = np.einsum(\"ij, jk, km->im\", v.T,enc_shift, v)"
      ],
      "execution_count": 0,
      "outputs": []
    },
    {
      "metadata": {
        "id": "EPXrAWJ72fr5",
        "colab_type": "code",
        "colab": {}
      },
      "cell_type": "code",
      "source": [
        "enc_mean_out_1 = np.matmul(enc_mean_out, v.T)"
      ],
      "execution_count": 0,
      "outputs": []
    },
    {
      "metadata": {
        "id": "bANHNALZ19fr",
        "colab_type": "code",
        "colab": {}
      },
      "cell_type": "code",
      "source": [
        "plt.scatter(enc_mean_out_1[:,0], enc_mean_out_1[:,2]);\n",
        "plt.axis('equal');"
      ],
      "execution_count": 0,
      "outputs": []
    },
    {
      "metadata": {
        "id": "donoR4ovakbi",
        "colab_type": "code",
        "colab": {}
      },
      "cell_type": "code",
      "source": [
        "import numpy as np\n",
        "from scipy.linalg import qr\n",
        "\n",
        "n = 3\n",
        "H = np.random.randn(n, n)\n",
        "Q, R = qr(H)\n",
        "\n",
        "print (Q.dot(Q.T))"
      ],
      "execution_count": 0,
      "outputs": []
    },
    {
      "metadata": {
        "id": "xn0gjvEraoSR",
        "colab_type": "code",
        "colab": {}
      },
      "cell_type": "code",
      "source": [
        "enc_mean_rd = np.matmul(enc_mean_out, Q)"
      ],
      "execution_count": 0,
      "outputs": []
    },
    {
      "metadata": {
        "id": "wgxuH6feavk9",
        "colab_type": "code",
        "colab": {}
      },
      "cell_type": "code",
      "source": [
        "plt.scatter(enc_mean_rd[:,0], enc_mean_rd[:,1]);\n",
        "plt.axis('equal');"
      ],
      "execution_count": 0,
      "outputs": []
    },
    {
      "metadata": {
        "id": "9eax4CKjpp7c",
        "colab_type": "code",
        "colab": {}
      },
      "cell_type": "code",
      "source": [
        "plt.scatter(enc_log_sd_out[:,0], enc_log_sd_out[:,1]);\n",
        "plt.axis('equal');"
      ],
      "execution_count": 0,
      "outputs": []
    },
    {
      "metadata": {
        "id": "PGikHTlzLkX0",
        "colab_type": "code",
        "colab": {}
      },
      "cell_type": "code",
      "source": [
        "plt.scatter(enc_log_sd_out[:,0], enc_log_sd_out[:,2]);\n",
        "plt.axis('equal');"
      ],
      "execution_count": 0,
      "outputs": []
    },
    {
      "metadata": {
        "id": "AE95kFX7uioQ",
        "colab_type": "code",
        "colab": {}
      },
      "cell_type": "code",
      "source": [
        "Z_plot = np.reshape(Z_test, [31, 31, 31, 3])\n",
        "dc = np.reshape(dec_mean_out_i1, [31, 31, 31, 6])"
      ],
      "execution_count": 0,
      "outputs": []
    },
    {
      "metadata": {
        "id": "B24XUbmCfTxB",
        "colab_type": "code",
        "colab": {}
      },
      "cell_type": "code",
      "source": [
        "plt.scatter(train[:,0], train[:,1], label='train_data');\n",
        "plt.scatter(dec_mean_out[:,0], dec_mean_out[:,1], label='learnt model')\n",
        "plt.scatter(dc[:,0,0,0], dc[:,0,0,1], label='changing z1');\n",
        "plt.scatter(dc[0,:,0,0], dc[0,:,0,1], label='changing z2');\n",
        "plt.scatter(dc[0,0,:,0], dc[0,0,:,1], label='changing z3');\n",
        "plt.legend();"
      ],
      "execution_count": 0,
      "outputs": []
    },
    {
      "metadata": {
        "id": "8GX-uB5i1PXW",
        "colab_type": "code",
        "colab": {}
      },
      "cell_type": "code",
      "source": [
        "plt.scatter(train[:,2], train[:,3], label='train_data');\n",
        "plt.scatter(dec_mean_out[:,2], dec_mean_out[:,3], label='learnt model')\n",
        "plt.scatter(dc[:,0,0,2], dc[:,0,0,3], label='changing z1');\n",
        "plt.scatter(dc[0,:,0,2], dc[0,:,0,3], label='changing z2');\n",
        "plt.scatter(dc[0,0,:,2], dc[0,0,:,3], label='changing z3');\n",
        "plt.legend();"
      ],
      "execution_count": 0,
      "outputs": []
    },
    {
      "metadata": {
        "id": "tQ5YqFv5vZq3",
        "colab_type": "code",
        "colab": {}
      },
      "cell_type": "code",
      "source": [
        "plt.scatter(train[:,4], train[:,5], label='train_data');\n",
        "plt.scatter(dec_mean_out[:,4], dec_mean_out[:,5], label='learnt model')\n",
        "plt.scatter(dc[:,0,0,4], dc[:,0,0,5], label='changing z1');\n",
        "plt.scatter(dc[0,:,0,4], dc[0,:,0,5], label='changing z2');\n",
        "plt.scatter(dc[0,0,:,4], dc[0,0,:,5], label='changing z3');\n",
        "plt.legend();"
      ],
      "execution_count": 0,
      "outputs": []
    },
    {
      "metadata": {
        "id": "wDRXn6bLkY50",
        "colab_type": "code",
        "colab": {}
      },
      "cell_type": "code",
      "source": [
        "def configure_plotly_browser_state():\n",
        "  import IPython\n",
        "  display(IPython.core.display.HTML('''\n",
        "        <script src=\"/static/components/requirejs/require.js\"></script>\n",
        "        <script>\n",
        "          requirejs.config({\n",
        "            paths: {\n",
        "              base: '/static/base',\n",
        "              plotly: 'https://cdn.plot.ly/plotly-1.5.1.min.js?noext',\n",
        "            },\n",
        "          });\n",
        "        </script>\n",
        "        '''))"
      ],
      "execution_count": 0,
      "outputs": []
    },
    {
      "metadata": {
        "id": "WkKusQULLl14",
        "colab_type": "code",
        "colab": {}
      },
      "cell_type": "code",
      "source": [
        "angle = np.pi/4\n",
        "sin = np.sin(angle)\n",
        "cos = np.cos(angle)\n",
        "rot_z = np.array([[cos, -sin, 0],[sin, cos, 0],[0,0,1]])\n",
        "rot_enc = np.matmul(enc_mean_out, rot_z)"
      ],
      "execution_count": 0,
      "outputs": []
    },
    {
      "metadata": {
        "id": "YSJJANafkZPM",
        "colab_type": "code",
        "colab": {}
      },
      "cell_type": "code",
      "source": [
        "#plot the training and test data \n",
        "import plotly.plotly as py\n",
        "import numpy as np\n",
        "from plotly.offline import init_notebook_mode, iplot\n",
        "from plotly.graph_objs import Contours, Histogram2dContour, Marker, Scatter\n",
        "\n",
        "configure_plotly_browser_state()\n",
        "\n",
        "init_notebook_mode(connected=False)\n",
        "\n",
        "\n",
        "\n",
        "import plotly.graph_objs as go\n",
        "\n",
        "# x, y, z = train[:,3], train[:,1], train[:,0]\n",
        "# xt, yt, zt = train[:,4], train[:,2], train[:,5]\n",
        "\n",
        "x, y, z = enc_mean_out[:,0], enc_mean_out[:,1], enc_mean_out[:,2]\n",
        "x1, y1, z1 = rot_enc[:,0], rot_enc[:,1], rot_enc[:,2]\n",
        "\n",
        "trace1 = go.Scatter3d(\n",
        "    x=x,\n",
        "    y=y,\n",
        "    z=z,\n",
        "    name = 'line',\n",
        "    mode='markers',\n",
        "    marker=dict(\n",
        "        size=5,\n",
        "        color=1,                # set color to an array/list of desired values\n",
        "        colorscale='Viridis',   # choose a colorscale\n",
        "        opacity=0.8\n",
        "    )\n",
        ")\n",
        "\n",
        "\n",
        "trace2 = go.Scatter3d(\n",
        "    x=x1,\n",
        "    y=y1,\n",
        "    z=z1,\n",
        "    name = 'line',\n",
        "    mode='markers',\n",
        "    marker=dict(\n",
        "        size=5,\n",
        "        color=1,                # set color to an array/list of desired values\n",
        "        colorscale='Viridis',   # choose a colorscale\n",
        "        opacity=0.8\n",
        "    )\n",
        ")\n",
        "\n",
        "data = [trace1]\n",
        "layout = go.Layout(\n",
        "    margin=dict(\n",
        "        l=0,\n",
        "        r=0,\n",
        "        b=0,\n",
        "        t=0\n",
        "    )\n",
        ")\n",
        "\n",
        "\n",
        "\n",
        "fig = go.Figure(data=data, layout=layout)\n",
        "iplot(fig, filename='3d-scatter-colorscale')"
      ],
      "execution_count": 0,
      "outputs": []
    }
  ]
}