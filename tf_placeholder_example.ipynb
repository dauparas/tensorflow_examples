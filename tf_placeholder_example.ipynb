{
  "nbformat": 4,
  "nbformat_minor": 0,
  "metadata": {
    "colab": {
      "name": "tf_placeholder_example.ipynb",
      "version": "0.3.2",
      "provenance": [],
      "collapsed_sections": []
    },
    "kernelspec": {
      "name": "python3",
      "display_name": "Python 3"
    }
  },
  "cells": [
    {
      "metadata": {
        "id": "H-zFSs0FbbSL",
        "colab_type": "code",
        "colab": {}
      },
      "cell_type": "code",
      "source": [
        "#Import libraries\n",
        "import numpy as np\n",
        "import tensorflow as tf\n",
        "import matplotlib.pyplot as plt\n",
        "%matplotlib inline\n",
        "plt.style.use('ggplot')"
      ],
      "execution_count": 0,
      "outputs": []
    },
    {
      "metadata": {
        "id": "IvTijQ2Td9rn",
        "colab_type": "code",
        "colab": {}
      },
      "cell_type": "code",
      "source": [
        "#Create some data\n",
        "np.random.seed(0)\n",
        "x = np.random.uniform(0,1,100) \n",
        "y = 1.2*x + 0.1*np.random.randn(x.shape[0])"
      ],
      "execution_count": 0,
      "outputs": []
    },
    {
      "metadata": {
        "id": "NMiIYqrveU_1",
        "colab_type": "code",
        "colab": {
          "base_uri": "https://localhost:8080/",
          "height": 265
        },
        "outputId": "aa0b5954-02ae-4d1f-e421-47342fa8f732"
      },
      "cell_type": "code",
      "source": [
        "#Plot the data\n",
        "plt.scatter(x, y);"
      ],
      "execution_count": 147,
      "outputs": [
        {
          "output_type": "display_data",
          "data": {
            "image/png": "[encoded data removed]",
            "text/plain": [
              "<Figure size 432x288 with 1 Axes>"
            ]
          },
          "metadata": {
            "tags": []
          }
        }
      ]
    },
    {
      "metadata": {
        "id": "1wVUk8XreZpk",
        "colab_type": "code",
        "colab": {}
      },
      "cell_type": "code",
      "source": [
        "#Reset the graph \n",
        "tf.reset_default_graph()\n",
        "\n",
        "#Parameters\n",
        "learning_rate = 0.01\n",
        "batch_size = 10\n",
        "n_epochs = 100\n",
        "\n",
        "#Create placeholders\n",
        "X = tf.placeholder(tf.float32, shape=[None, 1], name='X')\n",
        "Y = tf.placeholder(tf.float32, shape=[None, 1], name='Y')\n",
        "LEARNING_RATE = tf.placeholder(tf.float32, shape=[], name='LEARNING_RATE')\n",
        "#Create variables\n",
        "A = tf.get_variable('A', shape=[1], dtype=tf.float32, initializer=tf.random_normal_initializer())\n",
        "B = tf.get_variable('B', shape=[1], dtype=tf.float32, initializer=tf.zeros_initializer())\n",
        "\n",
        "#Create a linear model\n",
        "y_pred = A*X + B\n",
        "\n",
        "#Define a loss function\n",
        "loss = tf.reduce_sum(tf.square(y_pred-Y), axis=0)\n",
        "\n",
        "#Define an optimizer\n",
        "optimizer = tf.train.AdamOptimizer(LEARNING_RATE).minimize(loss)"
      ],
      "execution_count": 0,
      "outputs": []
    },
    {
      "metadata": {
        "id": "tqbP-efY8sdU",
        "colab_type": "code",
        "colab": {}
      },
      "cell_type": "code",
      "source": [
        "def batch_generator(features, labels, batch_size):\n",
        "  \"\"\"Function to create python generator to shuffle and split features and labels into batches along the first dimension.\"\"\"\n",
        "  idx = np.arange(features.shape[0])\n",
        "  np.random.shuffle(idx)\n",
        "  for start_idx in range(0, features.shape[0], batch_size):\n",
        "    end_idx = min(start_idx + batch_size, features.shape[0])\n",
        "    part = idx[start_idx:end_idx]\n",
        "    yield features[part], labels[part]"
      ],
      "execution_count": 0,
      "outputs": []
    },
    {
      "metadata": {
        "id": "9zxjy9n6A577",
        "colab_type": "code",
        "colab": {
          "base_uri": "https://localhost:8080/",
          "height": 221
        },
        "outputId": "68f48dc6-4556-4854-e06b-0d941992616e"
      },
      "cell_type": "code",
      "source": [
        "#Create a TF session:\n",
        "saver = tf.train.Saver()\n",
        "with tf.Session() as sess:\n",
        "  sess.run(tf.global_variables_initializer())\n",
        "  for i in range(n_epochs):\n",
        "    learning_rate = 0.1 - 0.05*((i+1)/n_epochs) #variable learning rate\n",
        "    batch_size = np.int(2+20*((i+1)/n_epochs)) #variable batch size\n",
        "    gen = batch_generator(x, y, batch_size) #create batch generator\n",
        "    total_loss = 0\n",
        "    for j in range(np.int(x.shape[0]/batch_size)):\n",
        "      x_batch, y_batch = gen.__next__()\n",
        "      x_batch, y_batch = x_batch[:, np.newaxis], y_batch[:, np.newaxis]\n",
        "      _, batch_loss = sess.run([optimizer, loss], feed_dict={X: x_batch, Y: y_batch, LEARNING_RATE: learning_rate})\n",
        "      total_loss += batch_loss\n",
        "    if (i+1)% 10 == 0 or i == 0:\n",
        "      print('Epoch: {0}, Loss: {1}'.format((i+1), total_loss))\n",
        "    a, b = sess.run([A, B])\n",
        "  save_path = saver.save(sess, \"./tmp/linear.ckpt\")\n",
        "  print(\"Model saved in path: %s\" % save_path)"
      ],
      "execution_count": 159,
      "outputs": [
        {
          "output_type": "stream",
          "text": [
            "Epoch: 1, Loss: [3.9511735]\n",
            "Epoch: 10, Loss: [1.1477625]\n",
            "Epoch: 20, Loss: [1.0226266]\n",
            "Epoch: 30, Loss: [1.1828575]\n",
            "Epoch: 40, Loss: [1.1779041]\n",
            "Epoch: 50, Loss: [1.2187423]\n",
            "Epoch: 60, Loss: [1.1227932]\n",
            "Epoch: 70, Loss: [0.990875]\n",
            "Epoch: 80, Loss: [0.9205338]\n",
            "Epoch: 90, Loss: [1.1026571]\n",
            "Epoch: 100, Loss: [0.89151335]\n",
            "Model saved in path: ./tmp/linear.ckpt\n"
          ],
          "name": "stdout"
        }
      ]
    },
    {
      "metadata": {
        "id": "AoJHhvm_F9-w",
        "colab_type": "code",
        "colab": {
          "base_uri": "https://localhost:8080/",
          "height": 282
        },
        "outputId": "afd31cf7-3f7b-4d42-bb9f-28894c440bc0"
      },
      "cell_type": "code",
      "source": [
        "plt.scatter(x, y);\n",
        "plt.scatter(x, a*x+b);\n",
        "print(a, b)"
      ],
      "execution_count": 164,
      "outputs": [
        {
          "output_type": "stream",
          "text": [
            "[1.1886508] [0.03255336]\n"
          ],
          "name": "stdout"
        },
        {
          "output_type": "display_data",
          "data": {
            "image/png": "[encoded data removed]",
            "text/plain": [
              "<Figure size 432x288 with 1 Axes>"
            ]
          },
          "metadata": {
            "tags": []
          }
        }
      ]
    },
    {
      "metadata": {
        "id": "JTvuUwCpHSJU",
        "colab_type": "code",
        "colab": {
          "base_uri": "https://localhost:8080/",
          "height": 85
        },
        "outputId": "2cae08ca-5292-402c-8c7e-4a06c5c81a6b"
      },
      "cell_type": "code",
      "source": [
        "tf.reset_default_graph()\n",
        "\n",
        "# Create some variables.\n",
        "A = tf.get_variable('A', shape=[1], dtype=tf.float32)\n",
        "B = tf.get_variable('B', shape=[1], dtype=tf.float32)\n",
        "\n",
        "# Add ops to save and restore all the variables.\n",
        "saver = tf.train.Saver()\n",
        "\n",
        "# Later, launch the model, use the saver to restore variables from disk, and\n",
        "# do some work with the model.\n",
        "with tf.Session() as sess:\n",
        "  # Restore variables from disk.\n",
        "  saver.restore(sess, \"./tmp/linear.ckpt\")\n",
        "  print(\"Model restored.\")\n",
        "  # Check the values of the variables\n",
        "  print(\"A : %s\" % A.eval())\n",
        "  print(\"B : %s\" % B.eval())"
      ],
      "execution_count": 165,
      "outputs": [
        {
          "output_type": "stream",
          "text": [
            "INFO:tensorflow:Restoring parameters from ./tmp/linear.ckpt\n",
            "Model restored.\n",
            "A : [1.1886508]\n",
            "B : [0.03255336]\n"
          ],
          "name": "stdout"
        }
      ]
    },
    {
      "metadata": {
        "id": "oC_pi0bwLETM",
        "colab_type": "code",
        "colab": {}
      },
      "cell_type": "code",
      "source": [
        ""
      ],
      "execution_count": 0,
      "outputs": []
    }
  ]
}