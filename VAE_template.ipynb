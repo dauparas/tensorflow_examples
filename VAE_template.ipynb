{
  "nbformat": 4,
  "nbformat_minor": 0,
  "metadata": {
    "colab": {
      "name": "VAE_template.ipynb",
      "version": "0.3.2",
      "provenance": [],
      "collapsed_sections": [],
      "include_colab_link": true
    },
    "kernelspec": {
      "name": "python3",
      "display_name": "Python 3"
    },
    "accelerator": "GPU"
  },
  "cells": [
    {
      "cell_type": "markdown",
      "metadata": {
        "id": "view-in-github",
        "colab_type": "text"
      },
      "source": [
        "<a href=\"https://colab.research.google.com/github/dauparas/tensorflow_examples/blob/master/VAE_template.ipynb\" target=\"_parent\"><img src=\"https://colab.research.google.com/assets/colab-badge.svg\" alt=\"Open In Colab\"/></a>"
      ]
    },
    {
      "cell_type": "markdown",
      "metadata": {
        "id": "pXQG7VtQVk6Z",
        "colab_type": "text"
      },
      "source": [
        "Simple template for the Variational Autoencoder Model (VAE):\n",
        "\n",
        "https://arxiv.org/pdf/1312.6114.pdf"
      ]
    },
    {
      "cell_type": "code",
      "metadata": {
        "id": "e2g_RSNtL0jI",
        "colab_type": "code",
        "colab": {
          "base_uri": "https://localhost:8080/",
          "height": 119
        },
        "outputId": "7fbfd2de-1c85-41ea-9cba-f13709bbbc0b"
      },
      "source": [
        "#@title Install { display-mode: \"form\" }\n",
        "TF_Installation = 'TF2 Nightly (GPU)' #@param ['TF2 Nightly (GPU)', 'TF2 Stable (GPU)', 'TF1 Nightly (GPU)', 'TF1 Stable (GPU)','System']\n",
        "\n",
        "if TF_Installation == 'TF2 Nightly (GPU)':\n",
        "  !pip install -q --upgrade tf-nightly-gpu-2.0-preview\n",
        "  print('Installation of `tf-nightly-gpu-2.0-preview` complete.')\n",
        "elif TF_Installation == 'TF2 Stable (GPU)':\n",
        "  !pip install -q --upgrade tensorflow-gpu==2.0.0-alpha0\n",
        "  print('Installation of `tensorflow-gpu==2.0.0-alpha0` complete.')\n",
        "elif TF_Installation == 'TF1 Nightly (GPU)':\n",
        "  !pip install -q --upgrade tf-nightly-gpu\n",
        "  print('Installation of `tf-nightly-gpu` complete.')\n",
        "elif TF_Installation == 'TF1 Stable (GPU)':\n",
        "  !pip install -q --upgrade tensorflow-gpu\n",
        "  print('Installation of `tensorflow-gpu` complete.')\n",
        "elif TF_Installation == 'System':\n",
        "  pass\n",
        "else:\n",
        "  raise ValueError('Selection Error: Please select a valid '\n",
        "                   'installation option.')"
      ],
      "execution_count": 1,
      "outputs": [
        {
          "output_type": "stream",
          "text": [
            "\u001b[K     |████████████████████████████████| 369.9MB 49kB/s \n",
            "\u001b[K     |████████████████████████████████| 61kB 27.9MB/s \n",
            "\u001b[K     |████████████████████████████████| 450kB 56.5MB/s \n",
            "\u001b[K     |████████████████████████████████| 3.2MB 50.4MB/s \n",
            "\u001b[?25h  Building wheel for opt-einsum (setup.py) ... \u001b[?25l\u001b[?25hdone\n",
            "Installation of `tf-nightly-gpu-2.0-preview` complete.\n"
          ],
          "name": "stdout"
        }
      ]
    },
    {
      "cell_type": "code",
      "metadata": {
        "id": "LXUDTbPXMjnB",
        "colab_type": "code",
        "colab": {}
      },
      "source": [
        "#@title Import { display-mode: \"form\" }\n",
        "\n",
        "from __future__ import absolute_import\n",
        "from __future__ import division\n",
        "from __future__ import print_function\n",
        "\n",
        "import numpy as np\n",
        "\n",
        "import tensorflow as tf\n",
        "from tensorflow.python import tf2\n",
        "if not tf2.enabled():\n",
        "  import tensorflow.compat.v2 as tf\n",
        "  tf.enable_v2_behavior()\n",
        "  assert tf2.enabled()\n",
        "\n",
        "import tensorflow_datasets as tfds\n",
        "import tensorflow_probability as tfp\n",
        "\n",
        "\n",
        "tfk = tf.keras\n",
        "tfkl = tf.keras.layers\n",
        "tfpl = tfp.layers\n",
        "tfd = tfp.distributions"
      ],
      "execution_count": 0,
      "outputs": []
    },
    {
      "cell_type": "code",
      "metadata": {
        "id": "1fWlLG25Mq2c",
        "colab_type": "code",
        "colab": {
          "base_uri": "https://localhost:8080/",
          "height": 34
        },
        "outputId": "029b18fc-b676-4b07-e4ab-a0890f1203b6"
      },
      "source": [
        "if tf.test.gpu_device_name() != '/device:GPU:0':\n",
        "  print('WARNING: GPU device not found.')\n",
        "else:\n",
        "  print('SUCCESS: Found GPU: {}'.format(tf.test.gpu_device_name()))"
      ],
      "execution_count": 3,
      "outputs": [
        {
          "output_type": "stream",
          "text": [
            "SUCCESS: Found GPU: /device:GPU:0\n"
          ],
          "name": "stdout"
        }
      ]
    },
    {
      "cell_type": "code",
      "metadata": {
        "id": "bL6BBloIUobY",
        "colab_type": "code",
        "colab": {}
      },
      "source": [
        "# #Step 1: import dependencies\n",
        "# from tensorflow.keras import layers\n",
        "# import numpy as np\n",
        "# import matplotlib.pyplot as plt\n",
        "# import seaborn as sns\n",
        "# import tensorflow as tf\n",
        "# from keras import regularizers\n",
        "# import time\n",
        "# from __future__ import division\n",
        "\n",
        "# import tensorflow as tf\n",
        "# import tensorflow_probability as tfp\n",
        "# tfd = tfp.distributions\n",
        "\n",
        "# %matplotlib inline\n",
        "# plt.style.use('ggplot')"
      ],
      "execution_count": 0,
      "outputs": []
    },
    {
      "cell_type": "code",
      "metadata": {
        "id": "4E1cgAP9UtB_",
        "colab_type": "code",
        "colab": {}
      },
      "source": [
        "#Multivariate diagional\n",
        "def create_encoder(inpt, latent_size):\n",
        "  x = inpt\n",
        "  x = tf.layers.dense(x, 64, tf.nn.relu)\n",
        "  x = tf.layers.dense(x, 32, tf.nn.relu)\n",
        "  x = tf.layers.dense(x, 16, tf.nn.relu)\n",
        "  loc = tf.layers.dense(x,latent_size)\n",
        "  log_variance = tf.layers.dense(x, latent_size)\n",
        "  scale = tf.nn.softplus(log_variance)\n",
        "  return tfd.MultivariateNormalDiag(loc, scale)\n",
        "\n",
        "def create_prior(latent_size):\n",
        "  return tfd.Independent(tfd.Normal(loc=tf.zeros(latent_size), scale=1), reinterpreted_batch_ndims=1)\n",
        "\n",
        "def create_decoder(inpt, output_size):\n",
        "  x = inpt\n",
        "  x = tf.layers.dense(x, 16, tf.nn.relu)\n",
        "  x = tf.layers.dense(x, 32, tf.nn.relu)\n",
        "  x = tf.layers.dense(x, 64, tf.nn.relu)\n",
        "  loc = tf.layers.dense(x, output_size)\n",
        "  scale = 0.0001*tf.ones(output_size)\n",
        "  return tfd.MultivariateNormalDiag(loc, scale)"
      ],
      "execution_count": 0,
      "outputs": []
    },
    {
      "cell_type": "code",
      "metadata": {
        "id": "6cz7pGYjU6Mo",
        "colab_type": "code",
        "colab": {}
      },
      "source": [
        "#Connect encoder and decoder and define the loss function\n",
        "tf.reset_default_graph()\n",
        "\n",
        "x = tf.placeholder(tf.float32, shape=[None, N_genes], name='x')\n",
        "\n",
        "latent_prior = create_prior(latent_size=2)\n",
        "\n",
        "print(latent_prior.batch_shape)\n",
        "print(latent_prior.event_shape)\n",
        "latent_posterior = create_encoder(x, latent_size=2)\n",
        "\n",
        "print(latent_posterior.batch_shape)\n",
        "print(latent_posterior.event_shape)\n",
        "\n",
        "latent_sampled = latent_posterior.sample()\n",
        "latent_mean = latent_posterior.mean()\n",
        "\n",
        "posterior = create_decoder(latent_sampled, X.shape[1])\n",
        "\n",
        "print(posterior.batch_shape)\n",
        "print(posterior.event_shape)\n",
        "\n",
        "posterior_sampled = posterior.sample()\n",
        "posterior_mean = posterior.mean()\n",
        "\n",
        "rec_loss = -tf.reduce_mean(posterior.log_prob(x))\n",
        "kl = tf.reduce_mean(tfd.kl_divergence(latent_posterior, latent_prior)) #analytical\n",
        "#kl = tf.reduce_mean(latent_posterior.log_prob(latent_sampled)- latent_prior.log_prob(latent_sampled)) #approximate KL\n",
        "beta=0.000000001\n",
        "gamma = 10.0\n",
        "#kl_loss = beta*kl\n",
        "#C = tf.placeholder(tf.float32, name='C') \n",
        "kl_loss = beta*kl\n",
        "loss = rec_loss + kl_loss\n",
        "optimizer = tf.train.AdamOptimizer(0.001).minimize(loss)"
      ],
      "execution_count": 0,
      "outputs": []
    },
    {
      "cell_type": "code",
      "metadata": {
        "id": "x9JD4QmGM2xd",
        "colab_type": "code",
        "colab": {}
      },
      "source": [
        "input_shape = datasets_info.features['image'].shape\n",
        "encoded_size = 16\n",
        "base_depth = 32"
      ],
      "execution_count": 0,
      "outputs": []
    },
    {
      "cell_type": "code",
      "metadata": {
        "id": "HRidDQebM5h8",
        "colab_type": "code",
        "colab": {}
      },
      "source": [
        "prior = tfd.Independent(tfd.Normal(loc=tf.zeros(encoded_size), scale=1),\n",
        "                        reinterpreted_batch_ndims=1)"
      ],
      "execution_count": 0,
      "outputs": []
    }
  ]
}