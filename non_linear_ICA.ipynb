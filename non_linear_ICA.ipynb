{
  "nbformat": 4,
  "nbformat_minor": 0,
  "metadata": {
    "colab": {
      "name": "non_linear_ICA.ipynb",
      "version": "0.3.2",
      "provenance": [],
      "collapsed_sections": [],
      "include_colab_link": true
    },
    "kernelspec": {
      "name": "python3",
      "display_name": "Python 3"
    }
  },
  "cells": [
    {
      "cell_type": "markdown",
      "metadata": {
        "id": "view-in-github",
        "colab_type": "text"
      },
      "source": [
        "<a href=\"https://colab.research.google.com/github/dauparas/tensorflow_examples/blob/master/non_linear_ICA.ipynb\" target=\"_parent\"><img src=\"https://colab.research.google.com/assets/colab-badge.svg\" alt=\"Open In Colab\"/></a>"
      ]
    },
    {
      "metadata": {
        "id": "ie26ufEqrfmw",
        "colab_type": "code",
        "colab": {}
      },
      "cell_type": "code",
      "source": [
        "#Step 1: import dependencies\n",
        "from tensorflow.keras import layers\n",
        "import numpy as np\n",
        "import matplotlib.pyplot as plt\n",
        "import seaborn as sns\n",
        "import tensorflow as tf\n",
        "from keras import regularizers\n",
        "import time\n",
        "from __future__ import division\n",
        "\n",
        "import tensorflow as tf\n",
        "import tensorflow_probability as tfp\n",
        "tfd = tfp.distributions\n",
        "\n",
        "%matplotlib inline\n",
        "plt.style.use('ggplot')"
      ],
      "execution_count": 0,
      "outputs": []
    },
    {
      "metadata": {
        "id": "8vJlYoGbr1EW",
        "colab_type": "code",
        "colab": {}
      },
      "cell_type": "code",
      "source": [
        "t = np.linspace(0, 1, 501)\n",
        "t_rand = t[np.random.permutation(t.shape[0])]\n",
        "s_1 = 0.1*t\n",
        "s_2 = -0.5*t+0.2\n",
        "\n",
        "x_1 = 0.3*s_1+0.4*s_2\n",
        "x_2 = -0.3*s_1+0.9*s_2\n",
        "#x_3 = 0.4*s_1\n",
        "\n",
        "x_1 = np.reshape(x_1, [-1,1])\n",
        "x_2 = np.reshape(x_2, [-1,1])\n",
        "#x_3 = np.reshape(x_3, [-1,1])\n",
        "\n",
        "x = np.concatenate((x_1, x_2), axis=1)\n",
        "\n",
        "x_true = np.concatenate((x, np.reshape(t, [-1,1])), axis=1)\n",
        "c_true = 1+np.zeros([x_true.shape[0],1], np.int32)\n",
        "x_false = np.concatenate((x, np.reshape(t_rand, [-1,1])), axis=1)\n",
        "c_false = np.zeros([x_true.shape[0],1], np.int32)\n",
        "\n",
        "features = np.concatenate((x_true, x_false), axis=0)\n",
        "labels = np.concatenate((c_true, c_false), axis=0)"
      ],
      "execution_count": 0,
      "outputs": []
    },
    {
      "metadata": {
        "id": "Bkj3evo7v0aH",
        "colab_type": "code",
        "colab": {}
      },
      "cell_type": "code",
      "source": [
        "#Reset the graph \n",
        "tf.reset_default_graph()\n",
        "\n",
        "#Parameters\n",
        "learning_rate = 0.001\n",
        "batch_size = 10\n",
        "n_epochs = 500\n",
        "\n",
        "#Create placeholders\n",
        "X = tf.placeholder(tf.float32, shape=[None, 3], name='X')\n",
        "Y = tf.placeholder(tf.float32, shape=[None, 1], name='Y')\n",
        "LEARNING_RATE = tf.placeholder(tf.float32, shape=[], name='LEARNING_RATE')\n",
        "#Create variables\n",
        "\n",
        "\n",
        "\n",
        "h = tf.layers.dense(X[:,0:-1], 2, tf.nn.leaky_relu)\n",
        "h = tf.layers.dense(h, 2, tf.nn.leaky_relu)\n",
        "z = tf.layers.dense(h, 2, tf.nn.leaky_relu)\n",
        "\n",
        "k1 = tf.concat([tf.reshape(z[:,0],[-1,1]), tf.reshape(X[:,-1], [-1,1])], axis=1)\n",
        "k1 = tf.layers.dense(k1,8, tf.nn.relu)\n",
        "k1 = tf.layers.dense(k1,8, tf.nn.relu)\n",
        "k1 = tf.layers.dense(k1,8, tf.nn.relu)\n",
        "k1 = tf.layers.dense(k1,1)\n",
        "\n",
        "k2 = tf.concat([tf.reshape(z[:,1],[-1,1]), tf.reshape(X[:,-1], [-1,1])], axis=1)\n",
        "k2 = tf.layers.dense(k2,8, tf.nn.relu)\n",
        "k2 = tf.layers.dense(k2,8, tf.nn.relu)\n",
        "k2 = tf.layers.dense(k2,8, tf.nn.relu)\n",
        "k2 = tf.layers.dense(k2,1)\n",
        "\n",
        "k = k1+k2\n",
        "\n",
        "\n",
        "cross_entropy = tf.nn.sigmoid_cross_entropy_with_logits(labels=Y, logits=k)\n",
        "\n",
        "\n",
        "loss = tf.reduce_mean(cross_entropy)\n",
        "\n",
        "#Define an optimizer\n",
        "optimizer = tf.train.AdamOptimizer(LEARNING_RATE).minimize(loss)\n",
        "\n",
        "\n",
        "predicted = tf.nn.sigmoid(k)\n",
        "correct_pred = tf.equal(tf.round(predicted), Y)\n",
        "accuracy = tf.reduce_mean(tf.cast(correct_pred, tf.float32))"
      ],
      "execution_count": 0,
      "outputs": []
    },
    {
      "metadata": {
        "id": "R64DumCrzRRj",
        "colab_type": "code",
        "colab": {}
      },
      "cell_type": "code",
      "source": [
        "def batch_generator(features, labels, batch_size):\n",
        "  \"\"\"Function to create python generator to shuffle and split features and labels into batches along the first dimension.\"\"\"\n",
        "  idx = np.arange(features.shape[0])\n",
        "  np.random.shuffle(idx)\n",
        "  for start_idx in range(0, features.shape[0], batch_size):\n",
        "    end_idx = min(start_idx + batch_size, features.shape[0])\n",
        "    part = idx[start_idx:end_idx]\n",
        "    yield features[part], labels[part]"
      ],
      "execution_count": 0,
      "outputs": []
    },
    {
      "metadata": {
        "id": "hKdfR_sQzUOd",
        "colab_type": "code",
        "colab": {
          "base_uri": "https://localhost:8080/",
          "height": 884
        },
        "outputId": "e7a1a38e-eb81-4d79-a63c-6df7aa6bf333"
      },
      "cell_type": "code",
      "source": [
        "#Create a TF session:\n",
        "with tf.Session() as sess:\n",
        "  sess.run(tf.global_variables_initializer())\n",
        "  for i in range(n_epochs):\n",
        "    gen = batch_generator(features, labels, batch_size) #create batch generator\n",
        "    total_loss = 0\n",
        "    total_acc = 0\n",
        "    for j in range(np.int(x.shape[0]/batch_size)):\n",
        "      x_batch, y_batch = gen.__next__()\n",
        "      _, batch_loss, batch_acc = sess.run([optimizer, loss, accuracy], feed_dict={X: x_batch, Y: y_batch, LEARNING_RATE: learning_rate})\n",
        "      total_loss += batch_loss\n",
        "      total_acc += batch_acc\n",
        "    if (i+1)% 10 == 0 or i == 0:\n",
        "      print('Epoch: {0}, Loss: {1}, Batch_acc: {2}'.format((i+1), total_loss, total_acc))\n",
        "  latent = sess.run([z], feed_dict= {X: features})"
      ],
      "execution_count": 148,
      "outputs": [
        {
          "output_type": "stream",
          "text": [
            "Epoch: 1, Loss: 35.12101572751999, Batch_acc: 26.200000278651714\n",
            "Epoch: 10, Loss: 31.136705577373505, Batch_acc: 33.100000351667404\n",
            "Epoch: 20, Loss: 17.52789343893528, Batch_acc: 44.29999974370003\n",
            "Epoch: 30, Loss: 11.940576933324337, Batch_acc: 46.09999966621399\n",
            "Epoch: 40, Loss: 11.696612935513258, Batch_acc: 45.89999961853027\n",
            "Epoch: 50, Loss: 7.513543467968702, Batch_acc: 47.49999958276749\n",
            "Epoch: 60, Loss: 6.517838163301349, Batch_acc: 47.69999974966049\n",
            "Epoch: 70, Loss: 7.084107633680105, Batch_acc: 47.599999606609344\n",
            "Epoch: 80, Loss: 6.744522077962756, Batch_acc: 47.799999713897705\n",
            "Epoch: 90, Loss: 5.697542718611658, Batch_acc: 48.09999966621399\n",
            "Epoch: 100, Loss: 5.731789702549577, Batch_acc: 47.999999701976776\n",
            "Epoch: 110, Loss: 5.949953834526241, Batch_acc: 47.79999965429306\n",
            "Epoch: 120, Loss: 5.2890699207782745, Batch_acc: 48.29999977350235\n",
            "Epoch: 130, Loss: 3.80064694955945, Batch_acc: 48.89999979734421\n",
            "Epoch: 140, Loss: 5.403296328149736, Batch_acc: 48.19999969005585\n",
            "Epoch: 150, Loss: 6.94664421165362, Batch_acc: 48.19999957084656\n",
            "Epoch: 160, Loss: 4.670060228556395, Batch_acc: 48.599999845027924\n",
            "Epoch: 170, Loss: 4.9718332113698125, Batch_acc: 48.89999985694885\n",
            "Epoch: 180, Loss: 4.381954635027796, Batch_acc: 48.499999821186066\n",
            "Epoch: 190, Loss: 5.249174892902374, Batch_acc: 48.599999725818634\n",
            "Epoch: 200, Loss: 3.963763404637575, Batch_acc: 48.99999976158142\n",
            "Epoch: 210, Loss: 6.266160880215466, Batch_acc: 48.09999990463257\n",
            "Epoch: 220, Loss: 3.9027884327806532, Batch_acc: 48.89999985694885\n",
            "Epoch: 230, Loss: 5.133456813171506, Batch_acc: 48.19999969005585\n",
            "Epoch: 240, Loss: 3.075009210035205, Batch_acc: 49.09999978542328\n",
            "Epoch: 250, Loss: 6.681694331811741, Batch_acc: 48.29999965429306\n",
            "Epoch: 260, Loss: 3.3499589301645756, Batch_acc: 49.099999845027924\n",
            "Epoch: 270, Loss: 5.415010349359363, Batch_acc: 48.59999978542328\n",
            "Epoch: 280, Loss: 2.7981171249412, Batch_acc: 49.29999989271164\n",
            "Epoch: 290, Loss: 3.6964784399606287, Batch_acc: 48.99999976158142\n",
            "Epoch: 300, Loss: 5.398183932993561, Batch_acc: 48.49999976158142\n",
            "Epoch: 310, Loss: 3.5547225764021277, Batch_acc: 48.99999976158142\n",
            "Epoch: 320, Loss: 4.911925128195435, Batch_acc: 48.49999964237213\n",
            "Epoch: 330, Loss: 3.566351106390357, Batch_acc: 48.89999973773956\n",
            "Epoch: 340, Loss: 4.575790445320308, Batch_acc: 48.499999701976776\n",
            "Epoch: 350, Loss: 3.9414763445965946, Batch_acc: 48.69999980926514\n",
            "Epoch: 360, Loss: 3.990235500736162, Batch_acc: 48.79999989271164\n",
            "Epoch: 370, Loss: 3.9473279318772256, Batch_acc: 48.89999973773956\n",
            "Epoch: 380, Loss: 3.9585553349461406, Batch_acc: 49.09999978542328\n",
            "Epoch: 390, Loss: 3.761118395254016, Batch_acc: 48.89999985694885\n",
            "Epoch: 400, Loss: 4.007256521843374, Batch_acc: 48.79999977350235\n",
            "Epoch: 410, Loss: 3.891243417514488, Batch_acc: 48.99999976158142\n",
            "Epoch: 420, Loss: 2.130494150798768, Batch_acc: 49.299999833106995\n",
            "Epoch: 430, Loss: 3.160328386351466, Batch_acc: 48.999999821186066\n",
            "Epoch: 440, Loss: 4.211409824201837, Batch_acc: 48.799999713897705\n",
            "Epoch: 450, Loss: 3.441085007507354, Batch_acc: 49.099999845027924\n",
            "Epoch: 460, Loss: 4.282410164829344, Batch_acc: 48.599999725818634\n",
            "Epoch: 470, Loss: 3.3479970376210986, Batch_acc: 49.09999978542328\n",
            "Epoch: 480, Loss: 3.286541522713378, Batch_acc: 49.19999986886978\n",
            "Epoch: 490, Loss: 2.3382330767344683, Batch_acc: 49.39999985694885\n",
            "Epoch: 500, Loss: 3.598326292587444, Batch_acc: 49.19999980926514\n"
          ],
          "name": "stdout"
        }
      ]
    },
    {
      "metadata": {
        "id": "D6gsrsHWzXYy",
        "colab_type": "code",
        "colab": {}
      },
      "cell_type": "code",
      "source": [
        "latent_ = np.squeeze(np.asarray(latent))\n"
      ],
      "execution_count": 0,
      "outputs": []
    },
    {
      "metadata": {
        "id": "tIBdpxzZA3BL",
        "colab_type": "code",
        "colab": {
          "base_uri": "https://localhost:8080/",
          "height": 34
        },
        "outputId": "3a936340-ea9b-43f5-e959-577953ff1a85"
      },
      "cell_type": "code",
      "source": [
        "latent_.shape"
      ],
      "execution_count": 150,
      "outputs": [
        {
          "output_type": "execute_result",
          "data": {
            "text/plain": [
              "(1002, 2)"
            ]
          },
          "metadata": {
            "tags": []
          },
          "execution_count": 150
        }
      ]
    },
    {
      "metadata": {
        "id": "AZfVMw9vA9wC",
        "colab_type": "code",
        "colab": {
          "base_uri": "https://localhost:8080/",
          "height": 282
        },
        "outputId": "5228ac56-52c8-4c8c-ee43-453c5e3b18df"
      },
      "cell_type": "code",
      "source": [
        "plt.scatter(latent_[0:501,0], latent_[0:501,1])"
      ],
      "execution_count": 151,
      "outputs": [
        {
          "output_type": "execute_result",
          "data": {
            "text/plain": [
              "<matplotlib.collections.PathCollection at 0x7f512a5595c0>"
            ]
          },
          "metadata": {
            "tags": []
          },
          "execution_count": 151
        },
        {
          "output_type": "display_data",
          "data": {
            "image/png": "[encoded data removed]",
            "text/plain": [
              "<Figure size 432x288 with 1 Axes>"
            ]
          },
          "metadata": {
            "tags": []
          }
        }
      ]
    },
    {
      "metadata": {
        "id": "bxKo6hJQBI6p",
        "colab_type": "code",
        "colab": {
          "base_uri": "https://localhost:8080/",
          "height": 282
        },
        "outputId": "8dcae21d-d0b9-4550-8352-c6b9c592615e"
      },
      "cell_type": "code",
      "source": [
        "plt.scatter(s_1, s_2)"
      ],
      "execution_count": 152,
      "outputs": [
        {
          "output_type": "execute_result",
          "data": {
            "text/plain": [
              "<matplotlib.collections.PathCollection at 0x7f512a52c7b8>"
            ]
          },
          "metadata": {
            "tags": []
          },
          "execution_count": 152
        },
        {
          "output_type": "display_data",
          "data": {
            "image/png": "[encoded data removed]",
            "text/plain": [
              "<Figure size 432x288 with 1 Axes>"
            ]
          },
          "metadata": {
            "tags": []
          }
        }
      ]
    },
    {
      "metadata": {
        "id": "qylJxzZ3ELHp",
        "colab_type": "code",
        "colab": {}
      },
      "cell_type": "code",
      "source": [
        ""
      ],
      "execution_count": 0,
      "outputs": []
    }
  ]
}