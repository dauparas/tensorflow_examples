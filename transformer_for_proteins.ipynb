{
  "nbformat": 4,
  "nbformat_minor": 0,
  "metadata": {
    "colab": {
      "name": "transformer_for_proteins.ipynb",
      "version": "0.3.2",
      "provenance": [],
      "collapsed_sections": [],
      "toc_visible": true,
      "include_colab_link": true
    },
    "kernelspec": {
      "name": "python3",
      "display_name": "Python 3"
    },
    "accelerator": "GPU"
  },
  "cells": [
    {
      "cell_type": "markdown",
      "metadata": {
        "id": "view-in-github",
        "colab_type": "text"
      },
      "source": [
        "<a href=\"https://colab.research.google.com/github/dauparas/tensorflow_examples/blob/master/transformer_for_proteins.ipynb\" target=\"_parent\"><img src=\"https://colab.research.google.com/assets/colab-badge.svg\" alt=\"Open In Colab\"/></a>"
      ]
    },
    {
      "cell_type": "markdown",
      "metadata": {
        "id": "3d7Fe2q--KMU",
        "colab_type": "text"
      },
      "source": [
        "# Load data"
      ]
    },
    {
      "cell_type": "code",
      "metadata": {
        "id": "aJcHKRLQQAS4",
        "colab_type": "code",
        "outputId": "5d708050-79d7-4069-8225-561bf28bfad3",
        "colab": {
          "base_uri": "https://localhost:8080/",
          "height": 34
        }
      },
      "source": [
        "#Step 1: import dependencies\n",
        "from tensorflow.keras import layers\n",
        "import numpy as np\n",
        "import matplotlib.pyplot as plt\n",
        "import seaborn as sns\n",
        "import tensorflow as tf\n",
        "from keras import regularizers\n",
        "import time\n",
        "from __future__ import division\n",
        "\n",
        "import tensorflow as tf\n",
        "import tensorflow_probability as tfp\n",
        "tfd = tfp.distributions\n",
        "\n",
        "%matplotlib inline\n",
        "plt.style.use('dark_background')\n",
        "\n",
        "import pandas as pd"
      ],
      "execution_count": 0,
      "outputs": [
        {
          "output_type": "stream",
          "text": [
            "Using TensorFlow backend.\n"
          ],
          "name": "stderr"
        }
      ]
    },
    {
      "cell_type": "markdown",
      "metadata": {
        "id": "ijbQXxzlYKAk",
        "colab_type": "text"
      },
      "source": [
        "## Convert FASTA to MSA np.array()"
      ]
    },
    {
      "cell_type": "code",
      "metadata": {
        "id": "wU8Gzh1FQEZl",
        "colab_type": "code",
        "colab": {}
      },
      "source": [
        "def parse_fasta(filename):\n",
        "  '''function to parse fasta file'''\n",
        "  header = []\n",
        "  sequence = []\n",
        "  lines = open(filename, \"r\")\n",
        "  for line in lines:\n",
        "    line = line.rstrip()\n",
        "    if line[0] == \">\":\n",
        "      header.append(line[1:])\n",
        "      sequence.append([])\n",
        "    else:\n",
        "      sequence[-1].append(line)\n",
        "  lines.close()\n",
        "  sequence = [''.join(seq) for seq in sequence]\n",
        "  return np.array(header), np.array(sequence)\n",
        "  \n",
        "def mk_msa(seqs):\n",
        "  '''one hot encode msa'''\n",
        "  \n",
        "  ################\n",
        "  alphabet = \"ARNDCQEGHILKMFPSTWYV-\"\n",
        "  states = len(alphabet)\n",
        "  a2n = {}\n",
        "  for a,n in zip(alphabet,range(states)):\n",
        "    a2n[a] = n\n",
        "\n",
        "  def aa2num(aa):\n",
        "    '''convert aa into num'''\n",
        "    if aa in a2n: return a2n[aa]\n",
        "    else: return a2n['-']\n",
        "  ################\n",
        "  \n",
        "  msa = []\n",
        "  for seq in seqs:\n",
        "    msa.append([aa2num(aa) for aa in seq])\n",
        "  msa_ori = np.array(msa)\n",
        "  return msa_ori, tf.keras.utils.to_categorical(msa_ori,states)"
      ],
      "execution_count": 0,
      "outputs": []
    },
    {
      "cell_type": "code",
      "metadata": {
        "id": "Nn5oow4zP9ht",
        "colab_type": "code",
        "colab": {}
      },
      "source": [
        "!wget -q -nc https://gremlin2.bakerlab.org/db/PDB_EXP/fasta/1BXYA.fas"
      ],
      "execution_count": 0,
      "outputs": []
    },
    {
      "cell_type": "code",
      "metadata": {
        "id": "ipoWnWOCQryY",
        "colab_type": "code",
        "outputId": "2b0f4864-a286-477a-b771-14005fe9eeb3",
        "colab": {
          "base_uri": "https://localhost:8080/",
          "height": 51
        }
      },
      "source": [
        "names,seqs = parse_fasta(\"1BXYA.fas\")\n",
        "msa_ori, msa = mk_msa(seqs)\n",
        "\n",
        "print(msa_ori.shape)\n",
        "print(msa.shape)"
      ],
      "execution_count": 0,
      "outputs": [
        {
          "output_type": "stream",
          "text": [
            "(2025, 60)\n",
            "(2025, 60, 21)\n"
          ],
          "name": "stdout"
        }
      ]
    },
    {
      "cell_type": "code",
      "metadata": {
        "id": "InL-iW_wsuz7",
        "colab_type": "code",
        "outputId": "eaf7bd86-14a2-4000-a0dc-1850b676bdfe",
        "colab": {
          "base_uri": "https://localhost:8080/",
          "height": 34
        }
      },
      "source": [
        "len(\"ARNDCQEGHILKMFPSTWYV-\")"
      ],
      "execution_count": 0,
      "outputs": [
        {
          "output_type": "execute_result",
          "data": {
            "text/plain": [
              "21"
            ]
          },
          "metadata": {
            "tags": []
          },
          "execution_count": 5
        }
      ]
    },
    {
      "cell_type": "markdown",
      "metadata": {
        "id": "Eaxd501k-Wlh",
        "colab_type": "text"
      },
      "source": [
        "# Transformer model"
      ]
    },
    {
      "cell_type": "markdown",
      "metadata": {
        "id": "6agELVBx0p9i",
        "colab_type": "text"
      },
      "source": [
        "Based on:\n",
        "https://colab.research.google.com/github/tensorflow/docs/blob/r2.0rc/site/en/r2/tutorials/text/transformer.ipynb\n"
      ]
    },
    {
      "cell_type": "markdown",
      "metadata": {
        "id": "zOu43hA1DjG1",
        "colab_type": "text"
      },
      "source": [
        "# Attention layer"
      ]
    },
    {
      "cell_type": "code",
      "metadata": {
        "id": "V2SK2-JdPDWF",
        "colab_type": "code",
        "colab": {}
      },
      "source": [
        "def get_angles(pos, i, d_model):\n",
        "  angle_rates = 1 / np.power(10000, (2 * (i//2)) / np.float32(d_model))\n",
        "  return pos * angle_rates\n",
        "\n",
        "def positional_encoding(position, d_model): #position = length of seq\n",
        "  angle_rads = get_angles(np.arange(position)[:, np.newaxis],\n",
        "                          np.arange(d_model)[np.newaxis, :],\n",
        "                          d_model)\n",
        "  \n",
        "  # apply sin to even indices in the array; 2i\n",
        "  angle_rads[:, 0::2] = np.sin(angle_rads[:, 0::2])\n",
        "  \n",
        "  # apply cos to odd indices in the array; 2i+1\n",
        "  angle_rads[:, 1::2] = np.cos(angle_rads[:, 1::2])\n",
        "    \n",
        "  pos_encoding = angle_rads[np.newaxis, ...]\n",
        "    \n",
        "  return tf.cast(pos_encoding, dtype=tf.float32)"
      ],
      "execution_count": 0,
      "outputs": []
    },
    {
      "cell_type": "code",
      "metadata": {
        "id": "D3r9YdZH1HAn",
        "colab_type": "code",
        "colab": {}
      },
      "source": [
        "def scaled_dot_product_attention(q, k, v, mask=None):\n",
        "  \"\"\"Calculate the attention weights.\n",
        "  q, k, v must have matching leading dimensions.\n",
        "  k, v must have matching penultimate dimension, i.e.: seq_len_k = seq_len_v.\n",
        "  The mask has different shapes depending on its type(padding or look ahead) \n",
        "  but it must be broadcastable for addition.\n",
        "  \n",
        "  Args:\n",
        "    q: query shape == (..., seq_len_q, depth)\n",
        "    k: key shape == (..., seq_len_k, depth)\n",
        "    v: value shape == (..., seq_len_v, depth_v)\n",
        "    mask: Float tensor with shape broadcastable \n",
        "          to (..., seq_len_q, seq_len_k). Defaults to None.\n",
        "    \n",
        "  Returns:\n",
        "    output, attention_weights\n",
        "  \"\"\"\n",
        "\n",
        "  matmul_qk = tf.matmul(q, k, transpose_b=True)  # (..., seq_len_q, seq_len_k)\n",
        "  \n",
        "  # scale matmul_qk\n",
        "  dk = tf.cast(tf.shape(k)[-1], tf.float32)\n",
        "  scaled_attention_logits = matmul_qk / tf.math.sqrt(dk)\n",
        "\n",
        "  # add the mask to the scaled tensor.\n",
        "  if mask is not None:\n",
        "    scaled_attention_logits += (mask * -1e9)  \n",
        "\n",
        "  # softmax is normalized on the last axis (seq_len_k) so that the scores\n",
        "  # add up to 1.\n",
        "  attention_weights = tf.nn.softmax(scaled_attention_logits, axis=-1)  # (..., seq_len_q, seq_len_k)\n",
        "\n",
        "  output = tf.matmul(attention_weights, v)  # (..., seq_len_q, depth_v)\n",
        "\n",
        "  return output, attention_weights"
      ],
      "execution_count": 0,
      "outputs": []
    },
    {
      "cell_type": "code",
      "metadata": {
        "id": "2vAfEVZI1gaL",
        "colab_type": "code",
        "colab": {}
      },
      "source": [
        "class MultiHeadAttention(tf.keras.layers.Layer):\n",
        "  def __init__(self, d_model, num_heads):\n",
        "    super(MultiHeadAttention, self).__init__()\n",
        "    self.num_heads = num_heads\n",
        "    self.d_model = d_model\n",
        "    \n",
        "    assert d_model % self.num_heads == 0\n",
        "    \n",
        "    self.depth = d_model // self.num_heads\n",
        "    \n",
        "    self.wq = tf.keras.layers.Dense(d_model)\n",
        "    self.wk = tf.keras.layers.Dense(d_model)\n",
        "    self.wv = tf.keras.layers.Dense(d_model)\n",
        "    \n",
        "    self.dense = tf.keras.layers.Dense(d_model)\n",
        "        \n",
        "  def split_heads(self, x, batch_size):\n",
        "    \"\"\"Split the last dimension into (num_heads, depth).\n",
        "    Transpose the result such that the shape is (batch_size, num_heads, seq_len, depth)\n",
        "    \"\"\"\n",
        "    x = tf.reshape(x, (batch_size, -1, self.num_heads, self.depth))\n",
        "    return tf.transpose(x, perm=[0, 2, 1, 3])\n",
        "    \n",
        "  def call(self, v, k, q, mask):\n",
        "    batch_size = tf.shape(q)[0]\n",
        "    \n",
        "    q = self.wq(q)  # (batch_size, seq_len, d_model)\n",
        "    k = self.wk(k)  # (batch_size, seq_len, d_model)\n",
        "    v = self.wv(v)  # (batch_size, seq_len, d_model)\n",
        "    \n",
        "    q = self.split_heads(q, batch_size)  # (batch_size, num_heads, seq_len_q, depth)\n",
        "    k = self.split_heads(k, batch_size)  # (batch_size, num_heads, seq_len_k, depth)\n",
        "    v = self.split_heads(v, batch_size)  # (batch_size, num_heads, seq_len_v, depth)\n",
        "    \n",
        "    # scaled_attention.shape == (batch_size, num_heads, seq_len_q, depth)\n",
        "    # attention_weights.shape == (batch_size, num_heads, seq_len_q, seq_len_k)\n",
        "    scaled_attention, attention_weights = scaled_dot_product_attention(\n",
        "        q, k, v, mask)\n",
        "    \n",
        "    scaled_attention = tf.transpose(scaled_attention, perm=[0, 2, 1, 3])  # (batch_size, seq_len_q, num_heads, depth)\n",
        "\n",
        "    concat_attention = tf.reshape(scaled_attention, \n",
        "                                  (batch_size, -1, self.d_model))  # (batch_size, seq_len_q, d_model)\n",
        "\n",
        "    output = self.dense(concat_attention)  # (batch_size, seq_len_q, d_model)\n",
        "        \n",
        "    return output, attention_weights"
      ],
      "execution_count": 0,
      "outputs": []
    },
    {
      "cell_type": "code",
      "metadata": {
        "id": "nMfqnJIE116E",
        "colab_type": "code",
        "colab": {}
      },
      "source": [
        "def point_wise_feed_forward_network(d_model, dff):\n",
        "  return tf.keras.Sequential([\n",
        "      tf.keras.layers.Dense(dff, activation='relu'),  # (batch_size, seq_len, dff)\n",
        "      tf.keras.layers.Dense(d_model)  # (batch_size, seq_len, d_model)\n",
        "  ])"
      ],
      "execution_count": 0,
      "outputs": []
    },
    {
      "cell_type": "code",
      "metadata": {
        "id": "mb5KZrgv15ed",
        "colab_type": "code",
        "colab": {}
      },
      "source": [
        "class EncoderLayer(tf.keras.layers.Layer):\n",
        "  def __init__(self, d_model, num_heads, dff, rate=0.1):\n",
        "    super(EncoderLayer, self).__init__()\n",
        "\n",
        "    self.mha = MultiHeadAttention(d_model, num_heads)\n",
        "    self.ffn = point_wise_feed_forward_network(d_model, dff)\n",
        "\n",
        "    self.layernorm1 = tf.keras.layers.LayerNormalization(epsilon=1e-6)\n",
        "    self.layernorm2 = tf.keras.layers.LayerNormalization(epsilon=1e-6)\n",
        "    \n",
        "    self.dropout1 = tf.keras.layers.Dropout(rate)\n",
        "    self.dropout2 = tf.keras.layers.Dropout(rate)\n",
        "    \n",
        "  def call(self, x, training, mask):\n",
        "\n",
        "    attn_output, attention_weights = self.mha(x, x, x, mask)  # (batch_size, input_seq_len, d_model)\n",
        "    attn_output = self.dropout1(attn_output, training=training)\n",
        "    out1 = self.layernorm1(x + attn_output)  # (batch_size, input_seq_len, d_model)\n",
        "    \n",
        "    ffn_output = self.ffn(out1)  # (batch_size, input_seq_len, d_model)\n",
        "    ffn_output = self.dropout2(ffn_output, training=training)\n",
        "    out2 = self.layernorm2(out1 + ffn_output)  # (batch_size, input_seq_len, d_model)\n",
        "    \n",
        "    return out2, attention_weights"
      ],
      "execution_count": 0,
      "outputs": []
    },
    {
      "cell_type": "code",
      "metadata": {
        "id": "oPTNTXFL2MB6",
        "colab_type": "code",
        "colab": {}
      },
      "source": [
        "class Encoder(tf.keras.layers.Layer):\n",
        "  def __init__(self, num_layers, d_model, num_heads, dff, input_vocab_size, \n",
        "               rate=0.1):\n",
        "    super(Encoder, self).__init__()\n",
        "\n",
        "    self.d_model = d_model\n",
        "    self.num_layers = num_layers\n",
        "    \n",
        "    self.embedding = tf.keras.layers.Embedding(input_vocab_size, d_model)\n",
        "    self.pos_encoding = positional_encoding(input_vocab_size, self.d_model)\n",
        "    \n",
        "    \n",
        "    self.enc_layers = [EncoderLayer(d_model, num_heads, dff, rate) \n",
        "                       for _ in range(num_layers)]\n",
        "  \n",
        "    self.dropout = tf.keras.layers.Dropout(rate)\n",
        "        \n",
        "  def call(self, x, training, mask):\n",
        "\n",
        "    \n",
        "    # adding embedding and position encoding.\n",
        "    x = self.embedding(x)  # (batch_size, input_seq_len, d_model)\n",
        "    #x = tf.one_hot(x, depth=self.d_model, axis=-1)\n",
        "    x *= tf.math.sqrt(tf.cast(self.d_model, tf.float32))\n",
        "    x += self.pos_encoding\n",
        "\n",
        "    x = self.dropout(x, training=training)\n",
        "    \n",
        "    for i in range(self.num_layers):\n",
        "      x, attn_weights = self.enc_layers[i](x, training, mask)\n",
        "      \n",
        "    \n",
        "    return x, attn_weights # (batch_size, input_seq_len, d_model)"
      ],
      "execution_count": 0,
      "outputs": []
    },
    {
      "cell_type": "code",
      "metadata": {
        "id": "XBgg7AY7oQ_v",
        "colab_type": "code",
        "colab": {}
      },
      "source": [
        "import os"
      ],
      "execution_count": 0,
      "outputs": []
    },
    {
      "cell_type": "code",
      "metadata": {
        "colab_type": "code",
        "id": "qi7br1nGRBcq",
        "outputId": "43a7983c-89a3-4881-b0cd-a50c8abffbda",
        "colab": {
          "base_uri": "https://localhost:8080/",
          "height": 156
        }
      },
      "source": [
        "tf.reset_default_graph()\n",
        "\n",
        "nrow = msa.shape[0] # number of sequences\n",
        "ncol = msa.shape[1] # length of sequence\n",
        "states = msa.shape[2]+1 # number of states (or categories)\n",
        "\n",
        "\n",
        "MSA = tf.placeholder(tf.float32,shape=(None,ncol,states),name=\"MSA\")\n",
        "MASK = tf.placeholder(tf.float32,shape=(None,ncol),name=\"MASK\")\n",
        "MSA_MASKED = tf.placeholder(tf.int32,shape=(None,ncol),name=\"MSA_MASKED\")\n",
        "is_train = tf.placeholder(tf.bool, name=\"is_train\");\n",
        "\n",
        "sample_encoder = Encoder(4, 40, 10, 40*4, 60)\n",
        "Z, attn_weights= sample_encoder(MSA_MASKED, is_train, None)\n",
        "\n",
        "fO = tf.keras.layers.Dense(states, name='fO')\n",
        "O = fO(Z)\n",
        "\n",
        "weights = fO.weights\n",
        "\n",
        "H = tf.nn.softmax_cross_entropy_with_logits_v2(labels = MSA, logits=O)\n",
        "ECE = tf.reduce_mean(tf.exp(H))\n",
        "l1 = H*(1-MASK)\n",
        "loss = tf.reduce_sum(l1)\n",
        "\n",
        "correct = tf.equal(tf.argmax(tf.nn.softmax(O, axis=-1), -1), tf.argmax(MSA, -1))\n",
        "correct = tf.cast(correct, tf.float32)\n",
        "accuracy = tf.reduce_mean(correct)\n",
        "\n",
        "\n",
        "\n",
        "optimizer = tf.train.AdamOptimizer(0.0005)\n",
        "\n",
        "update_ops = tf.get_collection(tf.GraphKeys.UPDATE_OPS)\n",
        "with tf.control_dependencies(update_ops):\n",
        "    train_op = optimizer.minimize(loss)\n",
        "    "
      ],
      "execution_count": 0,
      "outputs": [
        {
          "output_type": "stream",
          "text": [
            "WARNING: Logging before flag parsing goes to stderr.\n",
            "W0905 23:57:55.185020 139702054786944 deprecation.py:506] From /usr/local/lib/python3.6/dist-packages/tensorflow/python/keras/initializers.py:119: calling RandomUniform.__init__ (from tensorflow.python.ops.init_ops) with dtype is deprecated and will be removed in a future version.\n",
            "Instructions for updating:\n",
            "Call initializer instance with the dtype argument instead of passing it to the constructor\n",
            "W0905 23:57:55.195506 139702054786944 deprecation.py:506] From /usr/local/lib/python3.6/dist-packages/tensorflow/python/ops/init_ops.py:1251: calling VarianceScaling.__init__ (from tensorflow.python.ops.init_ops) with dtype is deprecated and will be removed in a future version.\n",
            "Instructions for updating:\n",
            "Call initializer instance with the dtype argument instead of passing it to the constructor\n"
          ],
          "name": "stderr"
        }
      ]
    },
    {
      "cell_type": "code",
      "metadata": {
        "id": "TunUte3Uq3hA",
        "colab_type": "code",
        "outputId": "30d91c85-4446-4c77-f33a-7e34dfe2f426",
        "colab": {
          "base_uri": "https://localhost:8080/",
          "height": 51
        }
      },
      "source": [
        "weights"
      ],
      "execution_count": 0,
      "outputs": [
        {
          "output_type": "execute_result",
          "data": {
            "text/plain": [
              "[<tf.Variable 'fO/kernel:0' shape=(40, 22) dtype=float32>,\n",
              " <tf.Variable 'fO/bias:0' shape=(22,) dtype=float32>]"
            ]
          },
          "metadata": {
            "tags": []
          },
          "execution_count": 14
        }
      ]
    },
    {
      "cell_type": "code",
      "metadata": {
        "id": "bueXDrELZub3",
        "colab_type": "code",
        "colab": {}
      },
      "source": [
        "def new_mask(msa_ori, p=0.95):\n",
        "  mask_inpt = np.random.binomial(1, p, size=msa_ori.shape)\n",
        "  indx = np.argwhere(mask_inpt == 0)\n",
        "  rand_indx = indx[np.random.choice(indx.shape[0], indx.shape[0], replace=False),:]\n",
        "  masked_msa_inpt = np.copy(msa_ori)\n",
        "  for i in range(indx.shape[0]):\n",
        "    if i < np.int(indx.shape[0]*0.8):\n",
        "      i1, i2 = rand_indx[i,:]\n",
        "      masked_msa_inpt[i1, i2] = 21\n",
        "    elif np.int(indx.shape[0]*0.8) <= i < np.int(indx.shape[0]*0.9):\n",
        "      i1, i2 = rand_indx[i,:]\n",
        "      masked_msa_inpt[i1, i2] = np.random.randint(21)\n",
        "      \n",
        "  return masked_msa_inpt, mask_inpt[:,:], indx.shape[0]\n",
        "\n",
        "#Helper function\n",
        "def batch_generator(x, y, z, batch_size):\n",
        "  \"\"\"Function to create python generator to shuffle and split features into batches along the first dimension.\"\"\"\n",
        "  idx = np.arange(x.shape[0])\n",
        "  np.random.shuffle(idx)\n",
        "  for start_idx in range(0, x.shape[0], batch_size):\n",
        "    end_idx = min(start_idx + batch_size, x.shape[0])\n",
        "    part = idx[start_idx:end_idx]\n",
        "    yield x[part,...], y[part,...], z[part, ...]"
      ],
      "execution_count": 0,
      "outputs": []
    },
    {
      "cell_type": "code",
      "metadata": {
        "id": "OXBaZ7ucZ1UD",
        "colab_type": "code",
        "outputId": "df2c45c0-9b3e-433a-acb6-3a27f2c62fe3",
        "colab": {
          "base_uri": "https://localhost:8080/",
          "height": 1000
        }
      },
      "source": [
        "n_epochs = 50000\n",
        "batch_size = 32\n",
        "p=0.85\n",
        "msa_gt = tf.keras.utils.to_categorical(msa_ori, 22)\n",
        "with tf.Session() as sess:\n",
        "  sess.run(tf.global_variables_initializer())\n",
        "  for i in range(n_epochs):\n",
        "    masked_msa_inpt, mask_inpt, number0 = new_mask(msa_ori, p)\n",
        "    gen = batch_generator(msa_gt, masked_msa_inpt, mask_inpt,  batch_size) #create batch generator\n",
        "    total_loss = 0\n",
        "    for j in range(np.int(msa_ori.shape[0]/batch_size)):\n",
        "      msa_g, msa_i, mask_i = gen.__next__()\n",
        "      _, batch_loss= sess.run([train_op, loss], feed_dict={MSA: msa_g, MSA_MASKED: msa_i, MASK:mask_i, is_train:True})\n",
        "      total_loss += batch_loss\n",
        "    if i % 10 == 0:\n",
        "      Z_, O_, weights_, attn_weights_, accuracy_, ECE_ = sess.run([Z, O, weights, attn_weights, accuracy, ECE], feed_dict={MSA: msa_gt, MSA_MASKED: msa_ori, is_train:False})\n",
        "      print('epoch: {0}, total: {1:.3f}, acc: {2:.3f}, ECE: {3:.3f}'.format((i+1), total_loss/(msa_ori.shape[0]/batch_size), accuracy_, ECE_))"
      ],
      "execution_count": 0,
      "outputs": [
        {
          "output_type": "stream",
          "text": [
            "epoch: 1, total: 810.579, acc: 0.371, ECE: 15.526\n",
            "epoch: 11, total: 428.199, acc: 0.861, ECE: 7.294\n",
            "epoch: 21, total: 397.335, acc: 0.891, ECE: 6.347\n",
            "epoch: 31, total: 375.340, acc: 0.897, ECE: 6.469\n",
            "epoch: 41, total: 353.639, acc: 0.911, ECE: 5.721\n",
            "epoch: 51, total: 341.554, acc: 0.902, ECE: 5.913\n",
            "epoch: 61, total: 334.130, acc: 0.909, ECE: 6.454\n",
            "epoch: 71, total: 331.322, acc: 0.905, ECE: 6.045\n",
            "epoch: 81, total: 322.362, acc: 0.907, ECE: 5.881\n",
            "epoch: 91, total: 319.287, acc: 0.910, ECE: 5.558\n",
            "epoch: 101, total: 315.447, acc: 0.909, ECE: 5.590\n",
            "epoch: 111, total: 315.004, acc: 0.914, ECE: 5.738\n",
            "epoch: 121, total: 303.832, acc: 0.912, ECE: 6.595\n",
            "epoch: 131, total: 299.750, acc: 0.910, ECE: 6.033\n",
            "epoch: 141, total: 300.426, acc: 0.913, ECE: 6.636\n",
            "epoch: 151, total: 293.487, acc: 0.916, ECE: 5.897\n",
            "epoch: 161, total: 290.503, acc: 0.918, ECE: 5.777\n",
            "epoch: 171, total: 293.346, acc: 0.919, ECE: 6.069\n",
            "epoch: 181, total: 293.948, acc: 0.918, ECE: 5.748\n",
            "epoch: 191, total: 285.095, acc: 0.918, ECE: 5.601\n",
            "epoch: 201, total: 280.344, acc: 0.917, ECE: 6.794\n",
            "epoch: 211, total: 286.569, acc: 0.920, ECE: 5.978\n",
            "epoch: 221, total: 281.695, acc: 0.918, ECE: 6.032\n",
            "epoch: 231, total: 284.366, acc: 0.919, ECE: 6.375\n",
            "epoch: 241, total: 277.749, acc: 0.919, ECE: 6.272\n",
            "epoch: 251, total: 281.338, acc: 0.921, ECE: 5.466\n",
            "epoch: 261, total: 272.549, acc: 0.922, ECE: 5.323\n",
            "epoch: 271, total: 273.882, acc: 0.917, ECE: 5.032\n",
            "epoch: 281, total: 280.339, acc: 0.921, ECE: 5.498\n",
            "epoch: 291, total: 267.491, acc: 0.918, ECE: 6.565\n",
            "epoch: 301, total: 273.206, acc: 0.919, ECE: 6.189\n",
            "epoch: 311, total: 263.864, acc: 0.921, ECE: 6.173\n",
            "epoch: 321, total: 262.730, acc: 0.921, ECE: 6.569\n",
            "epoch: 331, total: 266.398, acc: 0.920, ECE: 5.640\n",
            "epoch: 341, total: 260.268, acc: 0.922, ECE: 6.028\n",
            "epoch: 351, total: 263.007, acc: 0.922, ECE: 5.939\n",
            "epoch: 361, total: 260.298, acc: 0.918, ECE: 6.278\n",
            "epoch: 371, total: 262.490, acc: 0.922, ECE: 5.950\n",
            "epoch: 381, total: 255.159, acc: 0.923, ECE: 6.089\n",
            "epoch: 391, total: 260.558, acc: 0.922, ECE: 7.044\n",
            "epoch: 401, total: 258.795, acc: 0.924, ECE: 6.098\n",
            "epoch: 411, total: 257.686, acc: 0.918, ECE: 6.967\n",
            "epoch: 421, total: 264.043, acc: 0.924, ECE: 5.273\n",
            "epoch: 431, total: 257.631, acc: 0.924, ECE: 5.806\n",
            "epoch: 441, total: 252.958, acc: 0.921, ECE: 5.469\n",
            "epoch: 451, total: 253.283, acc: 0.924, ECE: 4.961\n",
            "epoch: 461, total: 256.899, acc: 0.925, ECE: 5.481\n",
            "epoch: 471, total: 257.469, acc: 0.925, ECE: 5.527\n",
            "epoch: 481, total: 254.551, acc: 0.923, ECE: 5.517\n",
            "epoch: 491, total: 251.795, acc: 0.925, ECE: 5.990\n",
            "epoch: 501, total: 251.165, acc: 0.927, ECE: 5.029\n",
            "epoch: 511, total: 252.828, acc: 0.927, ECE: 5.963\n",
            "epoch: 521, total: 258.058, acc: 0.925, ECE: 4.544\n",
            "epoch: 531, total: 249.881, acc: 0.926, ECE: 4.988\n",
            "epoch: 541, total: 249.340, acc: 0.926, ECE: 6.613\n",
            "epoch: 551, total: 251.586, acc: 0.924, ECE: 5.926\n",
            "epoch: 561, total: 247.794, acc: 0.925, ECE: 6.068\n",
            "epoch: 571, total: 248.257, acc: 0.923, ECE: 5.762\n",
            "epoch: 581, total: 248.291, acc: 0.925, ECE: 6.331\n",
            "epoch: 591, total: 245.431, acc: 0.924, ECE: 6.357\n",
            "epoch: 601, total: 247.130, acc: 0.929, ECE: 5.140\n",
            "epoch: 611, total: 245.321, acc: 0.925, ECE: 5.949\n",
            "epoch: 621, total: 248.334, acc: 0.927, ECE: 5.526\n",
            "epoch: 631, total: 245.540, acc: 0.926, ECE: 5.139\n",
            "epoch: 641, total: 248.100, acc: 0.927, ECE: 5.053\n",
            "epoch: 651, total: 245.874, acc: 0.927, ECE: 5.398\n",
            "epoch: 661, total: 239.333, acc: 0.929, ECE: 5.030\n",
            "epoch: 671, total: 241.491, acc: 0.930, ECE: 4.879\n",
            "epoch: 681, total: 241.402, acc: 0.928, ECE: 4.629\n",
            "epoch: 691, total: 241.924, acc: 0.926, ECE: 4.972\n",
            "epoch: 701, total: 246.362, acc: 0.929, ECE: 4.782\n",
            "epoch: 711, total: 245.935, acc: 0.927, ECE: 5.112\n",
            "epoch: 721, total: 241.154, acc: 0.927, ECE: 4.877\n",
            "epoch: 731, total: 241.626, acc: 0.926, ECE: 5.086\n",
            "epoch: 741, total: 246.552, acc: 0.929, ECE: 4.893\n",
            "epoch: 751, total: 239.759, acc: 0.926, ECE: 4.637\n",
            "epoch: 761, total: 239.662, acc: 0.931, ECE: 5.425\n",
            "epoch: 771, total: 238.500, acc: 0.930, ECE: 5.259\n",
            "epoch: 781, total: 236.240, acc: 0.931, ECE: 5.242\n",
            "epoch: 791, total: 236.149, acc: 0.929, ECE: 5.306\n",
            "epoch: 801, total: 236.657, acc: 0.929, ECE: 5.450\n",
            "epoch: 811, total: 237.258, acc: 0.931, ECE: 4.680\n",
            "epoch: 821, total: 241.247, acc: 0.930, ECE: 5.614\n",
            "epoch: 831, total: 240.202, acc: 0.933, ECE: 4.695\n",
            "epoch: 841, total: 240.091, acc: 0.930, ECE: 5.156\n",
            "epoch: 851, total: 244.757, acc: 0.928, ECE: 5.257\n",
            "epoch: 861, total: 238.412, acc: 0.929, ECE: 5.407\n",
            "epoch: 871, total: 239.167, acc: 0.932, ECE: 4.404\n",
            "epoch: 881, total: 233.476, acc: 0.930, ECE: 6.221\n",
            "epoch: 891, total: 238.693, acc: 0.929, ECE: 5.336\n",
            "epoch: 901, total: 239.044, acc: 0.929, ECE: 4.679\n",
            "epoch: 911, total: 237.675, acc: 0.930, ECE: 4.518\n",
            "epoch: 921, total: 233.598, acc: 0.930, ECE: 4.545\n",
            "epoch: 931, total: 231.334, acc: 0.930, ECE: 5.018\n",
            "epoch: 941, total: 233.546, acc: 0.928, ECE: 4.311\n",
            "epoch: 951, total: 235.688, acc: 0.932, ECE: 4.948\n",
            "epoch: 961, total: 239.071, acc: 0.933, ECE: 4.846\n",
            "epoch: 971, total: 232.980, acc: 0.932, ECE: 4.849\n",
            "epoch: 981, total: 232.261, acc: 0.933, ECE: 4.502\n",
            "epoch: 991, total: 228.974, acc: 0.931, ECE: 4.585\n",
            "epoch: 1001, total: 235.330, acc: 0.932, ECE: 5.266\n",
            "epoch: 1011, total: 233.971, acc: 0.930, ECE: 4.538\n",
            "epoch: 1021, total: 237.012, acc: 0.930, ECE: 5.373\n",
            "epoch: 1031, total: 235.058, acc: 0.930, ECE: 4.952\n",
            "epoch: 1041, total: 228.179, acc: 0.934, ECE: 4.422\n",
            "epoch: 1051, total: 230.901, acc: 0.931, ECE: 4.232\n",
            "epoch: 1061, total: 235.179, acc: 0.932, ECE: 4.297\n",
            "epoch: 1071, total: 231.338, acc: 0.933, ECE: 4.488\n",
            "epoch: 1081, total: 235.846, acc: 0.934, ECE: 4.266\n",
            "epoch: 1091, total: 232.701, acc: 0.933, ECE: 4.274\n",
            "epoch: 1101, total: 234.526, acc: 0.930, ECE: 5.123\n",
            "epoch: 1111, total: 232.018, acc: 0.930, ECE: 4.312\n",
            "epoch: 1121, total: 233.087, acc: 0.929, ECE: 4.553\n",
            "epoch: 1131, total: 234.184, acc: 0.932, ECE: 4.141\n",
            "epoch: 1141, total: 228.738, acc: 0.929, ECE: 3.971\n",
            "epoch: 1151, total: 231.764, acc: 0.930, ECE: 4.231\n",
            "epoch: 1161, total: 229.595, acc: 0.935, ECE: 4.419\n",
            "epoch: 1171, total: 232.961, acc: 0.931, ECE: 4.559\n",
            "epoch: 1181, total: 229.171, acc: 0.934, ECE: 4.420\n"
          ],
          "name": "stdout"
        },
        {
          "output_type": "error",
          "ename": "KeyboardInterrupt",
          "evalue": "ignored",
          "traceback": [
            "\u001b[0;31m---------------------------------------------------------------------------\u001b[0m",
            "\u001b[0;31mKeyboardInterrupt\u001b[0m                         Traceback (most recent call last)",
            "\u001b[0;32m<ipython-input-16-b985b99cda4e>\u001b[0m in \u001b[0;36m<module>\u001b[0;34m()\u001b[0m\n\u001b[1;32m     11\u001b[0m     \u001b[0;32mfor\u001b[0m \u001b[0mj\u001b[0m \u001b[0;32min\u001b[0m \u001b[0mrange\u001b[0m\u001b[0;34m(\u001b[0m\u001b[0mnp\u001b[0m\u001b[0;34m.\u001b[0m\u001b[0mint\u001b[0m\u001b[0;34m(\u001b[0m\u001b[0mmsa_ori\u001b[0m\u001b[0;34m.\u001b[0m\u001b[0mshape\u001b[0m\u001b[0;34m[\u001b[0m\u001b[0;36m0\u001b[0m\u001b[0;34m]\u001b[0m\u001b[0;34m/\u001b[0m\u001b[0mbatch_size\u001b[0m\u001b[0;34m)\u001b[0m\u001b[0;34m)\u001b[0m\u001b[0;34m:\u001b[0m\u001b[0;34m\u001b[0m\u001b[0;34m\u001b[0m\u001b[0m\n\u001b[1;32m     12\u001b[0m       \u001b[0mmsa_g\u001b[0m\u001b[0;34m,\u001b[0m \u001b[0mmsa_i\u001b[0m\u001b[0;34m,\u001b[0m \u001b[0mmask_i\u001b[0m \u001b[0;34m=\u001b[0m \u001b[0mgen\u001b[0m\u001b[0;34m.\u001b[0m\u001b[0m__next__\u001b[0m\u001b[0;34m(\u001b[0m\u001b[0;34m)\u001b[0m\u001b[0;34m\u001b[0m\u001b[0;34m\u001b[0m\u001b[0m\n\u001b[0;32m---> 13\u001b[0;31m       \u001b[0m_\u001b[0m\u001b[0;34m,\u001b[0m \u001b[0mbatch_loss\u001b[0m\u001b[0;34m=\u001b[0m \u001b[0msess\u001b[0m\u001b[0;34m.\u001b[0m\u001b[0mrun\u001b[0m\u001b[0;34m(\u001b[0m\u001b[0;34m[\u001b[0m\u001b[0mtrain_op\u001b[0m\u001b[0;34m,\u001b[0m \u001b[0mloss\u001b[0m\u001b[0;34m]\u001b[0m\u001b[0;34m,\u001b[0m \u001b[0mfeed_dict\u001b[0m\u001b[0;34m=\u001b[0m\u001b[0;34m{\u001b[0m\u001b[0mMSA\u001b[0m\u001b[0;34m:\u001b[0m \u001b[0mmsa_g\u001b[0m\u001b[0;34m,\u001b[0m \u001b[0mMSA_MASKED\u001b[0m\u001b[0;34m:\u001b[0m \u001b[0mmsa_i\u001b[0m\u001b[0;34m,\u001b[0m \u001b[0mMASK\u001b[0m\u001b[0;34m:\u001b[0m\u001b[0mmask_i\u001b[0m\u001b[0;34m,\u001b[0m \u001b[0mis_train\u001b[0m\u001b[0;34m:\u001b[0m\u001b[0;32mTrue\u001b[0m\u001b[0;34m}\u001b[0m\u001b[0;34m)\u001b[0m\u001b[0;34m\u001b[0m\u001b[0;34m\u001b[0m\u001b[0m\n\u001b[0m\u001b[1;32m     14\u001b[0m       \u001b[0mtotal_loss\u001b[0m \u001b[0;34m+=\u001b[0m \u001b[0mbatch_loss\u001b[0m\u001b[0;34m\u001b[0m\u001b[0;34m\u001b[0m\u001b[0m\n\u001b[1;32m     15\u001b[0m     \u001b[0;32mif\u001b[0m \u001b[0mi\u001b[0m \u001b[0;34m%\u001b[0m \u001b[0;36m10\u001b[0m \u001b[0;34m==\u001b[0m \u001b[0;36m0\u001b[0m\u001b[0;34m:\u001b[0m\u001b[0;34m\u001b[0m\u001b[0;34m\u001b[0m\u001b[0m\n",
            "\u001b[0;32m/usr/local/lib/python3.6/dist-packages/tensorflow/python/client/session.py\u001b[0m in \u001b[0;36mrun\u001b[0;34m(self, fetches, feed_dict, options, run_metadata)\u001b[0m\n\u001b[1;32m    948\u001b[0m     \u001b[0;32mtry\u001b[0m\u001b[0;34m:\u001b[0m\u001b[0;34m\u001b[0m\u001b[0;34m\u001b[0m\u001b[0m\n\u001b[1;32m    949\u001b[0m       result = self._run(None, fetches, feed_dict, options_ptr,\n\u001b[0;32m--> 950\u001b[0;31m                          run_metadata_ptr)\n\u001b[0m\u001b[1;32m    951\u001b[0m       \u001b[0;32mif\u001b[0m \u001b[0mrun_metadata\u001b[0m\u001b[0;34m:\u001b[0m\u001b[0;34m\u001b[0m\u001b[0;34m\u001b[0m\u001b[0m\n\u001b[1;32m    952\u001b[0m         \u001b[0mproto_data\u001b[0m \u001b[0;34m=\u001b[0m \u001b[0mtf_session\u001b[0m\u001b[0;34m.\u001b[0m\u001b[0mTF_GetBuffer\u001b[0m\u001b[0;34m(\u001b[0m\u001b[0mrun_metadata_ptr\u001b[0m\u001b[0;34m)\u001b[0m\u001b[0;34m\u001b[0m\u001b[0;34m\u001b[0m\u001b[0m\n",
            "\u001b[0;32m/usr/local/lib/python3.6/dist-packages/tensorflow/python/client/session.py\u001b[0m in \u001b[0;36m_run\u001b[0;34m(self, handle, fetches, feed_dict, options, run_metadata)\u001b[0m\n\u001b[1;32m   1171\u001b[0m     \u001b[0;32mif\u001b[0m \u001b[0mfinal_fetches\u001b[0m \u001b[0;32mor\u001b[0m \u001b[0mfinal_targets\u001b[0m \u001b[0;32mor\u001b[0m \u001b[0;34m(\u001b[0m\u001b[0mhandle\u001b[0m \u001b[0;32mand\u001b[0m \u001b[0mfeed_dict_tensor\u001b[0m\u001b[0;34m)\u001b[0m\u001b[0;34m:\u001b[0m\u001b[0;34m\u001b[0m\u001b[0;34m\u001b[0m\u001b[0m\n\u001b[1;32m   1172\u001b[0m       results = self._do_run(handle, final_targets, final_fetches,\n\u001b[0;32m-> 1173\u001b[0;31m                              feed_dict_tensor, options, run_metadata)\n\u001b[0m\u001b[1;32m   1174\u001b[0m     \u001b[0;32melse\u001b[0m\u001b[0;34m:\u001b[0m\u001b[0;34m\u001b[0m\u001b[0;34m\u001b[0m\u001b[0m\n\u001b[1;32m   1175\u001b[0m       \u001b[0mresults\u001b[0m \u001b[0;34m=\u001b[0m \u001b[0;34m[\u001b[0m\u001b[0;34m]\u001b[0m\u001b[0;34m\u001b[0m\u001b[0;34m\u001b[0m\u001b[0m\n",
            "\u001b[0;32m/usr/local/lib/python3.6/dist-packages/tensorflow/python/client/session.py\u001b[0m in \u001b[0;36m_do_run\u001b[0;34m(self, handle, target_list, fetch_list, feed_dict, options, run_metadata)\u001b[0m\n\u001b[1;32m   1348\u001b[0m     \u001b[0;32mif\u001b[0m \u001b[0mhandle\u001b[0m \u001b[0;32mis\u001b[0m \u001b[0;32mNone\u001b[0m\u001b[0;34m:\u001b[0m\u001b[0;34m\u001b[0m\u001b[0;34m\u001b[0m\u001b[0m\n\u001b[1;32m   1349\u001b[0m       return self._do_call(_run_fn, feeds, fetches, targets, options,\n\u001b[0;32m-> 1350\u001b[0;31m                            run_metadata)\n\u001b[0m\u001b[1;32m   1351\u001b[0m     \u001b[0;32melse\u001b[0m\u001b[0;34m:\u001b[0m\u001b[0;34m\u001b[0m\u001b[0;34m\u001b[0m\u001b[0m\n\u001b[1;32m   1352\u001b[0m       \u001b[0;32mreturn\u001b[0m \u001b[0mself\u001b[0m\u001b[0;34m.\u001b[0m\u001b[0m_do_call\u001b[0m\u001b[0;34m(\u001b[0m\u001b[0m_prun_fn\u001b[0m\u001b[0;34m,\u001b[0m \u001b[0mhandle\u001b[0m\u001b[0;34m,\u001b[0m \u001b[0mfeeds\u001b[0m\u001b[0;34m,\u001b[0m \u001b[0mfetches\u001b[0m\u001b[0;34m)\u001b[0m\u001b[0;34m\u001b[0m\u001b[0;34m\u001b[0m\u001b[0m\n",
            "\u001b[0;32m/usr/local/lib/python3.6/dist-packages/tensorflow/python/client/session.py\u001b[0m in \u001b[0;36m_do_call\u001b[0;34m(self, fn, *args)\u001b[0m\n\u001b[1;32m   1354\u001b[0m   \u001b[0;32mdef\u001b[0m \u001b[0m_do_call\u001b[0m\u001b[0;34m(\u001b[0m\u001b[0mself\u001b[0m\u001b[0;34m,\u001b[0m \u001b[0mfn\u001b[0m\u001b[0;34m,\u001b[0m \u001b[0;34m*\u001b[0m\u001b[0margs\u001b[0m\u001b[0;34m)\u001b[0m\u001b[0;34m:\u001b[0m\u001b[0;34m\u001b[0m\u001b[0;34m\u001b[0m\u001b[0m\n\u001b[1;32m   1355\u001b[0m     \u001b[0;32mtry\u001b[0m\u001b[0;34m:\u001b[0m\u001b[0;34m\u001b[0m\u001b[0;34m\u001b[0m\u001b[0m\n\u001b[0;32m-> 1356\u001b[0;31m       \u001b[0;32mreturn\u001b[0m \u001b[0mfn\u001b[0m\u001b[0;34m(\u001b[0m\u001b[0;34m*\u001b[0m\u001b[0margs\u001b[0m\u001b[0;34m)\u001b[0m\u001b[0;34m\u001b[0m\u001b[0;34m\u001b[0m\u001b[0m\n\u001b[0m\u001b[1;32m   1357\u001b[0m     \u001b[0;32mexcept\u001b[0m \u001b[0merrors\u001b[0m\u001b[0;34m.\u001b[0m\u001b[0mOpError\u001b[0m \u001b[0;32mas\u001b[0m \u001b[0me\u001b[0m\u001b[0;34m:\u001b[0m\u001b[0;34m\u001b[0m\u001b[0;34m\u001b[0m\u001b[0m\n\u001b[1;32m   1358\u001b[0m       \u001b[0mmessage\u001b[0m \u001b[0;34m=\u001b[0m \u001b[0mcompat\u001b[0m\u001b[0;34m.\u001b[0m\u001b[0mas_text\u001b[0m\u001b[0;34m(\u001b[0m\u001b[0me\u001b[0m\u001b[0;34m.\u001b[0m\u001b[0mmessage\u001b[0m\u001b[0;34m)\u001b[0m\u001b[0;34m\u001b[0m\u001b[0;34m\u001b[0m\u001b[0m\n",
            "\u001b[0;32m/usr/local/lib/python3.6/dist-packages/tensorflow/python/client/session.py\u001b[0m in \u001b[0;36m_run_fn\u001b[0;34m(feed_dict, fetch_list, target_list, options, run_metadata)\u001b[0m\n\u001b[1;32m   1339\u001b[0m       \u001b[0mself\u001b[0m\u001b[0;34m.\u001b[0m\u001b[0m_extend_graph\u001b[0m\u001b[0;34m(\u001b[0m\u001b[0;34m)\u001b[0m\u001b[0;34m\u001b[0m\u001b[0;34m\u001b[0m\u001b[0m\n\u001b[1;32m   1340\u001b[0m       return self._call_tf_sessionrun(\n\u001b[0;32m-> 1341\u001b[0;31m           options, feed_dict, fetch_list, target_list, run_metadata)\n\u001b[0m\u001b[1;32m   1342\u001b[0m \u001b[0;34m\u001b[0m\u001b[0m\n\u001b[1;32m   1343\u001b[0m     \u001b[0;32mdef\u001b[0m \u001b[0m_prun_fn\u001b[0m\u001b[0;34m(\u001b[0m\u001b[0mhandle\u001b[0m\u001b[0;34m,\u001b[0m \u001b[0mfeed_dict\u001b[0m\u001b[0;34m,\u001b[0m \u001b[0mfetch_list\u001b[0m\u001b[0;34m)\u001b[0m\u001b[0;34m:\u001b[0m\u001b[0;34m\u001b[0m\u001b[0;34m\u001b[0m\u001b[0m\n",
            "\u001b[0;32m/usr/local/lib/python3.6/dist-packages/tensorflow/python/client/session.py\u001b[0m in \u001b[0;36m_call_tf_sessionrun\u001b[0;34m(self, options, feed_dict, fetch_list, target_list, run_metadata)\u001b[0m\n\u001b[1;32m   1427\u001b[0m     return tf_session.TF_SessionRun_wrapper(\n\u001b[1;32m   1428\u001b[0m         \u001b[0mself\u001b[0m\u001b[0;34m.\u001b[0m\u001b[0m_session\u001b[0m\u001b[0;34m,\u001b[0m \u001b[0moptions\u001b[0m\u001b[0;34m,\u001b[0m \u001b[0mfeed_dict\u001b[0m\u001b[0;34m,\u001b[0m \u001b[0mfetch_list\u001b[0m\u001b[0;34m,\u001b[0m \u001b[0mtarget_list\u001b[0m\u001b[0;34m,\u001b[0m\u001b[0;34m\u001b[0m\u001b[0;34m\u001b[0m\u001b[0m\n\u001b[0;32m-> 1429\u001b[0;31m         run_metadata)\n\u001b[0m\u001b[1;32m   1430\u001b[0m \u001b[0;34m\u001b[0m\u001b[0m\n\u001b[1;32m   1431\u001b[0m   \u001b[0;32mdef\u001b[0m \u001b[0m_call_tf_sessionprun\u001b[0m\u001b[0;34m(\u001b[0m\u001b[0mself\u001b[0m\u001b[0;34m,\u001b[0m \u001b[0mhandle\u001b[0m\u001b[0;34m,\u001b[0m \u001b[0mfeed_dict\u001b[0m\u001b[0;34m,\u001b[0m \u001b[0mfetch_list\u001b[0m\u001b[0;34m)\u001b[0m\u001b[0;34m:\u001b[0m\u001b[0;34m\u001b[0m\u001b[0;34m\u001b[0m\u001b[0m\n",
            "\u001b[0;31mKeyboardInterrupt\u001b[0m: "
          ]
        }
      ]
    },
    {
      "cell_type": "code",
      "metadata": {
        "id": "8YMNeXZaqJOO",
        "colab_type": "code",
        "colab": {}
      },
      "source": [
        "W = weights_[0]"
      ],
      "execution_count": 0,
      "outputs": []
    },
    {
      "cell_type": "code",
      "metadata": {
        "id": "ogCdTDeDrTII",
        "colab_type": "code",
        "outputId": "b73104ed-3cdf-4593-a6c7-00a8b5a3ccae",
        "colab": {
          "base_uri": "https://localhost:8080/",
          "height": 34
        }
      },
      "source": [
        "from sklearn.manifold import TSNE\n",
        "W_embedded = TSNE(n_components=2, perplexity=3).fit_transform(W.T)\n",
        "W_embedded.shape"
      ],
      "execution_count": 0,
      "outputs": [
        {
          "output_type": "execute_result",
          "data": {
            "text/plain": [
              "(22, 2)"
            ]
          },
          "metadata": {
            "tags": []
          },
          "execution_count": 18
        }
      ]
    },
    {
      "cell_type": "code",
      "metadata": {
        "id": "EOsk1lLUrtpF",
        "colab_type": "code",
        "outputId": "9a29c952-2795-4b16-bd79-1964f211ca2b",
        "colab": {
          "base_uri": "https://localhost:8080/",
          "height": 269
        }
      },
      "source": [
        "fig, ax = plt.subplots()\n",
        "ax.scatter(W_embedded[:,0], W_embedded[:,1])\n",
        "\n",
        "k=0\n",
        "for i in \"ARNDCQEGHILKMFPSTWYV-*\":\n",
        "  ax.annotate(i, (W_embedded[k,0], W_embedded[k,1]+10.0))\n",
        "  k += 1"
      ],
      "execution_count": 0,
      "outputs": [
        {
          "output_type": "display_data",
          "data": {
            "image/png": "[encoded data removed]",
            "text/plain": [
              "<Figure size 432x288 with 1 Axes>"
            ]
          },
          "metadata": {
            "tags": []
          }
        }
      ]
    },
    {
      "cell_type": "code",
      "metadata": {
        "id": "6S0rU2MIsSGH",
        "colab_type": "code",
        "colab": {}
      },
      "source": [
        "import umap"
      ],
      "execution_count": 0,
      "outputs": []
    },
    {
      "cell_type": "code",
      "metadata": {
        "id": "rf78zgcdsOdN",
        "colab_type": "code",
        "colab": {}
      },
      "source": [
        "W_embedded = umap.UMAP(\n",
        "    n_neighbors=4,\n",
        "    min_dist=0.0,\n",
        "    n_components=2,\n",
        "    random_state=0,\n",
        ").fit_transform(W.T)"
      ],
      "execution_count": 0,
      "outputs": []
    },
    {
      "cell_type": "code",
      "metadata": {
        "id": "AjxU0h9Js8-J",
        "colab_type": "code",
        "outputId": "12f77a28-ee02-46b8-b000-324f047ad9d2",
        "colab": {
          "base_uri": "https://localhost:8080/",
          "height": 269
        }
      },
      "source": [
        "fig, ax = plt.subplots()\n",
        "ax.scatter(W_embedded[:,0], W_embedded[:,1])\n",
        "\n",
        "k=0\n",
        "for i in \"ARNDCQEGHILKMFPSTWYV-*\":\n",
        "  ax.annotate(i, (W_embedded[k,0], W_embedded[k,1]+0.1))\n",
        "  k += 1"
      ],
      "execution_count": 0,
      "outputs": [
        {
          "output_type": "display_data",
          "data": {
            "image/png": "[encoded data removed]",
            "text/plain": [
              "<Figure size 432x288 with 1 Axes>"
            ]
          },
          "metadata": {
            "tags": []
          }
        }
      ]
    },
    {
      "cell_type": "code",
      "metadata": {
        "id": "ikGWvZ0DzBKS",
        "colab_type": "code",
        "outputId": "29096389-e6c2-4906-c73b-bafd27322778",
        "colab": {
          "base_uri": "https://localhost:8080/",
          "height": 34
        }
      },
      "source": [
        "O_.shape"
      ],
      "execution_count": 0,
      "outputs": [
        {
          "output_type": "execute_result",
          "data": {
            "text/plain": [
              "(2025, 60, 22)"
            ]
          },
          "metadata": {
            "tags": []
          },
          "execution_count": 97
        }
      ]
    },
    {
      "cell_type": "code",
      "metadata": {
        "id": "xEZ1vi_OzDTd",
        "colab_type": "code",
        "outputId": "b96dd3fc-431f-45a3-d8a4-37412a268d36",
        "colab": {
          "base_uri": "https://localhost:8080/",
          "height": 34
        }
      },
      "source": [
        "attn_weights_.shape"
      ],
      "execution_count": 0,
      "outputs": [
        {
          "output_type": "execute_result",
          "data": {
            "text/plain": [
              "(2025, 10, 60, 60)"
            ]
          },
          "metadata": {
            "tags": []
          },
          "execution_count": 98
        }
      ]
    },
    {
      "cell_type": "code",
      "metadata": {
        "id": "-PUnWbj5zSIj",
        "colab_type": "code",
        "outputId": "a26b16f7-9d62-4e27-cffd-a00033b0ceec",
        "colab": {
          "base_uri": "https://localhost:8080/",
          "height": 286
        }
      },
      "source": [
        "plt.imshow(attn_weights_[0,8,:,:]+attn_weights_[0,8,:,:].T)"
      ],
      "execution_count": 0,
      "outputs": [
        {
          "output_type": "execute_result",
          "data": {
            "text/plain": [
              "<matplotlib.image.AxesImage at 0x7f5ce123af98>"
            ]
          },
          "metadata": {
            "tags": []
          },
          "execution_count": 117
        },
        {
          "output_type": "display_data",
          "data": {
            "image/png": "[encoded data removed]",
            "text/plain": [
              "<Figure size 432x288 with 1 Axes>"
            ]
          },
          "metadata": {
            "tags": []
          }
        }
      ]
    },
    {
      "cell_type": "code",
      "metadata": {
        "id": "_MUCFrJyshvf",
        "colab_type": "code",
        "outputId": "bf23106e-02d8-4ad5-9a78-7dc6d5477104",
        "colab": {
          "base_uri": "https://localhost:8080/",
          "height": 286
        }
      },
      "source": [
        "plt.imshow(np.mean(attn_weights_, axis=(0,1))[:,:]+np.mean(attn_weights_, axis=(0,1))[:,:].T)"
      ],
      "execution_count": 0,
      "outputs": [
        {
          "output_type": "execute_result",
          "data": {
            "text/plain": [
              "<matplotlib.image.AxesImage at 0x7f7f13a689b0>"
            ]
          },
          "metadata": {
            "tags": []
          },
          "execution_count": 350
        },
        {
          "output_type": "display_data",
          "data": {
            "image/png": "[encoded data removed]",
            "text/plain": [
              "<Figure size 432x288 with 1 Axes>"
            ]
          },
          "metadata": {
            "tags": []
          }
        }
      ]
    },
    {
      "cell_type": "code",
      "metadata": {
        "id": "MxUqNUDGtdvb",
        "colab_type": "code",
        "outputId": "585fb17d-638e-4ec4-89a4-ba739cd17b11",
        "colab": {
          "base_uri": "https://localhost:8080/",
          "height": 286
        }
      },
      "source": [
        "plt.imshow(attn_weights_[0,1,:,:])"
      ],
      "execution_count": 0,
      "outputs": [
        {
          "output_type": "execute_result",
          "data": {
            "text/plain": [
              "<matplotlib.image.AxesImage at 0x7f7f154a39b0>"
            ]
          },
          "metadata": {
            "tags": []
          },
          "execution_count": 334
        },
        {
          "output_type": "display_data",
          "data": {
            "image/png": "[encoded data removed]",
            "text/plain": [
              "<Figure size 432x288 with 1 Axes>"
            ]
          },
          "metadata": {
            "tags": []
          }
        }
      ]
    },
    {
      "cell_type": "code",
      "metadata": {
        "id": "bwpCBtVdtgM2",
        "colab_type": "code",
        "outputId": "37d6149f-2196-43d2-e806-789877c3f2d8",
        "colab": {
          "base_uri": "https://localhost:8080/",
          "height": 286
        }
      },
      "source": [
        "plt.imshow(attn_weights_[0,2,:,:])"
      ],
      "execution_count": 0,
      "outputs": [
        {
          "output_type": "execute_result",
          "data": {
            "text/plain": [
              "<matplotlib.image.AxesImage at 0x7f7f15553080>"
            ]
          },
          "metadata": {
            "tags": []
          },
          "execution_count": 335
        },
        {
          "output_type": "display_data",
          "data": {
            "image/png": "[encoded data removed]",
            "text/plain": [
              "<Figure size 432x288 with 1 Axes>"
            ]
          },
          "metadata": {
            "tags": []
          }
        }
      ]
    },
    {
      "cell_type": "code",
      "metadata": {
        "id": "cN8Y3eDxtiWG",
        "colab_type": "code",
        "outputId": "279b5a9d-6eec-42fa-9a74-7865b0f7bab6",
        "colab": {
          "base_uri": "https://localhost:8080/",
          "height": 286
        }
      },
      "source": [
        "plt.imshow(attn_weights_[0,3,:,:])"
      ],
      "execution_count": 0,
      "outputs": [
        {
          "output_type": "execute_result",
          "data": {
            "text/plain": [
              "<matplotlib.image.AxesImage at 0x7f7f1563c710>"
            ]
          },
          "metadata": {
            "tags": []
          },
          "execution_count": 336
        },
        {
          "output_type": "display_data",
          "data": {
            "image/png": "[encoded data removed]",
            "text/plain": [
              "<Figure size 432x288 with 1 Axes>"
            ]
          },
          "metadata": {
            "tags": []
          }
        }
      ]
    },
    {
      "cell_type": "code",
      "metadata": {
        "id": "uAl1qJX2tmGW",
        "colab_type": "code",
        "outputId": "35671178-59a6-4667-8f6f-e8665f4f352b",
        "colab": {
          "base_uri": "https://localhost:8080/",
          "height": 286
        }
      },
      "source": [
        "plt.imshow(attn_weights_[0,4,:,:])"
      ],
      "execution_count": 0,
      "outputs": [
        {
          "output_type": "execute_result",
          "data": {
            "text/plain": [
              "<matplotlib.image.AxesImage at 0x7f7f15491da0>"
            ]
          },
          "metadata": {
            "tags": []
          },
          "execution_count": 337
        },
        {
          "output_type": "display_data",
          "data": {
            "image/png": "[encoded data removed]",
            "text/plain": [
              "<Figure size 432x288 with 1 Axes>"
            ]
          },
          "metadata": {
            "tags": []
          }
        }
      ]
    },
    {
      "cell_type": "code",
      "metadata": {
        "id": "-sbEOAEBto7I",
        "colab_type": "code",
        "outputId": "2ee48118-2d59-4f09-b620-54b9ea9ca88d",
        "colab": {
          "base_uri": "https://localhost:8080/",
          "height": 286
        }
      },
      "source": [
        "plt.imshow(attn_weights_[0,5,:,:])"
      ],
      "execution_count": 0,
      "outputs": [
        {
          "output_type": "execute_result",
          "data": {
            "text/plain": [
              "<matplotlib.image.AxesImage at 0x7f7f153ee470>"
            ]
          },
          "metadata": {
            "tags": []
          },
          "execution_count": 338
        },
        {
          "output_type": "display_data",
          "data": {
            "image/png": "[encoded data removed]",
            "text/plain": [
              "<Figure size 432x288 with 1 Axes>"
            ]
          },
          "metadata": {
            "tags": []
          }
        }
      ]
    },
    {
      "cell_type": "code",
      "metadata": {
        "id": "JpOB5CyKYGGi",
        "colab_type": "code",
        "colab": {}
      },
      "source": [
        "Embd = np.exp(O_)/np.sum(np.exp(O_), axis=-1)[...,np.newaxis]"
      ],
      "execution_count": 0,
      "outputs": []
    },
    {
      "cell_type": "code",
      "metadata": {
        "id": "cYhM_Ta5kHMw",
        "colab_type": "code",
        "outputId": "d92862be-7d24-43a3-926a-127a6760a98d",
        "colab": {
          "base_uri": "https://localhost:8080/",
          "height": 34
        }
      },
      "source": [
        "Embd.shape"
      ],
      "execution_count": 0,
      "outputs": [
        {
          "output_type": "execute_result",
          "data": {
            "text/plain": [
              "(2025, 60, 22)"
            ]
          },
          "metadata": {
            "tags": []
          },
          "execution_count": 31
        }
      ]
    },
    {
      "cell_type": "code",
      "metadata": {
        "id": "CqyU7T7JRSFI",
        "colab_type": "code",
        "colab": {}
      },
      "source": [
        "entropy = -np.sum(Embd * np.log(Embd), axis=-1)"
      ],
      "execution_count": 0,
      "outputs": []
    },
    {
      "cell_type": "code",
      "metadata": {
        "id": "JOQzIR88Rbjo",
        "colab_type": "code",
        "outputId": "a999d8bd-a485-4427-9edf-448a0e7a5a7e",
        "colab": {
          "base_uri": "https://localhost:8080/",
          "height": 34
        }
      },
      "source": [
        "entropy.shape"
      ],
      "execution_count": 0,
      "outputs": [
        {
          "output_type": "execute_result",
          "data": {
            "text/plain": [
              "(2025, 60)"
            ]
          },
          "metadata": {
            "tags": []
          },
          "execution_count": 33
        }
      ]
    },
    {
      "cell_type": "code",
      "metadata": {
        "id": "K-iEtwnYSHye",
        "colab_type": "code",
        "outputId": "3372f190-d172-4ff2-f8f0-5b485aaaab1d",
        "colab": {
          "base_uri": "https://localhost:8080/",
          "height": 34
        }
      },
      "source": [
        "np.max(entropy)"
      ],
      "execution_count": 0,
      "outputs": [
        {
          "output_type": "execute_result",
          "data": {
            "text/plain": [
              "2.618532"
            ]
          },
          "metadata": {
            "tags": []
          },
          "execution_count": 34
        }
      ]
    },
    {
      "cell_type": "code",
      "metadata": {
        "id": "3iaXXptZz3o4",
        "colab_type": "code",
        "outputId": "5243a49d-7dc3-48e5-9f16-99c29b48c56f",
        "colab": {
          "base_uri": "https://localhost:8080/",
          "height": 34
        }
      },
      "source": [
        "Embd.shape"
      ],
      "execution_count": 0,
      "outputs": [
        {
          "output_type": "execute_result",
          "data": {
            "text/plain": [
              "(2025, 60, 22)"
            ]
          },
          "metadata": {
            "tags": []
          },
          "execution_count": 35
        }
      ]
    },
    {
      "cell_type": "code",
      "metadata": {
        "id": "4fJc7Pugz8UB",
        "colab_type": "code",
        "colab": {}
      },
      "source": [
        "Embd1 = np.reshape(Embd, newshape=(2025,-1))"
      ],
      "execution_count": 0,
      "outputs": []
    },
    {
      "cell_type": "code",
      "metadata": {
        "id": "ppsiqS9f0GNO",
        "colab_type": "code",
        "colab": {}
      },
      "source": [
        "C = np.cov(Embd1.T)"
      ],
      "execution_count": 0,
      "outputs": []
    },
    {
      "cell_type": "code",
      "metadata": {
        "id": "ADmxf2-L0I3q",
        "colab_type": "code",
        "outputId": "c331a6a6-dd5c-4311-d48b-7ee73c868741",
        "colab": {
          "base_uri": "https://localhost:8080/",
          "height": 34
        }
      },
      "source": [
        "C.shape"
      ],
      "execution_count": 0,
      "outputs": [
        {
          "output_type": "execute_result",
          "data": {
            "text/plain": [
              "(1320, 1320)"
            ]
          },
          "metadata": {
            "tags": []
          },
          "execution_count": 38
        }
      ]
    },
    {
      "cell_type": "code",
      "metadata": {
        "id": "tzVOwAtJ0NvJ",
        "colab_type": "code",
        "colab": {}
      },
      "source": [
        "C_inv = np.linalg.pinv(C)"
      ],
      "execution_count": 0,
      "outputs": []
    },
    {
      "cell_type": "code",
      "metadata": {
        "id": "pmZ727cD0a3j",
        "colab_type": "code",
        "outputId": "072707e5-0fd0-40cc-ee96-522353f2a5af",
        "colab": {
          "base_uri": "https://localhost:8080/",
          "height": 34
        }
      },
      "source": [
        "C_inv.shape"
      ],
      "execution_count": 0,
      "outputs": [
        {
          "output_type": "execute_result",
          "data": {
            "text/plain": [
              "(1320, 1320)"
            ]
          },
          "metadata": {
            "tags": []
          },
          "execution_count": 44
        }
      ]
    },
    {
      "cell_type": "code",
      "metadata": {
        "id": "SyyMb4ev0XSP",
        "colab_type": "code",
        "colab": {}
      },
      "source": [
        "WC = np.reshape(C_inv, newshape=(1320, 60, 22))"
      ],
      "execution_count": 0,
      "outputs": []
    },
    {
      "cell_type": "code",
      "metadata": {
        "id": "6TTCFQsn01ru",
        "colab_type": "code",
        "colab": {}
      },
      "source": [
        "WC = np.reshape(WC, newshape=(60,22, 60, 22))"
      ],
      "execution_count": 0,
      "outputs": []
    },
    {
      "cell_type": "code",
      "metadata": {
        "id": "Zy1pOeZBSGKW",
        "colab_type": "code",
        "outputId": "368e9d27-e44f-4c32-800b-270963125c17",
        "colab": {
          "base_uri": "https://localhost:8080/",
          "height": 286
        }
      },
      "source": [
        "plt.plot(np.mean(entropy, axis=0))"
      ],
      "execution_count": 0,
      "outputs": [
        {
          "output_type": "execute_result",
          "data": {
            "text/plain": [
              "[<matplotlib.lines.Line2D at 0x7ffa6daefb00>]"
            ]
          },
          "metadata": {
            "tags": []
          },
          "execution_count": 40
        },
        {
          "output_type": "display_data",
          "data": {
            "image/png": "[encoded data removed]",
            "text/plain": [
              "<Figure size 432x288 with 1 Axes>"
            ]
          },
          "metadata": {
            "tags": []
          }
        }
      ]
    },
    {
      "cell_type": "code",
      "metadata": {
        "id": "l8yO3XoARdbw",
        "colab_type": "code",
        "outputId": "0b62def8-059d-4798-a000-6fcf0545f626",
        "colab": {
          "base_uri": "https://localhost:8080/",
          "height": 884
        }
      },
      "source": [
        "plt.figure(figsize=(10,15))\n",
        "plt.imshow(entropy[0:100, :])"
      ],
      "execution_count": 0,
      "outputs": [
        {
          "output_type": "execute_result",
          "data": {
            "text/plain": [
              "<matplotlib.image.AxesImage at 0x7ffa6dba03c8>"
            ]
          },
          "metadata": {
            "tags": []
          },
          "execution_count": 42
        },
        {
          "output_type": "display_data",
          "data": {
            "image/png": "[encoded data removed]",
            "text/plain": [
              "<Figure size 720x1080 with 1 Axes>"
            ]
          },
          "metadata": {
            "tags": []
          }
        }
      ]
    },
    {
      "cell_type": "markdown",
      "metadata": {
        "id": "7QPKncw40SsU",
        "colab_type": "text"
      },
      "source": [
        "# GREMLIN"
      ]
    },
    {
      "cell_type": "code",
      "metadata": {
        "id": "bYFxhwGoQxyT",
        "colab_type": "code",
        "colab": {}
      },
      "source": [
        "def GREMLIN_simple(msa_ori, embd, opt_iter=200):\n",
        "  \n",
        "  # collecting some information about input msa\n",
        "  nrow = msa_ori.shape[0] # number of sequences\n",
        "  ncol = msa_ori.shape[1] # length of sequence\n",
        "  states = 22 # number of states (or categories)\n",
        "\n",
        "  # kill any existing tensorflow graph\n",
        "  tf.reset_default_graph()\n",
        "\n",
        "  # setting up weights\n",
        "  b = tf.get_variable(\"b\", [ncol,states])\n",
        "  w = tf.get_variable(\"w\", [ncol,states,ncol,states], \n",
        "                      initializer=tf.initializers.zeros)\n",
        "\n",
        "  # symmetrize w\n",
        "  w = w * np.reshape(1-np.eye(ncol),(ncol,1,ncol,1))\n",
        "  w = w + tf.transpose(w,[2,3,0,1])\n",
        "  \n",
        "  # input\n",
        "  MSA_out = tf.placeholder(tf.float32,shape=(None,ncol,states),name=\"msa_out\")\n",
        "  MSA_inpt = tf.placeholder(tf.float32,shape=(None,ncol,states),name=\"msa_in\")\n",
        "  \n",
        "  # dense layer + softmax activation\n",
        "  MSA_pred = tf.nn.softmax(tf.tensordot(MSA_inpt,w,2)+b,-1)\n",
        "\n",
        "  # loss = categorical crossentropy (aka pseudo-likelihood)\n",
        "  loss = tf.reduce_sum(tf.keras.losses.categorical_crossentropy(MSA_out,MSA_pred))\n",
        "\n",
        "  # add L2 regularization\n",
        "  reg_b = 0.01 * tf.reduce_sum(tf.square(b))\n",
        "  reg_w = 0.01 * tf.reduce_sum(tf.square(w)) * 0.5 * (ncol-1) * (states-1)\n",
        "  loss = loss + reg_b + reg_w\n",
        "\n",
        "  # setup optimizer\n",
        "  learning_rate = 0.1 * np.log(nrow)/ncol\n",
        "  opt = tf.train.AdamOptimizer(learning_rate).minimize(loss)\n",
        "  \n",
        "  \n",
        "  \n",
        "  msa = tf.keras.utils.to_categorical(msa_ori, states)\n",
        "  # optimize!\n",
        "  with tf.Session() as sess:\n",
        "    sess.run(tf.global_variables_initializer())\n",
        "\n",
        "    # initialize bias\n",
        "    pc = 0.01 * np.log(nrow)\n",
        "    b_ini = np.log(np.sum(msa,0) + pc)\n",
        "    b_ini = b_ini - np.mean(b_ini,-1,keepdims=True)\n",
        "    sess.run(b.assign(b_ini))\n",
        "    \n",
        "    print(\"starting\",sess.run(loss,{MSA_inpt:msa, MSA_out:embd}))\n",
        "\n",
        "    for i in range(opt_iter):\n",
        "      sess.run(opt,{MSA_inpt:msa, MSA_out:embd})\n",
        "      if (i+1) % 10 == 0:\n",
        "        print((i+1),sess.run(loss,{MSA_inpt:msa, MSA_out:embd}))\n",
        "\n",
        "    # save the weights (aka V and W parameters of the MRF)\n",
        "    V = sess.run(b)\n",
        "    W = sess.run(w)\n",
        "  return(V,W) "
      ],
      "execution_count": 0,
      "outputs": []
    },
    {
      "cell_type": "code",
      "metadata": {
        "id": "BEnCFJg1XBaf",
        "colab_type": "code",
        "outputId": "09458129-3559-4654-b748-ef8f47850448",
        "colab": {
          "base_uri": "https://localhost:8080/",
          "height": 408
        }
      },
      "source": [
        "%%time\n",
        "V,W = GREMLIN_simple(msa_ori, Embd)"
      ],
      "execution_count": 0,
      "outputs": [
        {
          "output_type": "stream",
          "text": [
            "starting 149824.12\n",
            "10 96001.19\n",
            "20 89570.93\n",
            "30 87160.445\n",
            "40 86263.32\n",
            "50 85851.92\n",
            "60 85641.76\n",
            "70 85524.91\n",
            "80 85451.99\n",
            "90 85401.02\n",
            "100 85362.09\n",
            "110 85330.82\n",
            "120 85304.86\n",
            "130 85282.734\n",
            "140 85263.56\n",
            "150 85246.734\n",
            "160 85231.85\n",
            "170 85225.93\n",
            "180 85210.02\n",
            "190 85197.39\n",
            "200 85186.84\n",
            "CPU times: user 3.07 s, sys: 918 ms, total: 3.99 s\n",
            "Wall time: 3.76 s\n"
          ],
          "name": "stdout"
        }
      ]
    },
    {
      "cell_type": "markdown",
      "metadata": {
        "id": "2VYRfajHSgv1",
        "colab_type": "text"
      },
      "source": [
        "## get contacts"
      ]
    },
    {
      "cell_type": "code",
      "metadata": {
        "id": "XQyr3A1YI1R7",
        "colab_type": "code",
        "colab": {}
      },
      "source": [
        "W_Embd = np.einsum('ijk, irs -> jkrs', Embd, Embd)"
      ],
      "execution_count": 0,
      "outputs": []
    },
    {
      "cell_type": "code",
      "metadata": {
        "id": "h3X1rt34JSOQ",
        "colab_type": "code",
        "outputId": "4d883a70-b4de-40ca-e05e-793178e4aa8d",
        "colab": {
          "base_uri": "https://localhost:8080/",
          "height": 34
        }
      },
      "source": [
        "W_Embd.shape"
      ],
      "execution_count": 0,
      "outputs": [
        {
          "output_type": "execute_result",
          "data": {
            "text/plain": [
              "(60, 22, 60, 22)"
            ]
          },
          "metadata": {
            "tags": []
          },
          "execution_count": 46
        }
      ]
    },
    {
      "cell_type": "code",
      "metadata": {
        "id": "NawXy3oqJXdY",
        "colab_type": "code",
        "outputId": "ea43d075-e194-4401-c877-8be77849b6fd",
        "colab": {
          "base_uri": "https://localhost:8080/",
          "height": 34
        }
      },
      "source": [
        "W.shape"
      ],
      "execution_count": 0,
      "outputs": [
        {
          "output_type": "execute_result",
          "data": {
            "text/plain": [
              "(60, 22, 60, 22)"
            ]
          },
          "metadata": {
            "tags": []
          },
          "execution_count": 47
        }
      ]
    },
    {
      "cell_type": "code",
      "metadata": {
        "id": "QDXbxiyrHefY",
        "colab_type": "code",
        "outputId": "f4ba822b-24ce-4bff-f6d1-937ea02ad395",
        "colab": {
          "base_uri": "https://localhost:8080/",
          "height": 612
        }
      },
      "source": [
        "plt.figure(figsize=(5,10))\n",
        "plt.imshow(Embd[3,:,:])"
      ],
      "execution_count": 0,
      "outputs": [
        {
          "output_type": "execute_result",
          "data": {
            "text/plain": [
              "<matplotlib.image.AxesImage at 0x7ffa6e136e80>"
            ]
          },
          "metadata": {
            "tags": []
          },
          "execution_count": 48
        },
        {
          "output_type": "display_data",
          "data": {
            "image/png": "[encoded data removed]",
            "text/plain": [
              "<Figure size 360x720 with 1 Axes>"
            ]
          },
          "metadata": {
            "tags": []
          }
        }
      ]
    },
    {
      "cell_type": "code",
      "metadata": {
        "id": "9_voPdYuIHha",
        "colab_type": "code",
        "outputId": "11363928-4454-42c9-e80e-1b425edf7613",
        "colab": {
          "base_uri": "https://localhost:8080/",
          "height": 612
        }
      },
      "source": [
        "plt.figure(figsize=(5,10))\n",
        "plt.imshow(msa[3,:,:])"
      ],
      "execution_count": 0,
      "outputs": [
        {
          "output_type": "execute_result",
          "data": {
            "text/plain": [
              "<matplotlib.image.AxesImage at 0x7ffa6e1affd0>"
            ]
          },
          "metadata": {
            "tags": []
          },
          "execution_count": 50
        },
        {
          "output_type": "display_data",
          "data": {
            "image/png": "[encoded data removed]",
            "text/plain": [
              "<Figure size 360x720 with 1 Axes>"
            ]
          },
          "metadata": {
            "tags": []
          }
        }
      ]
    },
    {
      "cell_type": "code",
      "metadata": {
        "id": "mTw-NPuCSESQ",
        "colab_type": "code",
        "colab": {}
      },
      "source": [
        "def get_mtx(W):\n",
        "  # l2norm of 20x20 matrices (note: we ignore gaps)\n",
        "  raw = np.sqrt(np.sum(np.square(W[:,:-2,:,:-2]),(1,3)))\n",
        "\n",
        "  # apc (average product correction)\n",
        "  ap = np.sum(raw,0,keepdims=True)*np.sum(raw,1,keepdims=True)/np.sum(raw)\n",
        "  apc = raw - ap\n",
        "  np.fill_diagonal(apc,0)\n",
        "  \n",
        "  return(raw,apc)"
      ],
      "execution_count": 0,
      "outputs": []
    },
    {
      "cell_type": "code",
      "metadata": {
        "id": "XtmWDfDOGDea",
        "colab_type": "code",
        "outputId": "a8ace975-d732-45a7-9df8-4453106f601b",
        "colab": {
          "base_uri": "https://localhost:8080/",
          "height": 318
        }
      },
      "source": [
        "raw, apc = get_mtx(W)\n",
        "\n",
        "plt.figure(figsize=(10,5))\n",
        "plt.subplot(1,2,1)\n",
        "plt.imshow(raw)\n",
        "plt.grid(False)\n",
        "plt.title(\"raw\")\n",
        "plt.subplot(1,2,2)\n",
        "plt.imshow(apc)\n",
        "plt.grid(False)\n",
        "plt.title(\"apc\")\n",
        "plt.show()"
      ],
      "execution_count": 0,
      "outputs": [
        {
          "output_type": "display_data",
          "data": {
            "image/png": "[encoded data removed]",
            "text/plain": [
              "<Figure size 720x360 with 2 Axes>"
            ]
          },
          "metadata": {
            "tags": []
          }
        }
      ]
    },
    {
      "cell_type": "code",
      "metadata": {
        "id": "QmobOzWM0kXA",
        "colab_type": "code",
        "outputId": "588ca877-853b-479d-f80c-2d096ca7124c",
        "colab": {
          "base_uri": "https://localhost:8080/",
          "height": 318
        }
      },
      "source": [
        "raw, apc = get_mtx(WC)\n",
        "\n",
        "plt.figure(figsize=(10,5))\n",
        "plt.subplot(1,2,1)\n",
        "plt.imshow(raw)\n",
        "plt.grid(False)\n",
        "plt.title(\"raw\")\n",
        "plt.subplot(1,2,2)\n",
        "plt.imshow(apc)\n",
        "plt.grid(False)\n",
        "plt.title(\"apc\")\n",
        "plt.show()"
      ],
      "execution_count": 0,
      "outputs": [
        {
          "output_type": "display_data",
          "data": {
            "image/png": "[encoded data removed]",
            "text/plain": [
              "<Figure size 720x360 with 2 Axes>"
            ]
          },
          "metadata": {
            "tags": []
          }
        }
      ]
    },
    {
      "cell_type": "code",
      "metadata": {
        "id": "OpoTtupyJe94",
        "colab_type": "code",
        "outputId": "a4523a67-8948-4615-e16f-9c8fa7048e2b",
        "colab": {
          "base_uri": "https://localhost:8080/",
          "height": 612
        }
      },
      "source": [
        "plt.figure(figsize=(5,10))\n",
        "plt.imshow(V)"
      ],
      "execution_count": 0,
      "outputs": [
        {
          "output_type": "execute_result",
          "data": {
            "text/plain": [
              "<matplotlib.image.AxesImage at 0x7f7f1a24b710>"
            ]
          },
          "metadata": {
            "tags": []
          },
          "execution_count": 304
        },
        {
          "output_type": "display_data",
          "data": {
            "image/png": "[encoded data removed]",
            "text/plain": [
              "<Figure size 360x720 with 1 Axes>"
            ]
          },
          "metadata": {
            "tags": []
          }
        }
      ]
    },
    {
      "cell_type": "code",
      "metadata": {
        "id": "mhGukXkdhWCl",
        "colab_type": "code",
        "colab": {}
      },
      "source": [
        ""
      ],
      "execution_count": 0,
      "outputs": []
    }
  ]
}